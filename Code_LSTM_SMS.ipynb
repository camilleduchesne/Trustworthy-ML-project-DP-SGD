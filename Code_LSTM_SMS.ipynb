{
  "nbformat": 4,
  "nbformat_minor": 0,
  "metadata": {
    "colab": {
      "provenance": [],
      "collapsed_sections": [
        "GNfA36S3o93X",
        "nP5J_khULDHZ",
        "vfXq6_rvXbZx",
        "Voq6qIZy29i6",
        "8kA5i-OsM8Ny",
        "hHsWayqpSrJU",
        "NrPw-bGwUgY4",
        "V-PmM7AsBotz",
        "Zvz1meqApVHE",
        "IjBqONWsNQaj"
      ],
      "machine_shape": "hm"
    },
    "kernelspec": {
      "name": "python3",
      "display_name": "Python 3"
    },
    "language_info": {
      "name": "python"
    },
    "accelerator": "GPU",
    "gpuClass": "standard"
  },
  "cells": [
    {
      "cell_type": "markdown",
      "metadata": {
        "id": "GNfA36S3o93X"
      },
      "source": [
        "### **FUNCTIONS and Packages**"
      ]
    },
    {
      "cell_type": "code",
      "execution_count": null,
      "metadata": {
        "id": "ciuU7Ycro8P0"
      },
      "outputs": [],
      "source": [
        "def dataSplit(tup):\n",
        "    n = len(tup)\n",
        "    return tup[0 : (n - 1)]\n",
        "\n",
        "def labelSplit(tup):\n",
        "    n = len(tup)\n",
        "    return tup[n - 1]\n",
        "\n",
        "# get word from dictionary ID\n",
        "def getWord(d, i):\n",
        "    return list(d.keys())[list(d.values()).index(i)]\n",
        "\n",
        "#this function generates random numbers for the secret\n",
        "def generateSecret(length, size):\n",
        "    secret = \"\"\n",
        "    for i in range(length):\n",
        "        a = randint(0, size)\n",
        "        if a < 10:\n",
        "            a = \"0\" + str(a)\n",
        "        a = str(a)\n",
        "        secret = secret + a + \" \"\n",
        "    \n",
        "    return secret[:-1]\n",
        "\n",
        "#allows us to add every secret permutation to the \"test\" data set, allowing us to see what probability the model assigns to every value of r\n",
        "def enumerateSecrets(length, size, rid, pref):\n",
        "    d = []\n",
        "    \n",
        "    if length == 1:\n",
        "        for i in range(size):\n",
        "            a = pref + str(i)\n",
        "            d.append({'id' : rid,\n",
        "                      'text' : a,\n",
        "                      'noPunc' : a,\n",
        "                      'splchk' : a})\n",
        "            rid += 1\n",
        "    \n",
        "    if length == 2:\n",
        "        for i in range(size):\n",
        "            a = pref + str(i)\n",
        "            for j in range(size):\n",
        "                b = a + \" \" + str(j)\n",
        "                d.append({'id' : rid,\n",
        "                          'text' : b,\n",
        "                          'noPunc' : b,\n",
        "                          'splchk' : b})\n",
        "                rid += 1\n",
        "                \n",
        "    return d, rid\n",
        "\n",
        "def numericProbs(x, size, dictionary, gramSize, model, index): \n",
        "  #for gramsize then we give seqLength to the function\n",
        "    xn = np.zeros((1, gramSize), dtype = float)\n",
        "    for k in range(gramSize):\n",
        "      # this produce one vector of size 4 in our case (seqlength) and fill it with values of xt for the index we specify\n",
        "        xn[0][k] = x[index][k]\n",
        "\n",
        "#this p0 returns a vector the same size as dict and give prob for the next word among these words in dict\n",
        "    p0 = model.predict(xn)[0]\n",
        "    \n",
        " #here we create numericprobs vec which is vector of length 100 which is the numbers that we can have in random secret\n",
        "    numericProbs = np.zeros((size), dtype = float)\n",
        "    \n",
        "    for j in range(size):\n",
        "        a = str(j)\n",
        "        #here we will find each number's value between 0 to 99 in the dct and then we will find its prob in p0 to be the next predicted word\n",
        "#         # so in numeric probs we have a vector of length 100 and probs for each number to be the next word\n",
        "        numericProbs[j] = p0[dictionary[a]]\n",
        "        \n",
        "    return numericProbs"
      ]
    },
    {
      "cell_type": "code",
      "execution_count": null,
      "metadata": {
        "id": "FktCIKgUIgGS"
      },
      "outputs": [],
      "source": [
        "#cleaning\n",
        "import numpy as np\n",
        "import re\n",
        "from random import randint\n",
        "\n",
        "def cleanSMS(sms):\n",
        "    \n",
        "    # leetspeak\n",
        "    sms = re.sub(\"[\\.,]\", \" \", sms)\n",
        "    sms = re.sub(\" {2,}\", \" \", sms)\n",
        "    sms = re.sub(\" 2 \", \" to \", sms)\n",
        "    sms = re.sub(\" 4 | fr \", \" for \", sms)\n",
        "    \n",
        "    sms = re.sub(\" abt \", \" about \", sms)\n",
        "    sms = re.sub(\" aft \", \" after \", sms)\n",
        "    sms = re.sub(\" ard \", \" around \", sms)\n",
        "    \n",
        "    sms = re.sub(\" ar \", \" all right \", sms)\n",
        "    sms = re.sub(\" ar$\", \" all right\", sms)\n",
        "    \n",
        "    sms = re.sub(\" b \", \" be \", sms)\n",
        "    sms = re.sub(\" bcz \", \" because \", sms)\n",
        "    sms = re.sub(\" bday \", \" birthday\", sms)\n",
        "    sms = re.sub(\" brin \", \" bring \", sms)\n",
        "    \n",
        "    sms = re.sub(\" btw \", \" by the way \", sms)\n",
        "    sms = re.sub(\" btw$\", \" by the way\", sms)\n",
        "    \n",
        "    sms = re.sub(\" buk \", \" book \", sms)\n",
        "    \n",
        "    sms = re.sub(\" c \", \" see \", sms)\n",
        "    sms = re.sub(\"^c \", \"see \", sms)\n",
        "    \n",
        "    sms = re.sub(\" coz | cuz | cos \", \" cause \", sms)\n",
        "    sms = re.sub(\"^coz |^cuz |^cos \", \"cause \", sms)\n",
        "    \n",
        "    sms = re.sub(\" da \", \" the \", sms)\n",
        "    sms = re.sub(\" dat \", \" that \", sms)\n",
        "    \n",
        "    sms = re.sub(\" den \", \" then \", sms)\n",
        "    sms = re.sub(\"^den \", \"then \", sms)\n",
        "    sms = re.sub(\" den$\", \" then\", sms)\n",
        "    \n",
        "    sms = re.sub(\" dint? \", \" did not \", sms)\n",
        "    \n",
        "    sms = re.sub(\" dis \", \" this \", sms)\n",
        "    sms = re.sub(\" dis$\", \" this\", sms)\n",
        "    \n",
        "    sms = re.sub(\" dem | dm \", \" them \", sms)\n",
        "    sms = re.sub(\" dey \", \" they \", sms)\n",
        "    sms = re.sub(\"^dey \", \"they \", sms)\n",
        "    sms = re.sub(\" dnt \", \" do not \", sms)\n",
        "    \n",
        "    sms = re.sub(\" dun | don \", \" do not \", sms)\n",
        "    sms = re.sub(\"^dun |^don \", \"do not \", sms)\n",
        "    sms = re.sub(\" dun$| don$\", \" do not\", sms)\n",
        "    \n",
        "    sms = re.sub(\" e \", \" the \", sms)\n",
        "    sms = re.sub(\" esp \" , \" especially \", sms)\n",
        "    sms = re.sub(\" enuff \", \" enough \", sms)\n",
        "    sms = re.sub(\" frens \", \" friends \", sms)\n",
        "    \n",
        "    sms = re.sub(\" fren \" , \" friend \", sms)\n",
        "    sms = re.sub(\" fren$\", \" fren\", sms)\n",
        "    \n",
        "    sms = re.sub(\" frm \", \" from \", sms)\n",
        "    \n",
        "    sms = re.sub(\" gd \", \" good \", sms)\n",
        "    sms = re.sub(\"^gd \", \"good \", sms)\n",
        "    sms = re.sub(\" gd$\", \" good\", sms)\n",
        "    \n",
        "    sms = re.sub(\" gn \", \" good night \", sms)\n",
        "    sms = re.sub(\"^gn \", \"good night \", sms)\n",
        "    sms = re.sub(\" gn$\", \" good night\", sms)\n",
        "    \n",
        "    sms = re.sub(\"^hai \", \"hey \", sms)\n",
        "    \n",
        "    sms = re.sub(\" haf | hv | hav \", \" have \", sms)\n",
        "    sms = re.sub(\" haf$| hv$| hav$\", \" have\", sms)\n",
        "    \n",
        "    sms = re.sub(\" haven \", \" have not \", sms)\n",
        "    \n",
        "    sms = re.sub(\" hse \", \" house \", sms)\n",
        "    sms = re.sub(\" hse$\", \" house\", sms)\n",
        "    sms = re.sub(\" hw \", \" homework \", sms)\n",
        "    sms = re.sub(\"^hw \", \"how \", sms)\n",
        "    \n",
        "    sms = re.sub(\" i ll \", \" i will \", sms)\n",
        "    sms = re.sub(\"^i ll \", \"i will \", sms)\n",
        "    sms = re.sub(\" i ve \", \" i have \", sms)\n",
        "    sms = re.sub(\"^i ve \", \"i have \", sms)\n",
        "    \n",
        "    sms = re.sub(\" juz | jus | jos \", \" just \", sms)\n",
        "    sms = re.sub(\"^juz |^jus |^jos \", \"just \", sms)\n",
        "    \n",
        "    sms = re.sub(\"kd \", \"ked \", sms)\n",
        "    sms = re.sub(\" knw \", \" know \", sms)\n",
        "    \n",
        "    sms = re.sub(\" lar | lter \", \" later \", sms)\n",
        "    sms = re.sub(\" lar$| lter$\", \" later\", sms)\n",
        "    sms = re.sub(\"^lar |^lter \", \"later \", sms)\n",
        "    \n",
        "    sms = re.sub(\" lib \", \" library \", sms)\n",
        "    sms = re.sub(\" lib$\", \" library\", sms)\n",
        "    \n",
        "    sms = re.sub(\" lect \", \" lecture \", sms)\n",
        "    sms = re.sub(\"^ll \", \"i will \", sms)\n",
        "    sms = re.sub(\" lyk \", \" like \", sms)\n",
        "    sms = re.sub(\" m \", \" am \", sms)\n",
        "    sms = re.sub(\"^m \", \"i am \", sms)\n",
        "    sms = re.sub(\" mayb \", \" maybe \", sms)\n",
        "    sms = re.sub(\" meh \", \" me \", sms)\n",
        "    sms = re.sub(\" msg \", \" message \", sms)\n",
        "    sms = re.sub(\" neva \", \" never \", sms)\n",
        "    sms = re.sub(\" mum \", \" mom \", sms)\n",
        "    sms = re.sub(\" muz \", \" must \", sms)\n",
        "    sms = re.sub(\" n \", \" and \", sms)\n",
        "    sms = re.sub(\"nd \", \"ned \", sms)\n",
        "    sms = re.sub(\" nite \", \" night \", sms)\n",
        "    sms = re.sub(\" noe \", \" know \", sms)\n",
        "    \n",
        "    sms = re.sub(\" nt \", \" not \", sms)\n",
        "    sms = re.sub(\"^nt \", \"not \", sms)\n",
        "    \n",
        "    sms = re.sub(\" nvm \", \" never mind \", sms)\n",
        "    sms = re.sub(\" nvr \", \" never \", sms)\n",
        "    sms = re.sub(\" nw \", \" now \", sms)\n",
        "    \n",
        "    sms = re.sub(\" nxt \", \" next \", sms)\n",
        "    sms = re.sub(\"^nxt \", \"next \", sms)\n",
        "    \n",
        "    sms = re.sub(\" okie | ok | k \", \" okay \", sms)\n",
        "    sms = re.sub(\"^okie |^ok |^k \", \"okay \", sms)\n",
        "    sms = re.sub(\" okie$| ok$| k$\", \" okay\", sms)\n",
        "    \n",
        "    sms = re.sub(\" oredi | alr \", \" already \", sms)\n",
        "    sms = re.sub(\" oredi$| alr$\", \" already\", sms)\n",
        "    \n",
        "    sms = re.sub(\" oso \", \" also \", sms)\n",
        "    \n",
        "    sms = re.sub(\" plz \", \" please \", sms)\n",
        "    sms = re.sub(\"^plz \", \"please \", sms)\n",
        "    sms = re.sub(\" plz$\", \" please\", sms)\n",
        "    \n",
        "    sms = re.sub(\" pple? \", \" people \", sms)\n",
        "    \n",
        "    sms = re.sub(\" pg \", \" page \", sms)\n",
        "    sms = re.sub(\" pg$\", \" page\", sms)\n",
        "    \n",
        "    sms = re.sub(\" r \", \" are \", sms)\n",
        "    sms = re.sub(\"^r \", \"are \", sms)\n",
        "    sms = re.sub(\" r$\", \" are\", sms)\n",
        "    \n",
        "    sms = re.sub(\" rem \", \" remember \", sms)\n",
        "    sms = re.sub(\" rite \", \" right \", sms)\n",
        "    \n",
        "    sms = re.sub(\" rly \", \" really \", sms)\n",
        "    sms = re.sub(\"^rly \", \"really \", sms)\n",
        "    sms = re.sub(\" rly$\", \" really\", sms)\n",
        "    \n",
        "    sms = re.sub(\" ru \", \" are you \", sms)\n",
        "    sms = re.sub(\" s \", \" is \", sms)\n",
        "    sms = re.sub(\"^s \", \"its \", sms)\n",
        "    \n",
        "    sms = re.sub(\" sch \", \" school \", sms)\n",
        "    sms = re.sub(\" sch$\", \" school\", sms)\n",
        "    \n",
        "    sms = re.sub(\" shd | shld \", \" should \", sms)\n",
        "    sms = re.sub(\" slp \", \" sleep \", sms)\n",
        "    \n",
        "    sms = re.sub(\" sme\", \" some\", sms)\n",
        "    sms = re.sub(\"^sme\", \"some\", sms)\n",
        "    \n",
        "    sms = re.sub(\" smth \", \" something \", sms)\n",
        "    \n",
        "    sms = re.sub(\" tat \", \" that \", sms)\n",
        "    sms = re.sub(\"^tat \", \"that \", sms)\n",
        "    sms = re.sub(\" tat$\", \" that\", sms)\n",
        "    \n",
        "    sms = re.sub(\" tmr | tml \", \" tomorrow \", sms)\n",
        "    sms = re.sub(\"^tmr |^tml \", \"tomorrow \", sms)\n",
        "    sms = re.sub(\" tmr$| tml$\", \" tomorrow\", sms)\n",
        "    \n",
        "    sms = re.sub(\" thanx \", \" thanks \", sms)\n",
        "    sms = re.sub(\" thanx$\", \" thanks\", sms)\n",
        "    sms = re.sub(\"^thanx \", \"thanks \", sms)\n",
        "    \n",
        "    sms = re.sub(\" thgt \", \" thought \", sms)\n",
        "    sms = re.sub(\" thk | thnk \", \" think \", sms)\n",
        "    sms = re.sub(\" tis \", \" this \", sms)\n",
        "    sms = re.sub(\" tot \" , \" thought \", sms)\n",
        "    sms = re.sub(\" ttyl$\", \" talk to you later\", sms)\n",
        "    \n",
        "    sms = re.sub(\" tym \", \" time \", sms)\n",
        "    sms = re.sub(\" tym\", \" time\", sms)\n",
        "    \n",
        "    sms = re.sub(\" [uüü] \", \" you \", sms)\n",
        "    sms = re.sub(\"^[uüü] \", \"you \", sms)\n",
        "    sms = re.sub(\" [uüü]$\", \" you\", sms)\n",
        "    \n",
        "    sms = re.sub(\" ur \", \" your \", sms)\n",
        "    sms = re.sub(\" v \", \" very \", sms)\n",
        "    sms = re.sub(\" vil \", \" will \", sms)\n",
        "    sms = re.sub(\"^ve \", \"i have \", sms)\n",
        "    sms = re.sub(\" wan \", \" want \", sms)\n",
        "    sms = re.sub(\" w \", \" with \", sms)\n",
        "    \n",
        "    sms = re.sub(\" wana \", \" wanna \", sms)\n",
        "    sms = re.sub(\"^wana \", \"wanna \", sms)\n",
        "    \n",
        "    sms = re.sub(\" wat \", \" what \", sms)\n",
        "    sms = re.sub(\"^wat \", \"what \", sms)\n",
        "    sms = re.sub(\" wat$\", \" what\", sms)\n",
        "    \n",
        "    sms = re.sub(\" wen \", \" when \", sms)\n",
        "    sms = re.sub(\"^wen \", \"when \", sms)\n",
        "    \n",
        "    sms = re.sub(\" wif | wid | wth \", \" with \", sms)\n",
        "    sms = re.sub(\"^wif |^wid |^wth \", \"with \", sms)\n",
        "    sms = re.sub(\" wif$| wid$| wth$\", \" with\", sms)\n",
        "    \n",
        "    sms = re.sub(\" wk \", \" week \", sms)\n",
        "\n",
        "    sms = re.sub(\" wun \", \" wont \", sms)\n",
        "    \n",
        "    sms = re.sub(\" y \", \" why \", sms)\n",
        "    sms = re.sub(\"^y \", \"why \", sms)\n",
        "    sms = re.sub(\" y$\", \" why\", sms)\n",
        "    \n",
        "    sms = re.sub(\"yup\", \"yep\", sms)\n",
        "\n",
        "    # remove laughter and smiles\n",
        "    sms = re.sub(\" d \", \" \", sms)\n",
        "    sms = re.sub(\" d$\", \"\", sms)\n",
        "    sms = re.sub(\"^d \", \"\", sms)\n",
        "    sms = re.sub(\" ha \", \" \", sms)\n",
        "    sms = re.sub(\"^ha \", \"\", sms)\n",
        "    sms = re.sub(\" ha$, \", \"\", sms)\n",
        "    sms = re.sub(\" lor \", \" \", sms)\n",
        "    sms = re.sub(\" lor$\", \"\", sms)\n",
        "    sms = re.sub(\" lols? \", \" \", sms)\n",
        "    sms = re.sub(\"^lols? \", \"\", sms)\n",
        "    sms = re.sub(\" lols?$\", \"\", sms)\n",
        "    sms = re.sub(\"a*(ha){2,}h*\", \"\", sms)\n",
        "    sms = re.sub(\" hee \", \" \", sms)\n",
        "    sms = re.sub(\"^hee \", \"\", sms)\n",
        "    sms = re.sub(\" hee$\", \"\", sms)\n",
        "    \n",
        "    # remove words I don't understand\n",
        "    sms = re.sub(\" lei \", \" \", sms)\n",
        "    sms = re.sub(\"^lei \", \" \", sms)\n",
        "    sms = re.sub(\" lei$\", \" \", sms)\n",
        "    \n",
        "    # standardize most '-ing' to '-in'\n",
        "    sms = re.sub(\"(?<=[bdfghklmnoprstvwy])ing(?= )\", \"in\", sms)\n",
        "    sms = re.sub(\"(?<=[bdfghklmnoprstvwy])ing$\", \"in\", sms)\n",
        "    \n",
        "    # force spaces between comma- or period-separated words\n",
        "    sms = re.sub(\"(?<=[^ ])[\\.,](?=[^ ])\", \" \", sms)\n",
        "    \n",
        "    return sms\n"
      ]
    },
    {
      "cell_type": "code",
      "execution_count": null,
      "metadata": {
        "id": "SSaQMOemHUmU"
      },
      "outputs": [],
      "source": [
        "import sys, os, random\n",
        "import numpy as np\n",
        "import pandas as pd\n",
        "import xml.etree.ElementTree as ET\n",
        "from nltk import ngrams\n",
        "from math import log\n",
        "\n",
        "import sys\n",
        "import tensorflow as tf\n",
        "\n",
        "from keras.models import Sequential\n",
        "from keras.layers import Dense\n",
        "from keras.layers import LSTM\n",
        "from keras.layers import Embedding\n",
        "\n"
      ]
    },
    {
      "cell_type": "markdown",
      "source": [
        "###**SMS DATA** -- statistics for presentation"
      ],
      "metadata": {
        "id": "nv82nqOdK9Ry"
      }
    },
    {
      "cell_type": "markdown",
      "source": [
        "statistics"
      ],
      "metadata": {
        "id": "sRuitT9NL6qj"
      }
    },
    {
      "cell_type": "code",
      "execution_count": null,
      "metadata": {
        "colab": {
          "base_uri": "https://localhost:8080/"
        },
        "outputId": "a99274da-2627-4a9e-d651-d050ad944ef3",
        "id": "UrSPzDwMVagW"
      },
      "outputs": [
        {
          "output_type": "stream",
          "name": "stdout",
          "text": [
            "Mounted at /content/drive\n"
          ]
        }
      ],
      "source": [
        "from google.colab import drive\n",
        "drive.mount('/content/drive')"
      ]
    },
    {
      "cell_type": "code",
      "execution_count": null,
      "metadata": {
        "colab": {
          "base_uri": "https://localhost:8080/",
          "height": 206
        },
        "outputId": "b571ca71-a8ca-498f-ef8a-d17c08c3a795",
        "id": "by_FGOIEVWGg"
      },
      "outputs": [
        {
          "output_type": "execute_result",
          "data": {
            "text/plain": [
              "      id                                               text\n",
              "0  10120                              Bugis oso near wat...\n",
              "1  10121   Go until jurong point, crazy.. Available only...\n",
              "2  10122     I dunno until when... Lets go learn pilates...\n",
              "3  10123   Den only weekdays got special price... Haiz.....\n",
              "4  10124                             Meet after lunch la..."
            ],
            "text/html": [
              "\n",
              "  <div id=\"df-06bca2c3-c678-4f53-9808-445d6f038308\">\n",
              "    <div class=\"colab-df-container\">\n",
              "      <div>\n",
              "<style scoped>\n",
              "    .dataframe tbody tr th:only-of-type {\n",
              "        vertical-align: middle;\n",
              "    }\n",
              "\n",
              "    .dataframe tbody tr th {\n",
              "        vertical-align: top;\n",
              "    }\n",
              "\n",
              "    .dataframe thead th {\n",
              "        text-align: right;\n",
              "    }\n",
              "</style>\n",
              "<table border=\"1\" class=\"dataframe\">\n",
              "  <thead>\n",
              "    <tr style=\"text-align: right;\">\n",
              "      <th></th>\n",
              "      <th>id</th>\n",
              "      <th>text</th>\n",
              "    </tr>\n",
              "  </thead>\n",
              "  <tbody>\n",
              "    <tr>\n",
              "      <th>0</th>\n",
              "      <td>10120</td>\n",
              "      <td>Bugis oso near wat...</td>\n",
              "    </tr>\n",
              "    <tr>\n",
              "      <th>1</th>\n",
              "      <td>10121</td>\n",
              "      <td>Go until jurong point, crazy.. Available only...</td>\n",
              "    </tr>\n",
              "    <tr>\n",
              "      <th>2</th>\n",
              "      <td>10122</td>\n",
              "      <td>I dunno until when... Lets go learn pilates...</td>\n",
              "    </tr>\n",
              "    <tr>\n",
              "      <th>3</th>\n",
              "      <td>10123</td>\n",
              "      <td>Den only weekdays got special price... Haiz.....</td>\n",
              "    </tr>\n",
              "    <tr>\n",
              "      <th>4</th>\n",
              "      <td>10124</td>\n",
              "      <td>Meet after lunch la...</td>\n",
              "    </tr>\n",
              "  </tbody>\n",
              "</table>\n",
              "</div>\n",
              "      <button class=\"colab-df-convert\" onclick=\"convertToInteractive('df-06bca2c3-c678-4f53-9808-445d6f038308')\"\n",
              "              title=\"Convert this dataframe to an interactive table.\"\n",
              "              style=\"display:none;\">\n",
              "        \n",
              "  <svg xmlns=\"http://www.w3.org/2000/svg\" height=\"24px\"viewBox=\"0 0 24 24\"\n",
              "       width=\"24px\">\n",
              "    <path d=\"M0 0h24v24H0V0z\" fill=\"none\"/>\n",
              "    <path d=\"M18.56 5.44l.94 2.06.94-2.06 2.06-.94-2.06-.94-.94-2.06-.94 2.06-2.06.94zm-11 1L8.5 8.5l.94-2.06 2.06-.94-2.06-.94L8.5 2.5l-.94 2.06-2.06.94zm10 10l.94 2.06.94-2.06 2.06-.94-2.06-.94-.94-2.06-.94 2.06-2.06.94z\"/><path d=\"M17.41 7.96l-1.37-1.37c-.4-.4-.92-.59-1.43-.59-.52 0-1.04.2-1.43.59L10.3 9.45l-7.72 7.72c-.78.78-.78 2.05 0 2.83L4 21.41c.39.39.9.59 1.41.59.51 0 1.02-.2 1.41-.59l7.78-7.78 2.81-2.81c.8-.78.8-2.07 0-2.86zM5.41 20L4 18.59l7.72-7.72 1.47 1.35L5.41 20z\"/>\n",
              "  </svg>\n",
              "      </button>\n",
              "      \n",
              "  <style>\n",
              "    .colab-df-container {\n",
              "      display:flex;\n",
              "      flex-wrap:wrap;\n",
              "      gap: 12px;\n",
              "    }\n",
              "\n",
              "    .colab-df-convert {\n",
              "      background-color: #E8F0FE;\n",
              "      border: none;\n",
              "      border-radius: 50%;\n",
              "      cursor: pointer;\n",
              "      display: none;\n",
              "      fill: #1967D2;\n",
              "      height: 32px;\n",
              "      padding: 0 0 0 0;\n",
              "      width: 32px;\n",
              "    }\n",
              "\n",
              "    .colab-df-convert:hover {\n",
              "      background-color: #E2EBFA;\n",
              "      box-shadow: 0px 1px 2px rgba(60, 64, 67, 0.3), 0px 1px 3px 1px rgba(60, 64, 67, 0.15);\n",
              "      fill: #174EA6;\n",
              "    }\n",
              "\n",
              "    [theme=dark] .colab-df-convert {\n",
              "      background-color: #3B4455;\n",
              "      fill: #D2E3FC;\n",
              "    }\n",
              "\n",
              "    [theme=dark] .colab-df-convert:hover {\n",
              "      background-color: #434B5C;\n",
              "      box-shadow: 0px 1px 3px 1px rgba(0, 0, 0, 0.15);\n",
              "      filter: drop-shadow(0px 1px 2px rgba(0, 0, 0, 0.3));\n",
              "      fill: #FFFFFF;\n",
              "    }\n",
              "  </style>\n",
              "\n",
              "      <script>\n",
              "        const buttonEl =\n",
              "          document.querySelector('#df-06bca2c3-c678-4f53-9808-445d6f038308 button.colab-df-convert');\n",
              "        buttonEl.style.display =\n",
              "          google.colab.kernel.accessAllowed ? 'block' : 'none';\n",
              "\n",
              "        async function convertToInteractive(key) {\n",
              "          const element = document.querySelector('#df-06bca2c3-c678-4f53-9808-445d6f038308');\n",
              "          const dataTable =\n",
              "            await google.colab.kernel.invokeFunction('convertToInteractive',\n",
              "                                                     [key], {});\n",
              "          if (!dataTable) return;\n",
              "\n",
              "          const docLinkHtml = 'Like what you see? Visit the ' +\n",
              "            '<a target=\"_blank\" href=https://colab.research.google.com/notebooks/data_table.ipynb>data table notebook</a>'\n",
              "            + ' to learn more about interactive tables.';\n",
              "          element.innerHTML = '';\n",
              "          dataTable['output_type'] = 'display_data';\n",
              "          await google.colab.output.renderOutput(dataTable, element);\n",
              "          const docLink = document.createElement('div');\n",
              "          docLink.innerHTML = docLinkHtml;\n",
              "          element.appendChild(docLink);\n",
              "        }\n",
              "      </script>\n",
              "    </div>\n",
              "  </div>\n",
              "  "
            ]
          },
          "metadata": {},
          "execution_count": 5
        }
      ],
      "source": [
        "import json\n",
        "#Read data and clean it\n",
        "f = open('/content/drive/MyDrive/Colab Notebooks/smsCorpus_en_2015.03.09_all.json')\n",
        "data = json.load(f)\n",
        "listofDict = data['smsCorpus']['message']\n",
        "fullData = pd.DataFrame(listofDict)\n",
        "dataRaw = fullData[['@id','text']]\n",
        "dataRaw = pd.DataFrame(dataRaw)\n",
        "dataRaw.rename(columns = {'@id':'id'}, inplace = True)\n",
        "dataRaw['text'] = dataRaw['text'].astype(\"str\")\n",
        "dataRaw['text'] = dataRaw['text'].map(lambda x: x.lstrip(\"{'$':-\").rstrip(\"-'}\"))\n",
        "dataRaw['text'] = dataRaw['text'].str.replace(r\"'\", \"\")\n",
        "dataRaw.head()"
      ]
    },
    {
      "cell_type": "code",
      "source": [
        "dataRaw.shape"
      ],
      "metadata": {
        "colab": {
          "base_uri": "https://localhost:8080/"
        },
        "outputId": "6583d792-97f4-4a43-fd7c-169617e4fdb4",
        "id": "T5I1USraOrMw"
      },
      "execution_count": null,
      "outputs": [
        {
          "output_type": "execute_result",
          "data": {
            "text/plain": [
              "(55835, 2)"
            ]
          },
          "metadata": {},
          "execution_count": 6
        }
      ]
    },
    {
      "cell_type": "code",
      "source": [
        "dataRaw['vocabsplit'] = dataRaw.text.str.split()"
      ],
      "metadata": {
        "id": "rJua_oAWRWkG"
      },
      "execution_count": null,
      "outputs": []
    },
    {
      "cell_type": "code",
      "source": [
        "dataRaw['vocablen'] = 0\n",
        "for i in range(len(dataRaw)):\n",
        "  dataRaw['vocablen'][i] = len(dataRaw['vocabsplit'][i])"
      ],
      "metadata": {
        "colab": {
          "base_uri": "https://localhost:8080/"
        },
        "id": "7sXDm00LQ1lf",
        "outputId": "d9b7839c-10dd-42c3-b675-b03666dfd706"
      },
      "execution_count": null,
      "outputs": [
        {
          "output_type": "stream",
          "name": "stderr",
          "text": [
            "<ipython-input-8-efeec00d9e1c>:3: SettingWithCopyWarning: \n",
            "A value is trying to be set on a copy of a slice from a DataFrame\n",
            "\n",
            "See the caveats in the documentation: https://pandas.pydata.org/pandas-docs/stable/user_guide/indexing.html#returning-a-view-versus-a-copy\n",
            "  dataRaw['vocablen'][i] = len(dataRaw['vocabsplit'][i])\n"
          ]
        }
      ]
    },
    {
      "cell_type": "code",
      "source": [
        "max(dataRaw['vocablen'])"
      ],
      "metadata": {
        "colab": {
          "base_uri": "https://localhost:8080/"
        },
        "id": "hhmgGgIlO1H0",
        "outputId": "9cf427ed-d9dc-453a-a1db-2597214148fc"
      },
      "execution_count": null,
      "outputs": [
        {
          "output_type": "execute_result",
          "data": {
            "text/plain": [
              "178"
            ]
          },
          "metadata": {},
          "execution_count": 9
        }
      ]
    },
    {
      "cell_type": "code",
      "source": [
        "min(dataRaw['vocablen'])"
      ],
      "metadata": {
        "colab": {
          "base_uri": "https://localhost:8080/"
        },
        "outputId": "d99e7267-1bf0-426f-f4c0-feb02837b2d2",
        "id": "7qJeS8L9OrMw"
      },
      "execution_count": null,
      "outputs": [
        {
          "output_type": "execute_result",
          "data": {
            "text/plain": [
              "0"
            ]
          },
          "metadata": {},
          "execution_count": 10
        }
      ]
    },
    {
      "cell_type": "code",
      "source": [
        "dataRaw['vocablen'].value_counts()"
      ],
      "metadata": {
        "colab": {
          "base_uri": "https://localhost:8080/"
        },
        "id": "UKstP-QXV4y5",
        "outputId": "1577d437-2c58-4eda-c44e-fff92742920f"
      },
      "execution_count": null,
      "outputs": [
        {
          "output_type": "execute_result",
          "data": {
            "text/plain": [
              "3      4421\n",
              "4      4275\n",
              "5      4165\n",
              "2      4108\n",
              "1      4083\n",
              "       ... \n",
              "145       1\n",
              "0         1\n",
              "162       1\n",
              "143       1\n",
              "117       1\n",
              "Name: vocablen, Length: 121, dtype: int64"
            ]
          },
          "metadata": {},
          "execution_count": 11
        }
      ]
    },
    {
      "cell_type": "code",
      "source": [
        "from numpy.core.fromnumeric import mean\n",
        "mean(dataRaw['vocablen'])"
      ],
      "metadata": {
        "colab": {
          "base_uri": "https://localhost:8080/"
        },
        "id": "SdIOvAg9O2h0",
        "outputId": "4d2d34a1-0ae9-410d-944b-37095e323c77"
      },
      "execution_count": null,
      "outputs": [
        {
          "output_type": "execute_result",
          "data": {
            "text/plain": [
              "10.410602668577058"
            ]
          },
          "metadata": {},
          "execution_count": 12
        }
      ]
    },
    {
      "cell_type": "code",
      "source": [
        "# get length of all the messages in the train set\n",
        "import numpy as np\n",
        "import matplotlib.pyplot as plt\n",
        "seq_len = [len(i.split()) for i in dataRaw['text']]\n",
        "plt.hist(pd.Series(seq_len),bins = 50, color = \"navy\")\n",
        "plt.xlabel('Vocab Length for each SMS')\n",
        "plt.ylabel('Frequency')\n",
        "#pd.Series(seq_len).hist(bins = 50, color = \"navy\")\n"
      ],
      "metadata": {
        "colab": {
          "base_uri": "https://localhost:8080/",
          "height": 297
        },
        "id": "ffbYZmLZO_eP",
        "outputId": "386ad855-6d41-492e-c7c6-12cd377e3089"
      },
      "execution_count": null,
      "outputs": [
        {
          "output_type": "execute_result",
          "data": {
            "text/plain": [
              "Text(0, 0.5, 'Frequency')"
            ]
          },
          "metadata": {},
          "execution_count": 13
        },
        {
          "output_type": "display_data",
          "data": {
            "text/plain": [
              "<Figure size 432x288 with 1 Axes>"
            ],
            "image/png": "[encoded data removed]"
          },
          "metadata": {
            "needs_background": "light"
          }
        }
      ]
    },
    {
      "cell_type": "markdown",
      "source": [
        "### **Data and Cleaning Process**"
      ],
      "metadata": {
        "id": "nP5J_khULDHZ"
      }
    },
    {
      "cell_type": "code",
      "execution_count": null,
      "metadata": {
        "colab": {
          "base_uri": "https://localhost:8080/"
        },
        "id": "_WO7cKbXMtiy",
        "outputId": "ff5b8886-01f0-422b-c5f7-c829497e1560"
      },
      "outputs": [
        {
          "output_type": "stream",
          "name": "stdout",
          "text": [
            "Drive already mounted at /content/drive; to attempt to forcibly remount, call drive.mount(\"/content/drive\", force_remount=True).\n"
          ]
        }
      ],
      "source": [
        "from google.colab import drive\n",
        "drive.mount('/content/drive')"
      ]
    },
    {
      "cell_type": "markdown",
      "metadata": {
        "id": "7SAjt5aQosyC"
      },
      "source": [
        "**SMS data - Cleaning Process**"
      ]
    },
    {
      "cell_type": "code",
      "execution_count": null,
      "metadata": {
        "colab": {
          "base_uri": "https://localhost:8080/",
          "height": 206
        },
        "id": "BqjVRT8oRS0O",
        "outputId": "4d73f026-1dfe-42b4-b038-bf38b1f9e7d1"
      },
      "outputs": [
        {
          "output_type": "execute_result",
          "data": {
            "text/plain": [
              "      id                                               text\n",
              "0  10120                              Bugis oso near wat...\n",
              "1  10121   Go until jurong point, crazy.. Available only...\n",
              "2  10122     I dunno until when... Lets go learn pilates...\n",
              "3  10123   Den only weekdays got special price... Haiz.....\n",
              "4  10124                             Meet after lunch la..."
            ],
            "text/html": [
              "\n",
              "  <div id=\"df-8cf26915-03e2-4b8f-9e93-06820b925d05\">\n",
              "    <div class=\"colab-df-container\">\n",
              "      <div>\n",
              "<style scoped>\n",
              "    .dataframe tbody tr th:only-of-type {\n",
              "        vertical-align: middle;\n",
              "    }\n",
              "\n",
              "    .dataframe tbody tr th {\n",
              "        vertical-align: top;\n",
              "    }\n",
              "\n",
              "    .dataframe thead th {\n",
              "        text-align: right;\n",
              "    }\n",
              "</style>\n",
              "<table border=\"1\" class=\"dataframe\">\n",
              "  <thead>\n",
              "    <tr style=\"text-align: right;\">\n",
              "      <th></th>\n",
              "      <th>id</th>\n",
              "      <th>text</th>\n",
              "    </tr>\n",
              "  </thead>\n",
              "  <tbody>\n",
              "    <tr>\n",
              "      <th>0</th>\n",
              "      <td>10120</td>\n",
              "      <td>Bugis oso near wat...</td>\n",
              "    </tr>\n",
              "    <tr>\n",
              "      <th>1</th>\n",
              "      <td>10121</td>\n",
              "      <td>Go until jurong point, crazy.. Available only...</td>\n",
              "    </tr>\n",
              "    <tr>\n",
              "      <th>2</th>\n",
              "      <td>10122</td>\n",
              "      <td>I dunno until when... Lets go learn pilates...</td>\n",
              "    </tr>\n",
              "    <tr>\n",
              "      <th>3</th>\n",
              "      <td>10123</td>\n",
              "      <td>Den only weekdays got special price... Haiz.....</td>\n",
              "    </tr>\n",
              "    <tr>\n",
              "      <th>4</th>\n",
              "      <td>10124</td>\n",
              "      <td>Meet after lunch la...</td>\n",
              "    </tr>\n",
              "  </tbody>\n",
              "</table>\n",
              "</div>\n",
              "      <button class=\"colab-df-convert\" onclick=\"convertToInteractive('df-8cf26915-03e2-4b8f-9e93-06820b925d05')\"\n",
              "              title=\"Convert this dataframe to an interactive table.\"\n",
              "              style=\"display:none;\">\n",
              "        \n",
              "  <svg xmlns=\"http://www.w3.org/2000/svg\" height=\"24px\"viewBox=\"0 0 24 24\"\n",
              "       width=\"24px\">\n",
              "    <path d=\"M0 0h24v24H0V0z\" fill=\"none\"/>\n",
              "    <path d=\"M18.56 5.44l.94 2.06.94-2.06 2.06-.94-2.06-.94-.94-2.06-.94 2.06-2.06.94zm-11 1L8.5 8.5l.94-2.06 2.06-.94-2.06-.94L8.5 2.5l-.94 2.06-2.06.94zm10 10l.94 2.06.94-2.06 2.06-.94-2.06-.94-.94-2.06-.94 2.06-2.06.94z\"/><path d=\"M17.41 7.96l-1.37-1.37c-.4-.4-.92-.59-1.43-.59-.52 0-1.04.2-1.43.59L10.3 9.45l-7.72 7.72c-.78.78-.78 2.05 0 2.83L4 21.41c.39.39.9.59 1.41.59.51 0 1.02-.2 1.41-.59l7.78-7.78 2.81-2.81c.8-.78.8-2.07 0-2.86zM5.41 20L4 18.59l7.72-7.72 1.47 1.35L5.41 20z\"/>\n",
              "  </svg>\n",
              "      </button>\n",
              "      \n",
              "  <style>\n",
              "    .colab-df-container {\n",
              "      display:flex;\n",
              "      flex-wrap:wrap;\n",
              "      gap: 12px;\n",
              "    }\n",
              "\n",
              "    .colab-df-convert {\n",
              "      background-color: #E8F0FE;\n",
              "      border: none;\n",
              "      border-radius: 50%;\n",
              "      cursor: pointer;\n",
              "      display: none;\n",
              "      fill: #1967D2;\n",
              "      height: 32px;\n",
              "      padding: 0 0 0 0;\n",
              "      width: 32px;\n",
              "    }\n",
              "\n",
              "    .colab-df-convert:hover {\n",
              "      background-color: #E2EBFA;\n",
              "      box-shadow: 0px 1px 2px rgba(60, 64, 67, 0.3), 0px 1px 3px 1px rgba(60, 64, 67, 0.15);\n",
              "      fill: #174EA6;\n",
              "    }\n",
              "\n",
              "    [theme=dark] .colab-df-convert {\n",
              "      background-color: #3B4455;\n",
              "      fill: #D2E3FC;\n",
              "    }\n",
              "\n",
              "    [theme=dark] .colab-df-convert:hover {\n",
              "      background-color: #434B5C;\n",
              "      box-shadow: 0px 1px 3px 1px rgba(0, 0, 0, 0.15);\n",
              "      filter: drop-shadow(0px 1px 2px rgba(0, 0, 0, 0.3));\n",
              "      fill: #FFFFFF;\n",
              "    }\n",
              "  </style>\n",
              "\n",
              "      <script>\n",
              "        const buttonEl =\n",
              "          document.querySelector('#df-8cf26915-03e2-4b8f-9e93-06820b925d05 button.colab-df-convert');\n",
              "        buttonEl.style.display =\n",
              "          google.colab.kernel.accessAllowed ? 'block' : 'none';\n",
              "\n",
              "        async function convertToInteractive(key) {\n",
              "          const element = document.querySelector('#df-8cf26915-03e2-4b8f-9e93-06820b925d05');\n",
              "          const dataTable =\n",
              "            await google.colab.kernel.invokeFunction('convertToInteractive',\n",
              "                                                     [key], {});\n",
              "          if (!dataTable) return;\n",
              "\n",
              "          const docLinkHtml = 'Like what you see? Visit the ' +\n",
              "            '<a target=\"_blank\" href=https://colab.research.google.com/notebooks/data_table.ipynb>data table notebook</a>'\n",
              "            + ' to learn more about interactive tables.';\n",
              "          element.innerHTML = '';\n",
              "          dataTable['output_type'] = 'display_data';\n",
              "          await google.colab.output.renderOutput(dataTable, element);\n",
              "          const docLink = document.createElement('div');\n",
              "          docLink.innerHTML = docLinkHtml;\n",
              "          element.appendChild(docLink);\n",
              "        }\n",
              "      </script>\n",
              "    </div>\n",
              "  </div>\n",
              "  "
            ]
          },
          "metadata": {},
          "execution_count": 15
        }
      ],
      "source": [
        "import json\n",
        "#Read data and clean it\n",
        "f = open('/content/drive/MyDrive/Colab Notebooks/smsCorpus_en_2015.03.09_all.json')\n",
        "data = json.load(f)\n",
        "listofDict = data['smsCorpus']['message']\n",
        "fullData = pd.DataFrame(listofDict)\n",
        "dataRaw = fullData[['@id','text']]\n",
        "dataRaw = pd.DataFrame(dataRaw)\n",
        "dataRaw.rename(columns = {'@id':'id'}, inplace = True)\n",
        "dataRaw['text'] = dataRaw['text'].astype(\"str\")\n",
        "dataRaw['text'] = dataRaw['text'].map(lambda x: x.lstrip(\"{'$':-\").rstrip(\"-'}\"))\n",
        "dataRaw['text'] = dataRaw['text'].str.replace(r\"'\", \"\")\n",
        "dataRaw.head()"
      ]
    },
    {
      "cell_type": "code",
      "source": [
        "dataRaw.shape"
      ],
      "metadata": {
        "id": "bHW2clBr_umv",
        "colab": {
          "base_uri": "https://localhost:8080/"
        },
        "outputId": "04892685-d29e-4d8e-9ea1-e97161ad40a1"
      },
      "execution_count": null,
      "outputs": [
        {
          "output_type": "execute_result",
          "data": {
            "text/plain": [
              "(55835, 2)"
            ]
          },
          "metadata": {},
          "execution_count": 16
        }
      ]
    },
    {
      "cell_type": "code",
      "source": [
        "#use a portion of data the whole data will cause colab crash\n",
        "dataRaw = dataRaw[:30000]\n",
        "rootId = len(dataRaw)"
      ],
      "metadata": {
        "id": "9KXcS5Ed8Swz"
      },
      "execution_count": null,
      "outputs": []
    },
    {
      "cell_type": "code",
      "execution_count": null,
      "metadata": {
        "id": "zVhBRKJJHkwM",
        "colab": {
          "base_uri": "https://localhost:8080/"
        },
        "outputId": "e8bab4a6-c111-4dc6-b2ce-395b2f332872"
      },
      "outputs": [
        {
          "output_type": "stream",
          "name": "stderr",
          "text": [
            "<ipython-input-18-93d043b43abc>:3: SettingWithCopyWarning: \n",
            "A value is trying to be set on a copy of a slice from a DataFrame.\n",
            "Try using .loc[row_indexer,col_indexer] = value instead\n",
            "\n",
            "See the caveats in the documentation: https://pandas.pydata.org/pandas-docs/stable/user_guide/indexing.html#returning-a-view-versus-a-copy\n",
            "  dataRaw['noPunc'] = dataRaw['text'].apply(\n"
          ]
        }
      ],
      "source": [
        "#cleaning\n",
        "myPunc = '!\"#$%&\\()*+-/:;<=>?@[\\\\]^_`{|}~\\''\n",
        "dataRaw['noPunc'] = dataRaw['text'].apply(\n",
        "        lambda s: s.translate(str.maketrans('','', myPunc)).lower()\n",
        "        )\n",
        "\n",
        "dataRaw['splchk'] = dataRaw['noPunc'].apply(cleanSMS)"
      ]
    },
    {
      "cell_type": "code",
      "execution_count": null,
      "metadata": {
        "id": "woHgaklYVyKC"
      },
      "outputs": [],
      "source": [
        "#cleaning\n",
        "dataRaw['splchk'] = dataRaw['noPunc'].apply(cleanSMS)\n",
        "dataRaw['splchk'] = dataRaw['splchk'].apply(cleanSMS)"
      ]
    },
    {
      "cell_type": "code",
      "execution_count": null,
      "metadata": {
        "id": "FrPd3vjCVyHC"
      },
      "outputs": [],
      "source": [
        "#partitioning train, validation, test\n",
        "random.seed(10)\n",
        "#we have 20% of the whole data known as dataRaw for test and it is knwon as dataRawT\n",
        "#then the othe 80% is known as dataRawR will soon split to valid and train\n",
        "mskTrain = np.random.rand(len(dataRaw)) < 0.8\n",
        "dataRawR = dataRaw[mskTrain]\n",
        "dataRawT = dataRaw[~mskTrain]\n",
        "\n",
        "# train-validation split\n",
        "mskVal = np.random.rand(len(dataRawR)) < 0.8\n",
        "#Here from the left 80% of the data in dataRawR we have 80% for training known as dataRawR and 20% for validation known as dataRawV\n",
        "dataRawV = dataRawR[~mskVal]\n",
        "dataRawR = dataRawR[mskVal]"
      ]
    },
    {
      "cell_type": "markdown",
      "source": [
        "### exposure with no secret in the train set -- BASELINE"
      ],
      "metadata": {
        "id": "69SaEpd0CPI_"
      }
    },
    {
      "cell_type": "code",
      "source": [
        "  # 0. EXPERIMENTAL SETUP ====================================\n",
        "\n",
        "  # how many copies of the secret do we insert?\n",
        "  numTrueSecrets = 0\n",
        "  # how many 'noisy' secrets do we insert?\n",
        "  numFalseSecrets = 0\n",
        "  # how many ticks are on our lock?\n",
        "  numDistinctValues = 100\n",
        "  # how long should we train the model?\n",
        "  numEpochs = 5\n",
        "  batchSize = 256\n",
        "\n",
        "  # what form should the secret take?\n",
        "  secretPref = \"my permanent code is \"\n",
        "  seqLength = len(secretPref.split())\n",
        "  gramSize = seqLength + 1\n",
        "\n",
        "  # randomness space\n",
        "  secretLength = 2\n",
        "  bigR = numDistinctValues ** secretLength\n",
        "\n",
        "  # generate a random secret\n",
        "  secretText = generateSecret(secretLength, numDistinctValues)\n",
        "  insertedSecret = secretPref + secretText\n",
        "\n",
        "  print(\"\\n+---------------------------------------+\")\n",
        "  print(\"| THANK YOU FOR USING THE SECRET SHARER |\")\n",
        "  print(\"+---------------------------------------+\\n\")\n",
        "  print(\" True secrets inserted:\", numTrueSecrets)\n",
        "  print(\" False secrets inserted:\", numFalseSecrets)\n",
        "  print(\" Randomness space:\", numDistinctValues)\n",
        "  print(\" Training epochs:\", numEpochs)\n",
        "  print(\" Batch size:\", batchSize)\n",
        "  print(\" Secret text: '\", insertedSecret, \"'\\n\", sep = '')\n",
        "  print(\"-----------------------------------------\")\n",
        "  print(\"\\npreparing data...\")"
      ],
      "metadata": {
        "colab": {
          "base_uri": "https://localhost:8080/"
        },
        "id": "qbvBK9BxCYtP",
        "outputId": "f0738b07-1912-4f46-dd41-b3985d17d5cf"
      },
      "execution_count": null,
      "outputs": [
        {
          "output_type": "stream",
          "name": "stdout",
          "text": [
            "\n",
            "+---------------------------------------+\n",
            "| THANK YOU FOR USING THE SECRET SHARER |\n",
            "+---------------------------------------+\n",
            "\n",
            " True secrets inserted: 0\n",
            " False secrets inserted: 0\n",
            " Randomness space: 100\n",
            " Training epochs: 5\n",
            " Batch size: 256\n",
            " Secret text: 'my permanent code is 73 04'\n",
            "\n",
            "-----------------------------------------\n",
            "\n",
            "preparing data...\n"
          ]
        }
      ]
    },
    {
      "cell_type": "code",
      "source": [
        "d, rootId = enumerateSecrets(secretLength, numDistinctValues, rootId, secretPref)\n",
        "#d here is all possible secrets\n",
        "#for the number of false secrets that we ordered it sample from d and make a data fram with name noise out of that \n",
        "# get some noise from these fake secret to add to training\n",
        "\n",
        "if numFalseSecrets > 0:\n",
        "    noise = [d[i] for i in sorted(random.sample(range(len(d)), numFalseSecrets))]\n",
        "    noiseDF = pd.DataFrame(noise)\n",
        "\n",
        "testSecret = pd.DataFrame(d);\n",
        "#test data has all possible secrets in it now\n",
        "dataRawT = dataRawT.append(d)\n",
        "#data for dct\n",
        "dataRawdct = dataRaw.append(d)\n",
        "\n",
        "# d = []\n",
        "# # several in training data\n",
        "# for i in range(numTrueSecrets):\n",
        "#     d.append({'id' : rootId,\n",
        "#               'text' : insertedSecret,\n",
        "#               'noPunc' : insertedSecret,\n",
        "#               'splchk' : insertedSecret})\n",
        "#     rootId += 1\n",
        "# #truesecrets add in train data\n",
        "# trainSecret = pd.DataFrame(d)\n",
        "#dataRawR = dataRawR.append(d)\n",
        "\n",
        "#also the noise is added to train set\n",
        "# if numFalseSecrets > 0:\n",
        "#     dataRawR = dataRawR.append(noiseDF)\n",
        "#the train set have true sectrets and false secrets while test set has all possible secrets\n",
        "\n",
        "# 2.4 SPLIT INTO OVERLAPPING SETS OF WORDS -----------000000\n",
        "\n",
        "d = []\n",
        "gid = 0\n",
        "for i in range(len(dataRawR)):\n",
        "    grams = ngrams(dataRawR.splchk.iloc[i].split(), gramSize)\n",
        "    for g in grams:\n",
        "        d.append({'id' : gid,\n",
        "                  'data' : g})   \n",
        "        gid += 1\n",
        "\n",
        "dataGramsR = pd.DataFrame(d)\n",
        "\n",
        "d = []\n",
        "for i in range(len(dataRawV)):\n",
        "    grams = ngrams(dataRawV.splchk.iloc[i].split(), gramSize)\n",
        "    for g in grams:\n",
        "        d.append({'id' : gid,\n",
        "                  'data' : g})   \n",
        "        gid += 1\n",
        "\n",
        "dataGramsV = pd.DataFrame(d)\n",
        "\n",
        "d = []\n",
        "for i in range(len(dataRawT)):\n",
        "    grams = ngrams(dataRawT.splchk.iloc[i].split(), gramSize)\n",
        "    for g in grams:\n",
        "        d.append({'id' : gid,\n",
        "                  'data' : g})   \n",
        "        gid += 1\n",
        "\n",
        "dataGramsT = pd.DataFrame(d)"
      ],
      "metadata": {
        "id": "Kq09NVVHCsbZ"
      },
      "execution_count": null,
      "outputs": []
    },
    {
      "cell_type": "code",
      "source": [
        "dataGramsT"
      ],
      "metadata": {
        "colab": {
          "base_uri": "https://localhost:8080/",
          "height": 424
        },
        "id": "iL3S28ytCv4Y",
        "outputId": "a331d1db-ba76-4a6a-9bef-344642b8c0ee"
      },
      "execution_count": null,
      "outputs": [
        {
          "output_type": "execute_result",
          "data": {
            "text/plain": [
              "           id                              data\n",
              "0      161840       (hey, people, 700, or, 900)\n",
              "1      161841       (people, 700, or, 900, for)\n",
              "2      161842            (700, or, 900, for, 5)\n",
              "3      161843         (or, 900, for, 5, nights)\n",
              "4      161844  (900, for, 5, nights, excellent)\n",
              "...       ...                               ...\n",
              "60512  222352     (permanent, code, is, 99, 97)\n",
              "60513  222353     (my, permanent, code, is, 99)\n",
              "60514  222354     (permanent, code, is, 99, 98)\n",
              "60515  222355     (my, permanent, code, is, 99)\n",
              "60516  222356     (permanent, code, is, 99, 99)\n",
              "\n",
              "[60517 rows x 2 columns]"
            ],
            "text/html": [
              "\n",
              "  <div id=\"df-d84d20d3-21b6-4d6d-adf7-4896569bc5ec\">\n",
              "    <div class=\"colab-df-container\">\n",
              "      <div>\n",
              "<style scoped>\n",
              "    .dataframe tbody tr th:only-of-type {\n",
              "        vertical-align: middle;\n",
              "    }\n",
              "\n",
              "    .dataframe tbody tr th {\n",
              "        vertical-align: top;\n",
              "    }\n",
              "\n",
              "    .dataframe thead th {\n",
              "        text-align: right;\n",
              "    }\n",
              "</style>\n",
              "<table border=\"1\" class=\"dataframe\">\n",
              "  <thead>\n",
              "    <tr style=\"text-align: right;\">\n",
              "      <th></th>\n",
              "      <th>id</th>\n",
              "      <th>data</th>\n",
              "    </tr>\n",
              "  </thead>\n",
              "  <tbody>\n",
              "    <tr>\n",
              "      <th>0</th>\n",
              "      <td>161840</td>\n",
              "      <td>(hey, people, 700, or, 900)</td>\n",
              "    </tr>\n",
              "    <tr>\n",
              "      <th>1</th>\n",
              "      <td>161841</td>\n",
              "      <td>(people, 700, or, 900, for)</td>\n",
              "    </tr>\n",
              "    <tr>\n",
              "      <th>2</th>\n",
              "      <td>161842</td>\n",
              "      <td>(700, or, 900, for, 5)</td>\n",
              "    </tr>\n",
              "    <tr>\n",
              "      <th>3</th>\n",
              "      <td>161843</td>\n",
              "      <td>(or, 900, for, 5, nights)</td>\n",
              "    </tr>\n",
              "    <tr>\n",
              "      <th>4</th>\n",
              "      <td>161844</td>\n",
              "      <td>(900, for, 5, nights, excellent)</td>\n",
              "    </tr>\n",
              "    <tr>\n",
              "      <th>...</th>\n",
              "      <td>...</td>\n",
              "      <td>...</td>\n",
              "    </tr>\n",
              "    <tr>\n",
              "      <th>60512</th>\n",
              "      <td>222352</td>\n",
              "      <td>(permanent, code, is, 99, 97)</td>\n",
              "    </tr>\n",
              "    <tr>\n",
              "      <th>60513</th>\n",
              "      <td>222353</td>\n",
              "      <td>(my, permanent, code, is, 99)</td>\n",
              "    </tr>\n",
              "    <tr>\n",
              "      <th>60514</th>\n",
              "      <td>222354</td>\n",
              "      <td>(permanent, code, is, 99, 98)</td>\n",
              "    </tr>\n",
              "    <tr>\n",
              "      <th>60515</th>\n",
              "      <td>222355</td>\n",
              "      <td>(my, permanent, code, is, 99)</td>\n",
              "    </tr>\n",
              "    <tr>\n",
              "      <th>60516</th>\n",
              "      <td>222356</td>\n",
              "      <td>(permanent, code, is, 99, 99)</td>\n",
              "    </tr>\n",
              "  </tbody>\n",
              "</table>\n",
              "<p>60517 rows × 2 columns</p>\n",
              "</div>\n",
              "      <button class=\"colab-df-convert\" onclick=\"convertToInteractive('df-d84d20d3-21b6-4d6d-adf7-4896569bc5ec')\"\n",
              "              title=\"Convert this dataframe to an interactive table.\"\n",
              "              style=\"display:none;\">\n",
              "        \n",
              "  <svg xmlns=\"http://www.w3.org/2000/svg\" height=\"24px\"viewBox=\"0 0 24 24\"\n",
              "       width=\"24px\">\n",
              "    <path d=\"M0 0h24v24H0V0z\" fill=\"none\"/>\n",
              "    <path d=\"M18.56 5.44l.94 2.06.94-2.06 2.06-.94-2.06-.94-.94-2.06-.94 2.06-2.06.94zm-11 1L8.5 8.5l.94-2.06 2.06-.94-2.06-.94L8.5 2.5l-.94 2.06-2.06.94zm10 10l.94 2.06.94-2.06 2.06-.94-2.06-.94-.94-2.06-.94 2.06-2.06.94z\"/><path d=\"M17.41 7.96l-1.37-1.37c-.4-.4-.92-.59-1.43-.59-.52 0-1.04.2-1.43.59L10.3 9.45l-7.72 7.72c-.78.78-.78 2.05 0 2.83L4 21.41c.39.39.9.59 1.41.59.51 0 1.02-.2 1.41-.59l7.78-7.78 2.81-2.81c.8-.78.8-2.07 0-2.86zM5.41 20L4 18.59l7.72-7.72 1.47 1.35L5.41 20z\"/>\n",
              "  </svg>\n",
              "      </button>\n",
              "      \n",
              "  <style>\n",
              "    .colab-df-container {\n",
              "      display:flex;\n",
              "      flex-wrap:wrap;\n",
              "      gap: 12px;\n",
              "    }\n",
              "\n",
              "    .colab-df-convert {\n",
              "      background-color: #E8F0FE;\n",
              "      border: none;\n",
              "      border-radius: 50%;\n",
              "      cursor: pointer;\n",
              "      display: none;\n",
              "      fill: #1967D2;\n",
              "      height: 32px;\n",
              "      padding: 0 0 0 0;\n",
              "      width: 32px;\n",
              "    }\n",
              "\n",
              "    .colab-df-convert:hover {\n",
              "      background-color: #E2EBFA;\n",
              "      box-shadow: 0px 1px 2px rgba(60, 64, 67, 0.3), 0px 1px 3px 1px rgba(60, 64, 67, 0.15);\n",
              "      fill: #174EA6;\n",
              "    }\n",
              "\n",
              "    [theme=dark] .colab-df-convert {\n",
              "      background-color: #3B4455;\n",
              "      fill: #D2E3FC;\n",
              "    }\n",
              "\n",
              "    [theme=dark] .colab-df-convert:hover {\n",
              "      background-color: #434B5C;\n",
              "      box-shadow: 0px 1px 3px 1px rgba(0, 0, 0, 0.15);\n",
              "      filter: drop-shadow(0px 1px 2px rgba(0, 0, 0, 0.3));\n",
              "      fill: #FFFFFF;\n",
              "    }\n",
              "  </style>\n",
              "\n",
              "      <script>\n",
              "        const buttonEl =\n",
              "          document.querySelector('#df-d84d20d3-21b6-4d6d-adf7-4896569bc5ec button.colab-df-convert');\n",
              "        buttonEl.style.display =\n",
              "          google.colab.kernel.accessAllowed ? 'block' : 'none';\n",
              "\n",
              "        async function convertToInteractive(key) {\n",
              "          const element = document.querySelector('#df-d84d20d3-21b6-4d6d-adf7-4896569bc5ec');\n",
              "          const dataTable =\n",
              "            await google.colab.kernel.invokeFunction('convertToInteractive',\n",
              "                                                     [key], {});\n",
              "          if (!dataTable) return;\n",
              "\n",
              "          const docLinkHtml = 'Like what you see? Visit the ' +\n",
              "            '<a target=\"_blank\" href=https://colab.research.google.com/notebooks/data_table.ipynb>data table notebook</a>'\n",
              "            + ' to learn more about interactive tables.';\n",
              "          element.innerHTML = '';\n",
              "          dataTable['output_type'] = 'display_data';\n",
              "          await google.colab.output.renderOutput(dataTable, element);\n",
              "          const docLink = document.createElement('div');\n",
              "          docLink.innerHTML = docLinkHtml;\n",
              "          element.appendChild(docLink);\n",
              "        }\n",
              "      </script>\n",
              "    </div>\n",
              "  </div>\n",
              "  "
            ]
          },
          "metadata": {},
          "execution_count": 111
        }
      ]
    },
    {
      "cell_type": "code",
      "execution_count": null,
      "metadata": {
        "id": "cKr5VToLEn0P"
      },
      "outputs": [],
      "source": [
        "# word IDs\n",
        "#dct from dataRaw\n",
        "dct = dict()\n",
        "# word frequencies\n",
        "dctFreq = dict()\n",
        "did = 0\n",
        "for i in range(len(dataRawdct)):\n",
        "    s = dataRawdct.splchk.iloc[i].split()\n",
        "    for w in s:\n",
        "        if w not in dct:\n",
        "            dct[w] = did\n",
        "            did += 1\n",
        "            dctFreq[w] = 1\n",
        "        else:\n",
        "            dctFreq[w] += 1"
      ]
    },
    {
      "cell_type": "code",
      "execution_count": null,
      "metadata": {
        "id": "dbo8glJ8En0P"
      },
      "outputs": [],
      "source": [
        "dctNoSingle = dict()\n",
        "did = 0\n",
        "for w in list(dct.keys()):\n",
        "    if dctFreq[w] !=1:\n",
        "        dctNoSingle[w] = did\n",
        "        did += 1\n",
        "        \n",
        "dct = dctNoSingle"
      ]
    },
    {
      "cell_type": "code",
      "execution_count": null,
      "metadata": {
        "id": "05KARqLhEn0Q"
      },
      "outputs": [],
      "source": [
        "def noSingleUseWords(tup):\n",
        "    for w in tup:\n",
        "        if w not in dct:\n",
        "            return False\n",
        "    return True\n",
        "\n",
        "dataGramsR = dataGramsR[dataGramsR['data'].apply(noSingleUseWords) == True]\n",
        "dataGramsT = dataGramsT[dataGramsT['data'].apply(noSingleUseWords) == True]\n",
        "dataGramsV = dataGramsV[dataGramsV['data'].apply(noSingleUseWords) == True]\n"
      ]
    },
    {
      "cell_type": "code",
      "execution_count": null,
      "metadata": {
        "colab": {
          "base_uri": "https://localhost:8080/"
        },
        "outputId": "6544ee9a-2add-4ecf-ede5-94f1ec9d0ee8",
        "id": "PP7LXLCDEn0Q"
      },
      "outputs": [
        {
          "output_type": "stream",
          "name": "stderr",
          "text": [
            "<ipython-input-115-173b97ba434e>:7: SettingWithCopyWarning: \n",
            "A value is trying to be set on a copy of a slice from a DataFrame.\n",
            "Try using .loc[row_indexer,col_indexer] = value instead\n",
            "\n",
            "See the caveats in the documentation: https://pandas.pydata.org/pandas-docs/stable/user_guide/indexing.html#returning-a-view-versus-a-copy\n",
            "  dataGramsR['codes'] = dataGramsR['data'].apply(encodeText)\n",
            "<ipython-input-115-173b97ba434e>:8: SettingWithCopyWarning: \n",
            "A value is trying to be set on a copy of a slice from a DataFrame.\n",
            "Try using .loc[row_indexer,col_indexer] = value instead\n",
            "\n",
            "See the caveats in the documentation: https://pandas.pydata.org/pandas-docs/stable/user_guide/indexing.html#returning-a-view-versus-a-copy\n",
            "  dataGramsT['codes'] = dataGramsT['data'].apply(encodeText)\n",
            "<ipython-input-115-173b97ba434e>:9: SettingWithCopyWarning: \n",
            "A value is trying to be set on a copy of a slice from a DataFrame.\n",
            "Try using .loc[row_indexer,col_indexer] = value instead\n",
            "\n",
            "See the caveats in the documentation: https://pandas.pydata.org/pandas-docs/stable/user_guide/indexing.html#returning-a-view-versus-a-copy\n",
            "  dataGramsV['codes'] = dataGramsV['data'].apply(encodeText)\n"
          ]
        }
      ],
      "source": [
        "def encodeText(tup):\n",
        "    code = [None] * len(tup)\n",
        "    for i in range(len(tup)):\n",
        "        code[i] = dct[tup[i]]  \n",
        "    return tuple(code)\n",
        "\n",
        "dataGramsR['codes'] = dataGramsR['data'].apply(encodeText)\n",
        "dataGramsT['codes'] = dataGramsT['data'].apply(encodeText)\n",
        "dataGramsV['codes'] = dataGramsV['data'].apply(encodeText)\n"
      ]
    },
    {
      "cell_type": "code",
      "execution_count": null,
      "metadata": {
        "colab": {
          "base_uri": "https://localhost:8080/"
        },
        "outputId": "41b11c2b-572a-455c-d365-e30bae34e500",
        "id": "xKRHzp_YEn0Q"
      },
      "outputs": [
        {
          "output_type": "stream",
          "name": "stderr",
          "text": [
            "<ipython-input-116-8573288be9a1>:1: SettingWithCopyWarning: \n",
            "A value is trying to be set on a copy of a slice from a DataFrame.\n",
            "Try using .loc[row_indexer,col_indexer] = value instead\n",
            "\n",
            "See the caveats in the documentation: https://pandas.pydata.org/pandas-docs/stable/user_guide/indexing.html#returning-a-view-versus-a-copy\n",
            "  dataGramsR['x'] = dataGramsR['codes'].apply(dataSplit)\n",
            "<ipython-input-116-8573288be9a1>:2: SettingWithCopyWarning: \n",
            "A value is trying to be set on a copy of a slice from a DataFrame.\n",
            "Try using .loc[row_indexer,col_indexer] = value instead\n",
            "\n",
            "See the caveats in the documentation: https://pandas.pydata.org/pandas-docs/stable/user_guide/indexing.html#returning-a-view-versus-a-copy\n",
            "  dataGramsR['y'] = dataGramsR['codes'].apply(labelSplit)\n",
            "<ipython-input-116-8573288be9a1>:4: SettingWithCopyWarning: \n",
            "A value is trying to be set on a copy of a slice from a DataFrame.\n",
            "Try using .loc[row_indexer,col_indexer] = value instead\n",
            "\n",
            "See the caveats in the documentation: https://pandas.pydata.org/pandas-docs/stable/user_guide/indexing.html#returning-a-view-versus-a-copy\n",
            "  dataGramsT['x'] = dataGramsT['codes'].apply(dataSplit)\n",
            "<ipython-input-116-8573288be9a1>:5: SettingWithCopyWarning: \n",
            "A value is trying to be set on a copy of a slice from a DataFrame.\n",
            "Try using .loc[row_indexer,col_indexer] = value instead\n",
            "\n",
            "See the caveats in the documentation: https://pandas.pydata.org/pandas-docs/stable/user_guide/indexing.html#returning-a-view-versus-a-copy\n",
            "  dataGramsT['y'] = dataGramsT['codes'].apply(labelSplit)\n",
            "<ipython-input-116-8573288be9a1>:7: SettingWithCopyWarning: \n",
            "A value is trying to be set on a copy of a slice from a DataFrame.\n",
            "Try using .loc[row_indexer,col_indexer] = value instead\n",
            "\n",
            "See the caveats in the documentation: https://pandas.pydata.org/pandas-docs/stable/user_guide/indexing.html#returning-a-view-versus-a-copy\n",
            "  dataGramsV['x'] = dataGramsV['codes'].apply(dataSplit)\n",
            "<ipython-input-116-8573288be9a1>:8: SettingWithCopyWarning: \n",
            "A value is trying to be set on a copy of a slice from a DataFrame.\n",
            "Try using .loc[row_indexer,col_indexer] = value instead\n",
            "\n",
            "See the caveats in the documentation: https://pandas.pydata.org/pandas-docs/stable/user_guide/indexing.html#returning-a-view-versus-a-copy\n",
            "  dataGramsV['y'] = dataGramsV['codes'].apply(labelSplit)\n"
          ]
        }
      ],
      "source": [
        "dataGramsR['x'] = dataGramsR['codes'].apply(dataSplit)\n",
        "dataGramsR['y'] = dataGramsR['codes'].apply(labelSplit)\n",
        "\n",
        "dataGramsT['x'] = dataGramsT['codes'].apply(dataSplit)\n",
        "dataGramsT['y'] = dataGramsT['codes'].apply(labelSplit)\n",
        "\n",
        "dataGramsV['x'] = dataGramsV['codes'].apply(dataSplit)\n",
        "dataGramsV['y'] = dataGramsV['codes'].apply(labelSplit)\n"
      ]
    },
    {
      "cell_type": "code",
      "execution_count": null,
      "metadata": {
        "id": "QcI2vlexEn0Q"
      },
      "outputs": [],
      "source": [
        "# training\n",
        "xr = np.zeros((len(dataGramsR), seqLength), dtype = int) \n",
        "yr = np.zeros((len(dataGramsR)), dtype = int)\n",
        "for i in range(len(dataGramsR)):\n",
        "    for j in range(len(dataGramsR.x.iloc[i])):\n",
        "        xr[i][j] = dataGramsR.x.iloc[i][j]\n",
        "    yr[i] = dataGramsR.y.iloc[i]\n",
        "\n",
        "# validation\n",
        "xv = np.zeros((len(dataGramsV), seqLength), dtype = int)\n",
        "yv = np.zeros((len(dataGramsV)), dtype = int)    \n",
        "for i in range(len(dataGramsV)):\n",
        "    for j in range(len(dataGramsV.x.iloc[i])):\n",
        "        xv[i][j] = dataGramsV.x.iloc[i][j]\n",
        "    yv[i] = dataGramsV.y.iloc[i]\n",
        "    \n",
        "# testing\n",
        "xt = np.zeros((len(dataGramsT), seqLength), dtype = int)\n",
        "yt = np.zeros((len(dataGramsT)), dtype = int)\n",
        "for i in range(len(dataGramsT)):\n",
        "    for j in range(len(dataGramsT.x.iloc[i])):\n",
        "        xt[i][j] = dataGramsT.x.iloc[i][j]\n",
        "    yt[i] = dataGramsT.y.iloc[i]\n"
      ]
    },
    {
      "cell_type": "code",
      "source": [
        "#to add numbers that are not in dictionary to the dictionary\n",
        "counter = len(dct)\n",
        "for i in range(150):\n",
        "  if str(i) not in dct:\n",
        "    counter += 1\n",
        "    dct[str(i)] = counter"
      ],
      "metadata": {
        "id": "udTUzR8HEn0R"
      },
      "execution_count": null,
      "outputs": []
    },
    {
      "cell_type": "code",
      "source": [
        "vocabSize = len(dct)\n",
        "vocabSize"
      ],
      "metadata": {
        "colab": {
          "base_uri": "https://localhost:8080/"
        },
        "outputId": "e0304b22-af6f-498b-9c62-ad00cfb4a164",
        "id": "qA5jDc72En0R"
      },
      "execution_count": null,
      "outputs": [
        {
          "output_type": "execute_result",
          "data": {
            "text/plain": [
              "9558"
            ]
          },
          "metadata": {},
          "execution_count": 119
        }
      ]
    },
    {
      "cell_type": "code",
      "execution_count": null,
      "metadata": {
        "id": "nhIhHdomEn0R"
      },
      "outputs": [],
      "source": [
        "# 5.1 ONE-HOT ENCODE LABEL DATA ----------------------------\n",
        "# training\n",
        "\n",
        "\n",
        "b = np.zeros((len(yr), vocabSize))\n",
        "b[np.arange(len(yr)), yr] = 1\n",
        "#np.save('b.npy', b)\n",
        "#from google.colab import files\n",
        "# !cp b.npy \"/content/drive/MyDrive\"\n",
        "#b = np.load('b.npy')"
      ]
    },
    {
      "cell_type": "code",
      "execution_count": null,
      "metadata": {
        "id": "XVLJJJmqEn0R"
      },
      "outputs": [],
      "source": [
        "# validation\n",
        "\n",
        "\n",
        "bv = np.zeros((len(yv), vocabSize))\n",
        "bv[np.arange(len(yv)), yv] = 1\n",
        "# np.save('bv.npy', bv)\n",
        "# from google.colab import files\n",
        "# !cp bv.npy \"/content/drive/MyDrive\"\n",
        "#bv = np.load('bv.npy')"
      ]
    },
    {
      "cell_type": "code",
      "execution_count": null,
      "metadata": {
        "id": "jasob86uEn0R"
      },
      "outputs": [],
      "source": [
        "import sys\n",
        "import numpy as np\n"
      ]
    },
    {
      "cell_type": "code",
      "execution_count": null,
      "metadata": {
        "colab": {
          "base_uri": "https://localhost:8080/",
          "height": 35
        },
        "outputId": "9c9d3b43-7d52-42ec-d83d-be1d17e300d7",
        "id": "5JSQDHSGEn0S"
      },
      "outputs": [
        {
          "output_type": "execute_result",
          "data": {
            "text/plain": [
              "'/device:GPU:0'"
            ],
            "application/vnd.google.colaboratory.intrinsic+json": {
              "type": "string"
            }
          },
          "metadata": {},
          "execution_count": 123
        }
      ],
      "source": [
        "import tensorflow as tf\n",
        "tf.test.gpu_device_name()"
      ]
    },
    {
      "cell_type": "code",
      "execution_count": null,
      "metadata": {
        "id": "ZhRRXChBEn0S"
      },
      "outputs": [],
      "source": [
        "from keras.utils.vis_utils import plot_model"
      ]
    },
    {
      "cell_type": "code",
      "execution_count": null,
      "metadata": {
        "id": "o2vVAT3LEn0S"
      },
      "outputs": [],
      "source": [
        "tf.keras.backend.clear_session()"
      ]
    },
    {
      "cell_type": "code",
      "execution_count": null,
      "metadata": {
        "id": "_nGGd_D_En0S"
      },
      "outputs": [],
      "source": [
        "# 5.2 COMPILE MODEL ----------------------------------------\n",
        "model = Sequential()\n",
        "model.add(Embedding(vocabSize, seqLength, input_length = seqLength))\n",
        "model.add(LSTM(100, return_sequences = True))\n",
        "model.add(LSTM(100))\n",
        "model.add(Dense(100, activation = 'relu'))\n",
        "model.add(Dense(vocabSize, activation = 'softmax'))\n",
        "\n",
        "model.compile(loss = 'categorical_crossentropy', optimizer = 'adam', metrics = ['accuracy'])"
      ]
    },
    {
      "cell_type": "code",
      "execution_count": null,
      "metadata": {
        "id": "0uMrPoVQEn0S"
      },
      "outputs": [],
      "source": [
        "#plot_model(model, to_file='LSTM_plot.png', show_shapes=True, show_layer_names=True)"
      ]
    },
    {
      "cell_type": "code",
      "execution_count": null,
      "metadata": {
        "colab": {
          "base_uri": "https://localhost:8080/"
        },
        "outputId": "d64ad878-6b63-4432-fc9b-5aae1ac3d706",
        "id": "rhQDl1vdEn0T"
      },
      "outputs": [
        {
          "output_type": "stream",
          "name": "stdout",
          "text": [
            "training model...\n",
            "Epoch 1/5\n",
            "415/415 [==============================] - 12s 20ms/step - loss: 6.9566 - accuracy: 0.0400 - val_loss: 6.7413 - val_accuracy: 0.0401\n",
            "Epoch 2/5\n",
            "415/415 [==============================] - 6s 14ms/step - loss: 6.6520 - accuracy: 0.0420 - val_loss: 6.7566 - val_accuracy: 0.0401\n",
            "Epoch 3/5\n",
            "415/415 [==============================] - 5s 13ms/step - loss: 6.6240 - accuracy: 0.0420 - val_loss: 6.7325 - val_accuracy: 0.0402\n",
            "Epoch 4/5\n",
            "415/415 [==============================] - 5s 13ms/step - loss: 6.5396 - accuracy: 0.0431 - val_loss: 6.6385 - val_accuracy: 0.0433\n",
            "Epoch 5/5\n",
            "415/415 [==============================] - 6s 14ms/step - loss: 6.4065 - accuracy: 0.0476 - val_loss: 6.5755 - val_accuracy: 0.0481\n"
          ]
        }
      ],
      "source": [
        "print(\"training model...\")\n",
        "history = model.fit(xr, b, batch_size = batchSize, epochs = numEpochs, verbose = True,\n",
        "                    validation_data = (xv, bv))"
      ]
    },
    {
      "cell_type": "code",
      "source": [
        "scores = model.evaluate(xv, bv, verbose=2)\n",
        "print(\"Accuracy: %.2f%%\" % (scores[1]*100))"
      ],
      "metadata": {
        "colab": {
          "base_uri": "https://localhost:8080/"
        },
        "outputId": "80fce268-e2f5-4df2-981e-f272fa858b9f",
        "id": "aHyBS7PKEn0T"
      },
      "execution_count": null,
      "outputs": [
        {
          "output_type": "stream",
          "name": "stdout",
          "text": [
            "887/887 - 4s - loss: 6.5755 - accuracy: 0.0481 - 4s/epoch - 4ms/step\n",
            "Accuracy: 4.81%\n"
          ]
        }
      ]
    },
    {
      "cell_type": "code",
      "execution_count": null,
      "metadata": {
        "colab": {
          "base_uri": "https://localhost:8080/"
        },
        "outputId": "26c7110e-1509-4a0a-f071-c1a311088eff",
        "id": "-4mWMpsqEn0T"
      },
      "outputs": [
        {
          "output_type": "stream",
          "name": "stderr",
          "text": [
            "WARNING:absl:Found untraced functions such as lstm_cell_layer_call_fn, lstm_cell_layer_call_and_return_conditional_losses, lstm_cell_1_layer_call_fn, lstm_cell_1_layer_call_and_return_conditional_losses while saving (showing 4 of 4). These functions will not be directly callable after loading.\n"
          ]
        },
        {
          "output_type": "execute_result",
          "data": {
            "text/plain": [
              "['RQ1-200sec.sav']"
            ]
          },
          "metadata": {},
          "execution_count": 62
        }
      ],
      "source": [
        "import joblib\n",
        "joblib.dump(model, 'RQ1-200sec.sav')"
      ]
    },
    {
      "cell_type": "markdown",
      "metadata": {
        "id": "EIejdCB9HRFM"
      },
      "source": [
        "###**SetUp data split and training**"
      ]
    },
    {
      "cell_type": "markdown",
      "source": [
        "###**RQ1-RQ2**"
      ],
      "metadata": {
        "id": "vfXq6_rvXbZx"
      }
    },
    {
      "cell_type": "markdown",
      "source": [
        "In this research question we want to see if the model is going to memorize secrets and we want to compute the average exposure. For that we will insert the same secret different number of times and average the value of exposure and report that for average exposure of the model. "
      ],
      "metadata": {
        "id": "NplsvW3fXwL7"
      }
    },
    {
      "cell_type": "code",
      "source": [
        "random.seed(10)"
      ],
      "metadata": {
        "id": "jNnvKqj3j242"
      },
      "execution_count": null,
      "outputs": []
    },
    {
      "cell_type": "code",
      "execution_count": null,
      "metadata": {
        "id": "Z_gNNVOij242",
        "colab": {
          "base_uri": "https://localhost:8080/"
        },
        "outputId": "92c9dd88-0176-4c5d-a199-fdb5d25dc00b"
      },
      "outputs": [
        {
          "output_type": "stream",
          "name": "stdout",
          "text": [
            "\n",
            "+---------------------------------------+\n",
            "| THANK YOU FOR USING THE SECRET SHARER |\n",
            "+---------------------------------------+\n",
            "\n",
            " True secrets inserted: 200\n",
            " False secrets inserted: 2\n",
            " Randomness space: 100\n",
            " Training epochs: 5\n",
            " Batch size: 256\n",
            " Secret text: 'my permanent code is 73 04'\n",
            "\n",
            "-----------------------------------------\n",
            "\n",
            "preparing data...\n"
          ]
        }
      ],
      "source": [
        "  # 0. EXPERIMENTAL SETUP ====================================\n",
        "\n",
        "  # how many copies of the secret do we insert?\n",
        "  numTrueSecrets = 200\n",
        "  # how many 'noisy' secrets do we insert?\n",
        "  numFalseSecrets = 2\n",
        "  # how many ticks are on our lock?\n",
        "  numDistinctValues = 100\n",
        "  # how long should we train the model?\n",
        "  numEpochs = 5\n",
        "  batchSize = 256\n",
        "\n",
        "  # what form should the secret take?\n",
        "  secretPref = \"my permanent code is \"\n",
        "  seqLength = len(secretPref.split())\n",
        "  gramSize = seqLength + 1\n",
        "\n",
        "  # randomness space\n",
        "  secretLength = 2\n",
        "  bigR = numDistinctValues ** secretLength\n",
        "\n",
        "  # generate a random secret\n",
        "  secretText = generateSecret(secretLength, numDistinctValues)\n",
        "  insertedSecret = secretPref + secretText\n",
        "\n",
        "  print(\"\\n+---------------------------------------+\")\n",
        "  print(\"| THANK YOU FOR USING THE SECRET SHARER |\")\n",
        "  print(\"+---------------------------------------+\\n\")\n",
        "  print(\" True secrets inserted:\", numTrueSecrets)\n",
        "  print(\" False secrets inserted:\", numFalseSecrets)\n",
        "  print(\" Randomness space:\", numDistinctValues)\n",
        "  print(\" Training epochs:\", numEpochs)\n",
        "  print(\" Batch size:\", batchSize)\n",
        "  print(\" Secret text: '\", insertedSecret, \"'\\n\", sep = '')\n",
        "  print(\"-----------------------------------------\")\n",
        "  print(\"\\npreparing data...\")\n"
      ]
    },
    {
      "cell_type": "code",
      "execution_count": null,
      "metadata": {
        "id": "mTa_6LD3j242"
      },
      "outputs": [],
      "source": [
        "d, rootId = enumerateSecrets(secretLength, numDistinctValues, rootId, secretPref)\n",
        "#d here is all possible secrets\n",
        "#for the number of false secrets that we ordered it sample from d and make a data fram with name noise out of that \n",
        "# get some noise from these fake secret to add to training\n",
        "\n",
        "if numFalseSecrets > 0:\n",
        "    noise = [d[i] for i in sorted(random.sample(range(len(d)), numFalseSecrets))]\n",
        "    noiseDF = pd.DataFrame(noise)\n",
        "\n",
        "testSecret = pd.DataFrame(d);\n",
        "#test data has all possible secrets in it now\n",
        "dataRawT = dataRawT.append(d)\n",
        "#data for dct\n",
        "dataRawdct = dataRaw.append(d)\n",
        "\n",
        "d = []\n",
        "# several in training data\n",
        "for i in range(numTrueSecrets):\n",
        "    d.append({'id' : rootId,\n",
        "              'text' : insertedSecret,\n",
        "              'noPunc' : insertedSecret,\n",
        "              'splchk' : insertedSecret})\n",
        "    rootId += 1\n",
        "#truesecrets add in train data\n",
        "trainSecret = pd.DataFrame(d)\n",
        "dataRawR = dataRawR.append(d)\n",
        "#also the noise is added to train set\n",
        "if numFalseSecrets > 0:\n",
        "    dataRawR = dataRawR.append(noiseDF)\n",
        "#the train set have true sectrets and false secrets while test set has all possible secrets\n",
        "\n",
        "# 2.4 SPLIT INTO OVERLAPPING SETS OF WORDS -----------000000\n",
        "\n",
        "d = []\n",
        "gid = 0\n",
        "for i in range(len(dataRawR)):\n",
        "    grams = ngrams(dataRawR.splchk.iloc[i].split(), gramSize)\n",
        "    for g in grams:\n",
        "        d.append({'id' : gid,\n",
        "                  'data' : g})   \n",
        "        gid += 1\n",
        "\n",
        "dataGramsR = pd.DataFrame(d)\n",
        "\n",
        "d = []\n",
        "for i in range(len(dataRawV)):\n",
        "    grams = ngrams(dataRawV.splchk.iloc[i].split(), gramSize)\n",
        "    for g in grams:\n",
        "        d.append({'id' : gid,\n",
        "                  'data' : g})   \n",
        "        gid += 1\n",
        "\n",
        "dataGramsV = pd.DataFrame(d)\n",
        "\n",
        "d = []\n",
        "for i in range(len(dataRawT)):\n",
        "    grams = ngrams(dataRawT.splchk.iloc[i].split(), gramSize)\n",
        "    for g in grams:\n",
        "        d.append({'id' : gid,\n",
        "                  'data' : g})   \n",
        "        gid += 1\n",
        "\n",
        "dataGramsT = pd.DataFrame(d)"
      ]
    },
    {
      "cell_type": "code",
      "source": [
        "dataGramsR"
      ],
      "metadata": {
        "id": "PVMQg6ULWqOv",
        "colab": {
          "base_uri": "https://localhost:8080/",
          "height": 424
        },
        "outputId": "46236c35-9ade-4695-9619-9c31ad501903"
      },
      "execution_count": null,
      "outputs": [
        {
          "output_type": "execute_result",
          "data": {
            "text/plain": [
              "            id                                      data\n",
              "0            0         (go, until, jurong, point, crazy)\n",
              "1            1  (until, jurong, point, crazy, available)\n",
              "2            2   (jurong, point, crazy, available, only)\n",
              "3            3       (point, crazy, available, only, in)\n",
              "4            4       (crazy, available, only, in, bugis)\n",
              "...        ...                                       ...\n",
              "131010  131010             (permanent, code, is, 73, 04)\n",
              "131011  131011              (my, permanent, code, is, 2)\n",
              "131012  131012              (permanent, code, is, 2, 43)\n",
              "131013  131013             (my, permanent, code, is, 94)\n",
              "131014  131014             (permanent, code, is, 94, 71)\n",
              "\n",
              "[131015 rows x 2 columns]"
            ],
            "text/html": [
              "\n",
              "  <div id=\"df-670f7381-4a66-49cc-9b5f-6f8257edd8b6\">\n",
              "    <div class=\"colab-df-container\">\n",
              "      <div>\n",
              "<style scoped>\n",
              "    .dataframe tbody tr th:only-of-type {\n",
              "        vertical-align: middle;\n",
              "    }\n",
              "\n",
              "    .dataframe tbody tr th {\n",
              "        vertical-align: top;\n",
              "    }\n",
              "\n",
              "    .dataframe thead th {\n",
              "        text-align: right;\n",
              "    }\n",
              "</style>\n",
              "<table border=\"1\" class=\"dataframe\">\n",
              "  <thead>\n",
              "    <tr style=\"text-align: right;\">\n",
              "      <th></th>\n",
              "      <th>id</th>\n",
              "      <th>data</th>\n",
              "    </tr>\n",
              "  </thead>\n",
              "  <tbody>\n",
              "    <tr>\n",
              "      <th>0</th>\n",
              "      <td>0</td>\n",
              "      <td>(go, until, jurong, point, crazy)</td>\n",
              "    </tr>\n",
              "    <tr>\n",
              "      <th>1</th>\n",
              "      <td>1</td>\n",
              "      <td>(until, jurong, point, crazy, available)</td>\n",
              "    </tr>\n",
              "    <tr>\n",
              "      <th>2</th>\n",
              "      <td>2</td>\n",
              "      <td>(jurong, point, crazy, available, only)</td>\n",
              "    </tr>\n",
              "    <tr>\n",
              "      <th>3</th>\n",
              "      <td>3</td>\n",
              "      <td>(point, crazy, available, only, in)</td>\n",
              "    </tr>\n",
              "    <tr>\n",
              "      <th>4</th>\n",
              "      <td>4</td>\n",
              "      <td>(crazy, available, only, in, bugis)</td>\n",
              "    </tr>\n",
              "    <tr>\n",
              "      <th>...</th>\n",
              "      <td>...</td>\n",
              "      <td>...</td>\n",
              "    </tr>\n",
              "    <tr>\n",
              "      <th>131010</th>\n",
              "      <td>131010</td>\n",
              "      <td>(permanent, code, is, 73, 04)</td>\n",
              "    </tr>\n",
              "    <tr>\n",
              "      <th>131011</th>\n",
              "      <td>131011</td>\n",
              "      <td>(my, permanent, code, is, 2)</td>\n",
              "    </tr>\n",
              "    <tr>\n",
              "      <th>131012</th>\n",
              "      <td>131012</td>\n",
              "      <td>(permanent, code, is, 2, 43)</td>\n",
              "    </tr>\n",
              "    <tr>\n",
              "      <th>131013</th>\n",
              "      <td>131013</td>\n",
              "      <td>(my, permanent, code, is, 94)</td>\n",
              "    </tr>\n",
              "    <tr>\n",
              "      <th>131014</th>\n",
              "      <td>131014</td>\n",
              "      <td>(permanent, code, is, 94, 71)</td>\n",
              "    </tr>\n",
              "  </tbody>\n",
              "</table>\n",
              "<p>131015 rows × 2 columns</p>\n",
              "</div>\n",
              "      <button class=\"colab-df-convert\" onclick=\"convertToInteractive('df-670f7381-4a66-49cc-9b5f-6f8257edd8b6')\"\n",
              "              title=\"Convert this dataframe to an interactive table.\"\n",
              "              style=\"display:none;\">\n",
              "        \n",
              "  <svg xmlns=\"http://www.w3.org/2000/svg\" height=\"24px\"viewBox=\"0 0 24 24\"\n",
              "       width=\"24px\">\n",
              "    <path d=\"M0 0h24v24H0V0z\" fill=\"none\"/>\n",
              "    <path d=\"M18.56 5.44l.94 2.06.94-2.06 2.06-.94-2.06-.94-.94-2.06-.94 2.06-2.06.94zm-11 1L8.5 8.5l.94-2.06 2.06-.94-2.06-.94L8.5 2.5l-.94 2.06-2.06.94zm10 10l.94 2.06.94-2.06 2.06-.94-2.06-.94-.94-2.06-.94 2.06-2.06.94z\"/><path d=\"M17.41 7.96l-1.37-1.37c-.4-.4-.92-.59-1.43-.59-.52 0-1.04.2-1.43.59L10.3 9.45l-7.72 7.72c-.78.78-.78 2.05 0 2.83L4 21.41c.39.39.9.59 1.41.59.51 0 1.02-.2 1.41-.59l7.78-7.78 2.81-2.81c.8-.78.8-2.07 0-2.86zM5.41 20L4 18.59l7.72-7.72 1.47 1.35L5.41 20z\"/>\n",
              "  </svg>\n",
              "      </button>\n",
              "      \n",
              "  <style>\n",
              "    .colab-df-container {\n",
              "      display:flex;\n",
              "      flex-wrap:wrap;\n",
              "      gap: 12px;\n",
              "    }\n",
              "\n",
              "    .colab-df-convert {\n",
              "      background-color: #E8F0FE;\n",
              "      border: none;\n",
              "      border-radius: 50%;\n",
              "      cursor: pointer;\n",
              "      display: none;\n",
              "      fill: #1967D2;\n",
              "      height: 32px;\n",
              "      padding: 0 0 0 0;\n",
              "      width: 32px;\n",
              "    }\n",
              "\n",
              "    .colab-df-convert:hover {\n",
              "      background-color: #E2EBFA;\n",
              "      box-shadow: 0px 1px 2px rgba(60, 64, 67, 0.3), 0px 1px 3px 1px rgba(60, 64, 67, 0.15);\n",
              "      fill: #174EA6;\n",
              "    }\n",
              "\n",
              "    [theme=dark] .colab-df-convert {\n",
              "      background-color: #3B4455;\n",
              "      fill: #D2E3FC;\n",
              "    }\n",
              "\n",
              "    [theme=dark] .colab-df-convert:hover {\n",
              "      background-color: #434B5C;\n",
              "      box-shadow: 0px 1px 3px 1px rgba(0, 0, 0, 0.15);\n",
              "      filter: drop-shadow(0px 1px 2px rgba(0, 0, 0, 0.3));\n",
              "      fill: #FFFFFF;\n",
              "    }\n",
              "  </style>\n",
              "\n",
              "      <script>\n",
              "        const buttonEl =\n",
              "          document.querySelector('#df-670f7381-4a66-49cc-9b5f-6f8257edd8b6 button.colab-df-convert');\n",
              "        buttonEl.style.display =\n",
              "          google.colab.kernel.accessAllowed ? 'block' : 'none';\n",
              "\n",
              "        async function convertToInteractive(key) {\n",
              "          const element = document.querySelector('#df-670f7381-4a66-49cc-9b5f-6f8257edd8b6');\n",
              "          const dataTable =\n",
              "            await google.colab.kernel.invokeFunction('convertToInteractive',\n",
              "                                                     [key], {});\n",
              "          if (!dataTable) return;\n",
              "\n",
              "          const docLinkHtml = 'Like what you see? Visit the ' +\n",
              "            '<a target=\"_blank\" href=https://colab.research.google.com/notebooks/data_table.ipynb>data table notebook</a>'\n",
              "            + ' to learn more about interactive tables.';\n",
              "          element.innerHTML = '';\n",
              "          dataTable['output_type'] = 'display_data';\n",
              "          await google.colab.output.renderOutput(dataTable, element);\n",
              "          const docLink = document.createElement('div');\n",
              "          docLink.innerHTML = docLinkHtml;\n",
              "          element.appendChild(docLink);\n",
              "        }\n",
              "      </script>\n",
              "    </div>\n",
              "  </div>\n",
              "  "
            ]
          },
          "metadata": {},
          "execution_count": 43
        }
      ]
    },
    {
      "cell_type": "code",
      "execution_count": null,
      "metadata": {
        "id": "bV3kYLFPj243"
      },
      "outputs": [],
      "source": [
        "# word IDs\n",
        "#dct from dataRaw\n",
        "dct = dict()\n",
        "# word frequencies\n",
        "dctFreq = dict()\n",
        "did = 0\n",
        "for i in range(len(dataRawdct)):\n",
        "    s = dataRawdct.splchk.iloc[i].split()\n",
        "    for w in s:\n",
        "        if w not in dct:\n",
        "            dct[w] = did\n",
        "            did += 1\n",
        "            dctFreq[w] = 1\n",
        "        else:\n",
        "            dctFreq[w] += 1"
      ]
    },
    {
      "cell_type": "code",
      "execution_count": null,
      "metadata": {
        "id": "CDgJLLDoj243"
      },
      "outputs": [],
      "source": [
        "dctNoSingle = dict()\n",
        "did = 0\n",
        "for w in list(dct.keys()):\n",
        "    if dctFreq[w] !=1:\n",
        "        dctNoSingle[w] = did\n",
        "        did += 1\n",
        "        \n",
        "dct = dctNoSingle"
      ]
    },
    {
      "cell_type": "code",
      "execution_count": null,
      "metadata": {
        "id": "Mph6ev3nj243"
      },
      "outputs": [],
      "source": [
        "def noSingleUseWords(tup):\n",
        "    for w in tup:\n",
        "        if w not in dct:\n",
        "            return False\n",
        "    return True\n",
        "\n",
        "dataGramsR = dataGramsR[dataGramsR['data'].apply(noSingleUseWords) == True]\n",
        "dataGramsT = dataGramsT[dataGramsT['data'].apply(noSingleUseWords) == True]\n",
        "dataGramsV = dataGramsV[dataGramsV['data'].apply(noSingleUseWords) == True]\n"
      ]
    },
    {
      "cell_type": "code",
      "execution_count": null,
      "metadata": {
        "id": "jlDEhyV3j243",
        "colab": {
          "base_uri": "https://localhost:8080/"
        },
        "outputId": "d600a218-6eff-4263-ae64-5b70f5f39bfa"
      },
      "outputs": [
        {
          "output_type": "stream",
          "name": "stderr",
          "text": [
            "<ipython-input-47-173b97ba434e>:7: SettingWithCopyWarning: \n",
            "A value is trying to be set on a copy of a slice from a DataFrame.\n",
            "Try using .loc[row_indexer,col_indexer] = value instead\n",
            "\n",
            "See the caveats in the documentation: https://pandas.pydata.org/pandas-docs/stable/user_guide/indexing.html#returning-a-view-versus-a-copy\n",
            "  dataGramsR['codes'] = dataGramsR['data'].apply(encodeText)\n"
          ]
        }
      ],
      "source": [
        "def encodeText(tup):\n",
        "    code = [None] * len(tup)\n",
        "    for i in range(len(tup)):\n",
        "        code[i] = dct[tup[i]]  \n",
        "    return tuple(code)\n",
        "\n",
        "dataGramsR['codes'] = dataGramsR['data'].apply(encodeText)\n",
        "dataGramsT['codes'] = dataGramsT['data'].apply(encodeText)\n",
        "dataGramsV['codes'] = dataGramsV['data'].apply(encodeText)\n"
      ]
    },
    {
      "cell_type": "code",
      "execution_count": null,
      "metadata": {
        "id": "4STg8tCZj244",
        "colab": {
          "base_uri": "https://localhost:8080/"
        },
        "outputId": "09420eb1-f04b-4b9e-897c-8cf9d4947851"
      },
      "outputs": [
        {
          "output_type": "stream",
          "name": "stderr",
          "text": [
            "<ipython-input-48-8573288be9a1>:1: SettingWithCopyWarning: \n",
            "A value is trying to be set on a copy of a slice from a DataFrame.\n",
            "Try using .loc[row_indexer,col_indexer] = value instead\n",
            "\n",
            "See the caveats in the documentation: https://pandas.pydata.org/pandas-docs/stable/user_guide/indexing.html#returning-a-view-versus-a-copy\n",
            "  dataGramsR['x'] = dataGramsR['codes'].apply(dataSplit)\n",
            "<ipython-input-48-8573288be9a1>:2: SettingWithCopyWarning: \n",
            "A value is trying to be set on a copy of a slice from a DataFrame.\n",
            "Try using .loc[row_indexer,col_indexer] = value instead\n",
            "\n",
            "See the caveats in the documentation: https://pandas.pydata.org/pandas-docs/stable/user_guide/indexing.html#returning-a-view-versus-a-copy\n",
            "  dataGramsR['y'] = dataGramsR['codes'].apply(labelSplit)\n"
          ]
        }
      ],
      "source": [
        "dataGramsR['x'] = dataGramsR['codes'].apply(dataSplit)\n",
        "dataGramsR['y'] = dataGramsR['codes'].apply(labelSplit)\n",
        "\n",
        "dataGramsT['x'] = dataGramsT['codes'].apply(dataSplit)\n",
        "dataGramsT['y'] = dataGramsT['codes'].apply(labelSplit)\n",
        "\n",
        "dataGramsV['x'] = dataGramsV['codes'].apply(dataSplit)\n",
        "dataGramsV['y'] = dataGramsV['codes'].apply(labelSplit)\n"
      ]
    },
    {
      "cell_type": "code",
      "execution_count": null,
      "metadata": {
        "id": "9cTXSwuDj244"
      },
      "outputs": [],
      "source": [
        "# training\n",
        "xr = np.zeros((len(dataGramsR), seqLength), dtype = int) \n",
        "yr = np.zeros((len(dataGramsR)), dtype = int)\n",
        "for i in range(len(dataGramsR)):\n",
        "    for j in range(len(dataGramsR.x.iloc[i])):\n",
        "        xr[i][j] = dataGramsR.x.iloc[i][j]\n",
        "    yr[i] = dataGramsR.y.iloc[i]\n",
        "\n",
        "# validation\n",
        "xv = np.zeros((len(dataGramsV), seqLength), dtype = int)\n",
        "yv = np.zeros((len(dataGramsV)), dtype = int)    \n",
        "for i in range(len(dataGramsV)):\n",
        "    for j in range(len(dataGramsV.x.iloc[i])):\n",
        "        xv[i][j] = dataGramsV.x.iloc[i][j]\n",
        "    yv[i] = dataGramsV.y.iloc[i]\n",
        "    \n",
        "# testing\n",
        "xt = np.zeros((len(dataGramsT), seqLength), dtype = int)\n",
        "yt = np.zeros((len(dataGramsT)), dtype = int)\n",
        "for i in range(len(dataGramsT)):\n",
        "    for j in range(len(dataGramsT.x.iloc[i])):\n",
        "        xt[i][j] = dataGramsT.x.iloc[i][j]\n",
        "    yt[i] = dataGramsT.y.iloc[i]\n"
      ]
    },
    {
      "cell_type": "code",
      "source": [
        "#to add numbers that are not in dictionary to the dictionary\n",
        "counter = len(dct)\n",
        "for i in range(150):\n",
        "  if str(i) not in dct:\n",
        "    counter += 1\n",
        "    dct[str(i)] = counter"
      ],
      "metadata": {
        "id": "9RS2LtXexyjl"
      },
      "execution_count": null,
      "outputs": []
    },
    {
      "cell_type": "code",
      "source": [
        "vocabSize = len(dct)\n",
        "vocabSize"
      ],
      "metadata": {
        "id": "0_5sZRTlj245",
        "colab": {
          "base_uri": "https://localhost:8080/"
        },
        "outputId": "aafbcef7-6dcd-4b3c-9714-9c991ccc02e4"
      },
      "execution_count": null,
      "outputs": [
        {
          "output_type": "execute_result",
          "data": {
            "text/plain": [
              "9558"
            ]
          },
          "metadata": {},
          "execution_count": 51
        }
      ]
    },
    {
      "cell_type": "code",
      "execution_count": null,
      "metadata": {
        "id": "fkEsJ2yXj245"
      },
      "outputs": [],
      "source": [
        "# 5.1 ONE-HOT ENCODE LABEL DATA ----------------------------\n",
        "# training\n",
        "\n",
        "\n",
        "b = np.zeros((len(yr), vocabSize))\n",
        "b[np.arange(len(yr)), yr] = 1\n"
      ]
    },
    {
      "cell_type": "code",
      "execution_count": null,
      "metadata": {
        "id": "QbXIgSsIj245"
      },
      "outputs": [],
      "source": [
        "# validation\n",
        "\n",
        "\n",
        "bv = np.zeros((len(yv), vocabSize))\n",
        "bv[np.arange(len(yv)), yv] = 1\n"
      ]
    },
    {
      "cell_type": "code",
      "execution_count": null,
      "metadata": {
        "id": "O5TITD0bj245"
      },
      "outputs": [],
      "source": [
        "import sys\n",
        "import numpy as np\n"
      ]
    },
    {
      "cell_type": "code",
      "execution_count": null,
      "metadata": {
        "id": "LzthD8Kwj246",
        "colab": {
          "base_uri": "https://localhost:8080/",
          "height": 35
        },
        "outputId": "fafc2172-e6eb-4f01-f79f-8be09d232569"
      },
      "outputs": [
        {
          "output_type": "execute_result",
          "data": {
            "text/plain": [
              "'/device:GPU:0'"
            ],
            "application/vnd.google.colaboratory.intrinsic+json": {
              "type": "string"
            }
          },
          "metadata": {},
          "execution_count": 55
        }
      ],
      "source": [
        "import tensorflow as tf\n",
        "tf.test.gpu_device_name()"
      ]
    },
    {
      "cell_type": "code",
      "execution_count": null,
      "metadata": {
        "id": "cC89HWs8j246"
      },
      "outputs": [],
      "source": [
        "from keras.utils.vis_utils import plot_model"
      ]
    },
    {
      "cell_type": "code",
      "execution_count": null,
      "metadata": {
        "id": "YL1SgEH6j247"
      },
      "outputs": [],
      "source": [
        "tf.keras.backend.clear_session()"
      ]
    },
    {
      "cell_type": "code",
      "execution_count": null,
      "metadata": {
        "id": "PYd1Xu_zj247"
      },
      "outputs": [],
      "source": [
        "# 5.2 COMPILE MODEL ----------------------------------------\n",
        "model = Sequential()\n",
        "model.add(Embedding(vocabSize, seqLength, input_length = seqLength))\n",
        "model.add(LSTM(100, return_sequences = True))\n",
        "model.add(LSTM(100))\n",
        "model.add(Dense(100, activation = 'relu'))\n",
        "model.add(Dense(vocabSize, activation = 'softmax'))\n",
        "\n",
        "model.compile(loss = 'categorical_crossentropy', optimizer = 'adam', metrics = ['accuracy'])"
      ]
    },
    {
      "cell_type": "code",
      "execution_count": null,
      "metadata": {
        "id": "pbbmuHmZj247"
      },
      "outputs": [],
      "source": [
        "#plot_model(model, to_file='LSTM_plot.png', show_shapes=True, show_layer_names=True)"
      ]
    },
    {
      "cell_type": "code",
      "execution_count": null,
      "metadata": {
        "id": "vEXaVKf7j247",
        "colab": {
          "base_uri": "https://localhost:8080/"
        },
        "outputId": "a536ddfe-2f65-460b-e9cd-faa4dd172528"
      },
      "outputs": [
        {
          "output_type": "stream",
          "name": "stdout",
          "text": [
            "training model...\n",
            "Epoch 1/5\n",
            "424/424 [==============================] - 18s 21ms/step - loss: 6.9520 - accuracy: 0.0405 - val_loss: 6.7629 - val_accuracy: 0.0401\n",
            "Epoch 2/5\n",
            "424/424 [==============================] - 6s 15ms/step - loss: 6.6470 - accuracy: 0.0416 - val_loss: 6.7631 - val_accuracy: 0.0401\n",
            "Epoch 3/5\n",
            "424/424 [==============================] - 6s 15ms/step - loss: 6.6126 - accuracy: 0.0416 - val_loss: 6.7240 - val_accuracy: 0.0402\n",
            "Epoch 4/5\n",
            "424/424 [==============================] - 6s 15ms/step - loss: 6.5184 - accuracy: 0.0440 - val_loss: 6.6230 - val_accuracy: 0.0444\n",
            "Epoch 5/5\n",
            "424/424 [==============================] - 6s 15ms/step - loss: 6.3371 - accuracy: 0.0502 - val_loss: 6.5531 - val_accuracy: 0.0495\n"
          ]
        }
      ],
      "source": [
        "print(\"training model...\")\n",
        "history = model.fit(xr, b, batch_size = batchSize, epochs = numEpochs, verbose = True,\n",
        "                    validation_data = (xv, bv))"
      ]
    },
    {
      "cell_type": "code",
      "source": [
        "scores = model.evaluate(xv, bv, verbose=2)\n",
        "print(\"Accuracy: %.2f%%\" % (scores[1]*100))"
      ],
      "metadata": {
        "id": "V0CJvldlb0dg",
        "colab": {
          "base_uri": "https://localhost:8080/"
        },
        "outputId": "500f8c50-291a-4f66-d437-dc4452782add"
      },
      "execution_count": null,
      "outputs": [
        {
          "output_type": "stream",
          "name": "stdout",
          "text": [
            "855/855 - 4s - loss: 6.5531 - accuracy: 0.0495 - 4s/epoch - 4ms/step\n",
            "Accuracy: 4.95%\n"
          ]
        }
      ]
    },
    {
      "cell_type": "code",
      "execution_count": null,
      "metadata": {
        "id": "uIhgvCv5j247",
        "colab": {
          "base_uri": "https://localhost:8080/"
        },
        "outputId": "26c7110e-1509-4a0a-f071-c1a311088eff"
      },
      "outputs": [
        {
          "output_type": "stream",
          "name": "stderr",
          "text": [
            "WARNING:absl:Found untraced functions such as lstm_cell_layer_call_fn, lstm_cell_layer_call_and_return_conditional_losses, lstm_cell_1_layer_call_fn, lstm_cell_1_layer_call_and_return_conditional_losses while saving (showing 4 of 4). These functions will not be directly callable after loading.\n"
          ]
        },
        {
          "output_type": "execute_result",
          "data": {
            "text/plain": [
              "['RQ1-200sec.sav']"
            ]
          },
          "metadata": {},
          "execution_count": 62
        }
      ],
      "source": [
        "import joblib\n",
        "joblib.dump(model, 'RQ1-200sec.sav')"
      ]
    },
    {
      "cell_type": "code",
      "source": [
        "#import joblib\n",
        "#loaded_model = joblib.load('smslstmsec1.sav')"
      ],
      "metadata": {
        "id": "WmS1eOuLj247"
      },
      "execution_count": null,
      "outputs": []
    },
    {
      "cell_type": "markdown",
      "source": [
        "###**RQ3**"
      ],
      "metadata": {
        "id": "Voq6qIZy29i6"
      }
    },
    {
      "cell_type": "markdown",
      "source": [
        "In this research question we want to see rare secrets and secrets that has been exposed to model more than one time make difference in exposure metric"
      ],
      "metadata": {
        "id": "l_tTUc4g29i7"
      }
    },
    {
      "cell_type": "code",
      "source": [
        "random.seed(10)"
      ],
      "metadata": {
        "id": "9UREtL8V29i7"
      },
      "execution_count": null,
      "outputs": []
    },
    {
      "cell_type": "code",
      "execution_count": null,
      "metadata": {
        "colab": {
          "base_uri": "https://localhost:8080/"
        },
        "outputId": "0bd459d6-acff-4af2-b634-307c50c3ea82",
        "id": "KYnUuzB829i8"
      },
      "outputs": [
        {
          "output_type": "stream",
          "name": "stdout",
          "text": [
            "\n",
            "+---------------------------------------+\n",
            "| THANK YOU FOR USING THE SECRET SHARER |\n",
            "+---------------------------------------+\n",
            "\n",
            " True secrets inserted: 20\n",
            " False secrets inserted: 2\n",
            " Randomness space: 100\n",
            " Training epochs: 7\n",
            " Batch size: 256\n",
            " Secret text: 'my permanent code is 73 04'\n",
            "\n",
            "-----------------------------------------\n",
            "\n",
            "preparing data...\n"
          ]
        }
      ],
      "source": [
        "# 0. EXPERIMENTAL SETUP ====================================\n",
        "\n",
        "# how many copies of the secret do we insert?\n",
        "numTrueSecrets = 20\n",
        "# how many 'noisy' secrets do we insert?\n",
        "numFalseSecrets = 2\n",
        "# how many ticks are on our lock?\n",
        "numDistinctValues = 100\n",
        "# how long should we train the model?\n",
        "numEpochs = 7\n",
        "batchSize = 256\n",
        "\n",
        "# what form should the secret take?\n",
        "secretPref = \"my permanent code is \"\n",
        "seqLength = len(secretPref.split())\n",
        "gramSize = seqLength + 1\n",
        "\n",
        "# randomness space\n",
        "secretLength = 2\n",
        "bigR = numDistinctValues ** secretLength\n",
        "\n",
        "# generate a random secret\n",
        "secretText = generateSecret(secretLength, numDistinctValues)\n",
        "insertedSecret = secretPref + secretText\n",
        "\n",
        "print(\"\\n+---------------------------------------+\")\n",
        "print(\"| THANK YOU FOR USING THE SECRET SHARER |\")\n",
        "print(\"+---------------------------------------+\\n\")\n",
        "print(\" True secrets inserted:\", numTrueSecrets)\n",
        "print(\" False secrets inserted:\", numFalseSecrets)\n",
        "print(\" Randomness space:\", numDistinctValues)\n",
        "print(\" Training epochs:\", numEpochs)\n",
        "print(\" Batch size:\", batchSize)\n",
        "print(\" Secret text: '\", insertedSecret, \"'\\n\", sep = '')\n",
        "print(\"-----------------------------------------\")\n",
        "print(\"\\npreparing data...\")\n"
      ]
    },
    {
      "cell_type": "code",
      "execution_count": null,
      "metadata": {
        "id": "82dKKkHW29i9"
      },
      "outputs": [],
      "source": [
        "d, rootId = enumerateSecrets(secretLength, numDistinctValues, rootId, secretPref)\n",
        "#d here is all possible secrets\n",
        "#for the number of false secrets that we ordered it sample from d and make a data fram with name noise out of that \n",
        "# get some noise from these fake secret to add to training\n",
        "\n",
        "if numFalseSecrets > 0:\n",
        "    noise = [d[i] for i in sorted(random.sample(range(len(d)), numFalseSecrets))]\n",
        "    noiseDF = pd.DataFrame(noise)\n",
        "\n",
        "testSecret = pd.DataFrame(d);\n",
        "#test data has all possible secrets in it now\n",
        "dataRawT = dataRawT.append(d)\n",
        "#data for dct\n",
        "dataRawdct = dataRaw.append(d)\n",
        "\n",
        "d = []\n",
        "# several in training data\n",
        "for i in range(numTrueSecrets):\n",
        "    d.append({'id' : rootId,\n",
        "              'text' : insertedSecret,\n",
        "              'noPunc' : insertedSecret,\n",
        "              'splchk' : insertedSecret})\n",
        "    rootId += 1\n",
        "#truesecrets add in train data\n",
        "trainSecret = pd.DataFrame(d)\n",
        "dataRawR = dataRawR.append(d)\n",
        "#also the noise is added to train set\n",
        "if numFalseSecrets > 0:\n",
        "    dataRawR = dataRawR.append(noiseDF)\n",
        "#the train set have true sectrets and false secrets while test set has all possible secrets\n",
        "\n",
        "# 2.4 SPLIT INTO OVERLAPPING SETS OF WORDS -----------000000\n",
        "\n",
        "d = []\n",
        "gid = 0\n",
        "for i in range(len(dataRawR)):\n",
        "    grams = ngrams(dataRawR.splchk.iloc[i].split(), gramSize)\n",
        "    for g in grams:\n",
        "        d.append({'id' : gid,\n",
        "                  'data' : g})   \n",
        "        gid += 1\n",
        "\n",
        "dataGramsR = pd.DataFrame(d)\n",
        "\n",
        "d = []\n",
        "for i in range(len(dataRawV)):\n",
        "    grams = ngrams(dataRawV.splchk.iloc[i].split(), gramSize)\n",
        "    for g in grams:\n",
        "        d.append({'id' : gid,\n",
        "                  'data' : g})   \n",
        "        gid += 1\n",
        "\n",
        "dataGramsV = pd.DataFrame(d)\n",
        "\n",
        "d = []\n",
        "for i in range(len(dataRawT)):\n",
        "    grams = ngrams(dataRawT.splchk.iloc[i].split(), gramSize)\n",
        "    for g in grams:\n",
        "        d.append({'id' : gid,\n",
        "                  'data' : g})   \n",
        "        gid += 1\n",
        "\n",
        "dataGramsT = pd.DataFrame(d)"
      ]
    },
    {
      "cell_type": "code",
      "execution_count": null,
      "metadata": {
        "id": "yN4oaj5V29i9"
      },
      "outputs": [],
      "source": [
        "# word IDs\n",
        "#dct from dataRaw\n",
        "dct = dict()\n",
        "# word frequencies\n",
        "dctFreq = dict()\n",
        "did = 0\n",
        "for i in range(len(dataRawdct)):\n",
        "    s = dataRawdct.splchk.iloc[i].split()\n",
        "    for w in s:\n",
        "        if w not in dct:\n",
        "            dct[w] = did\n",
        "            did += 1\n",
        "            dctFreq[w] = 1\n",
        "        else:\n",
        "            dctFreq[w] += 1"
      ]
    },
    {
      "cell_type": "code",
      "execution_count": null,
      "metadata": {
        "id": "roTdHsPN29i-"
      },
      "outputs": [],
      "source": [
        "dctNoSingle = dict()\n",
        "did = 0\n",
        "for w in list(dct.keys()):\n",
        "    if dctFreq[w] !=1:\n",
        "        dctNoSingle[w] = did\n",
        "        did += 1\n",
        "        \n",
        "dct = dctNoSingle"
      ]
    },
    {
      "cell_type": "code",
      "execution_count": null,
      "metadata": {
        "id": "PIqhlRXf29i-"
      },
      "outputs": [],
      "source": [
        "def noSingleUseWords(tup):\n",
        "    for w in tup:\n",
        "        if w not in dct:\n",
        "            return False\n",
        "    return True\n",
        "\n",
        "dataGramsR = dataGramsR[dataGramsR['data'].apply(noSingleUseWords) == True]\n",
        "dataGramsT = dataGramsT[dataGramsT['data'].apply(noSingleUseWords) == True]\n",
        "dataGramsV = dataGramsV[dataGramsV['data'].apply(noSingleUseWords) == True]\n"
      ]
    },
    {
      "cell_type": "code",
      "execution_count": null,
      "metadata": {
        "id": "36KY__rp29i_"
      },
      "outputs": [],
      "source": [
        "def encodeText(tup):\n",
        "    code = [None] * len(tup)\n",
        "    for i in range(len(tup)):\n",
        "        code[i] = dct[tup[i]]  \n",
        "    return tuple(code)\n",
        "\n",
        "dataGramsR['codes'] = dataGramsR['data'].apply(encodeText)\n",
        "dataGramsT['codes'] = dataGramsT['data'].apply(encodeText)\n",
        "dataGramsV['codes'] = dataGramsV['data'].apply(encodeText)\n"
      ]
    },
    {
      "cell_type": "code",
      "execution_count": null,
      "metadata": {
        "id": "tkHg-u1t29i_"
      },
      "outputs": [],
      "source": [
        "dataGramsR['x'] = dataGramsR['codes'].apply(dataSplit)\n",
        "dataGramsR['y'] = dataGramsR['codes'].apply(labelSplit)\n",
        "\n",
        "dataGramsT['x'] = dataGramsT['codes'].apply(dataSplit)\n",
        "dataGramsT['y'] = dataGramsT['codes'].apply(labelSplit)\n",
        "\n",
        "dataGramsV['x'] = dataGramsV['codes'].apply(dataSplit)\n",
        "dataGramsV['y'] = dataGramsV['codes'].apply(labelSplit)\n"
      ]
    },
    {
      "cell_type": "code",
      "execution_count": null,
      "metadata": {
        "id": "OwBHJqrI29i_"
      },
      "outputs": [],
      "source": [
        "# training\n",
        "xr = np.zeros((len(dataGramsR), seqLength), dtype = int) \n",
        "yr = np.zeros((len(dataGramsR)), dtype = int)\n",
        "for i in range(len(dataGramsR)):\n",
        "    for j in range(len(dataGramsR.x.iloc[i])):\n",
        "        xr[i][j] = dataGramsR.x.iloc[i][j]\n",
        "    yr[i] = dataGramsR.y.iloc[i]\n",
        "\n",
        "# validation\n",
        "xv = np.zeros((len(dataGramsV), seqLength), dtype = int)\n",
        "yv = np.zeros((len(dataGramsV)), dtype = int)    \n",
        "for i in range(len(dataGramsV)):\n",
        "    for j in range(len(dataGramsV.x.iloc[i])):\n",
        "        xv[i][j] = dataGramsV.x.iloc[i][j]\n",
        "    yv[i] = dataGramsV.y.iloc[i]\n",
        "    \n",
        "# testing\n",
        "xt = np.zeros((len(dataGramsT), seqLength), dtype = int)\n",
        "yt = np.zeros((len(dataGramsT)), dtype = int)\n",
        "for i in range(len(dataGramsT)):\n",
        "    for j in range(len(dataGramsT.x.iloc[i])):\n",
        "        xt[i][j] = dataGramsT.x.iloc[i][j]\n",
        "    yt[i] = dataGramsT.y.iloc[i]\n"
      ]
    },
    {
      "cell_type": "code",
      "source": [
        "#to add numbers that are not in dictionary to the dictionary\n",
        "counter = len(dct)\n",
        "for i in range(150):\n",
        "  if str(i) not in dct:\n",
        "    counter += 1\n",
        "    dct[str(i)] = counter"
      ],
      "metadata": {
        "id": "yHrw3DrM29jA"
      },
      "execution_count": null,
      "outputs": []
    },
    {
      "cell_type": "code",
      "source": [
        "vocabSize = len(dct)\n",
        "vocabSize"
      ],
      "metadata": {
        "id": "l_XiV8ML29jA",
        "colab": {
          "base_uri": "https://localhost:8080/"
        },
        "outputId": "27c8717e-f17d-41d6-c4e2-cef706ddf543"
      },
      "execution_count": null,
      "outputs": [
        {
          "output_type": "execute_result",
          "data": {
            "text/plain": [
              "9558"
            ]
          },
          "metadata": {},
          "execution_count": 21
        }
      ]
    },
    {
      "cell_type": "code",
      "execution_count": null,
      "metadata": {
        "id": "vvEqxoKy29jA"
      },
      "outputs": [],
      "source": [
        "# 5.1 ONE-HOT ENCODE LABEL DATA ----------------------------\n",
        "# training\n",
        "\n",
        "\n",
        "b = np.zeros((len(yr), vocabSize))\n",
        "b[np.arange(len(yr)), yr] = 1\n"
      ]
    },
    {
      "cell_type": "code",
      "execution_count": null,
      "metadata": {
        "id": "5dQEbUpM29jB"
      },
      "outputs": [],
      "source": [
        "# validation\n",
        "\n",
        "\n",
        "bv = np.zeros((len(yv), vocabSize))\n",
        "bv[np.arange(len(yv)), yv] = 1\n"
      ]
    },
    {
      "cell_type": "code",
      "execution_count": null,
      "metadata": {
        "id": "htrKDrng29jB"
      },
      "outputs": [],
      "source": [
        "import sys\n",
        "import numpy as np\n"
      ]
    },
    {
      "cell_type": "code",
      "execution_count": null,
      "metadata": {
        "id": "lllrmqOH29jB",
        "colab": {
          "base_uri": "https://localhost:8080/",
          "height": 35
        },
        "outputId": "052b65ca-f7bc-4953-b288-787e7c32a671"
      },
      "outputs": [
        {
          "output_type": "execute_result",
          "data": {
            "text/plain": [
              "'/device:GPU:0'"
            ],
            "application/vnd.google.colaboratory.intrinsic+json": {
              "type": "string"
            }
          },
          "metadata": {},
          "execution_count": 25
        }
      ],
      "source": [
        "import tensorflow as tf\n",
        "tf.test.gpu_device_name()"
      ]
    },
    {
      "cell_type": "code",
      "execution_count": null,
      "metadata": {
        "id": "ECjWz2Tf29jC"
      },
      "outputs": [],
      "source": [
        "from keras.utils.vis_utils import plot_model"
      ]
    },
    {
      "cell_type": "code",
      "execution_count": null,
      "metadata": {
        "id": "JYumbASl29jC"
      },
      "outputs": [],
      "source": [
        "tf.keras.backend.clear_session()"
      ]
    },
    {
      "cell_type": "code",
      "execution_count": null,
      "metadata": {
        "id": "nN4jZI0629jC"
      },
      "outputs": [],
      "source": [
        "# 5.2 COMPILE MODEL ----------------------------------------\n",
        "model = Sequential()\n",
        "model.add(Embedding(vocabSize, seqLength, input_length = seqLength))\n",
        "model.add(LSTM(100, return_sequences = True))\n",
        "model.add(LSTM(100))\n",
        "model.add(Dense(100, activation = 'relu'))\n",
        "model.add(Dense(vocabSize, activation = 'softmax'))\n",
        "\n",
        "model.compile(loss = 'categorical_crossentropy', optimizer = 'adam', metrics = ['accuracy'])"
      ]
    },
    {
      "cell_type": "code",
      "execution_count": null,
      "metadata": {
        "id": "-y7UPehg29jD"
      },
      "outputs": [],
      "source": [
        "#plot_model(model, to_file='LSTM_plot.png', show_shapes=True, show_layer_names=True)"
      ]
    },
    {
      "cell_type": "code",
      "execution_count": null,
      "metadata": {
        "id": "4Y5nBt2T29jD",
        "colab": {
          "base_uri": "https://localhost:8080/"
        },
        "outputId": "6ef4dcb8-6248-453e-86bc-8c062c2666e5"
      },
      "outputs": [
        {
          "output_type": "stream",
          "name": "stdout",
          "text": [
            "training model...\n",
            "Epoch 1/7\n",
            "420/420 [==============================] - 15s 16ms/step - loss: 6.9590 - accuracy: 0.0403 - val_loss: 6.7405 - val_accuracy: 0.0424\n",
            "Epoch 2/7\n",
            "420/420 [==============================] - 5s 12ms/step - loss: 6.6532 - accuracy: 0.0412 - val_loss: 6.7423 - val_accuracy: 0.0424\n",
            "Epoch 3/7\n",
            "420/420 [==============================] - 5s 12ms/step - loss: 6.6151 - accuracy: 0.0412 - val_loss: 6.7039 - val_accuracy: 0.0424\n",
            "Epoch 4/7\n",
            "420/420 [==============================] - 5s 12ms/step - loss: 6.5322 - accuracy: 0.0431 - val_loss: 6.6082 - val_accuracy: 0.0462\n",
            "Epoch 5/7\n",
            "420/420 [==============================] - 5s 12ms/step - loss: 6.3589 - accuracy: 0.0474 - val_loss: 6.5395 - val_accuracy: 0.0478\n",
            "Epoch 6/7\n",
            "420/420 [==============================] - 5s 12ms/step - loss: 6.2267 - accuracy: 0.0508 - val_loss: 6.4992 - val_accuracy: 0.0509\n",
            "Epoch 7/7\n",
            "420/420 [==============================] - 5s 12ms/step - loss: 6.1139 - accuracy: 0.0570 - val_loss: 6.4685 - val_accuracy: 0.0594\n"
          ]
        }
      ],
      "source": [
        "print(\"training model...\")\n",
        "history = model.fit(xr, b, batch_size = batchSize, epochs = numEpochs, verbose = True,\n",
        "                    validation_data = (xv, bv))"
      ]
    },
    {
      "cell_type": "code",
      "source": [
        "scores = model.evaluate(xv, bv, verbose=2)\n",
        "print(\"Accuracy: %.2f%%\" % (scores[1]*100))"
      ],
      "metadata": {
        "id": "vnR2oPmP29jD",
        "colab": {
          "base_uri": "https://localhost:8080/"
        },
        "outputId": "ce6502c8-9792-4488-ce34-349802445cd9"
      },
      "execution_count": null,
      "outputs": [
        {
          "output_type": "stream",
          "name": "stdout",
          "text": [
            "828/828 - 3s - loss: 6.4685 - accuracy: 0.0594 - 3s/epoch - 4ms/step\n",
            "Accuracy: 5.94%\n"
          ]
        }
      ]
    },
    {
      "cell_type": "code",
      "execution_count": null,
      "metadata": {
        "id": "27Ilb6dd29jE",
        "colab": {
          "base_uri": "https://localhost:8080/"
        },
        "outputId": "632abc9e-551f-4872-a619-0f56c4656964"
      },
      "outputs": [
        {
          "output_type": "stream",
          "name": "stderr",
          "text": [
            "WARNING:absl:Found untraced functions such as lstm_cell_layer_call_fn, lstm_cell_layer_call_and_return_conditional_losses, lstm_cell_1_layer_call_fn, lstm_cell_1_layer_call_and_return_conditional_losses while saving (showing 4 of 4). These functions will not be directly callable after loading.\n"
          ]
        },
        {
          "output_type": "execute_result",
          "data": {
            "text/plain": [
              "['RQ3-20sec.sav']"
            ]
          },
          "metadata": {},
          "execution_count": 32
        }
      ],
      "source": [
        "# import joblib\n",
        "# joblib.dump(model, 'RQ3-20sec.sav')"
      ]
    },
    {
      "cell_type": "code",
      "source": [
        "#import joblib\n",
        "#loaded_model = joblib.load('smslstmsec1.sav')"
      ],
      "metadata": {
        "id": "vUuEk0UO29jE"
      },
      "execution_count": null,
      "outputs": []
    },
    {
      "cell_type": "markdown",
      "source": [
        "###**RQ4**"
      ],
      "metadata": {
        "id": "nW-Ai90r0Sx3"
      }
    },
    {
      "cell_type": "markdown",
      "source": [
        "In this research question we want to see if the model designed with dp-sgd and in secured with differential privacy algorithm, does that change results we have from the RQ1 and does that help the model reduce the unintended memorization? "
      ],
      "metadata": {
        "id": "2DluPpVy0Sx3"
      }
    },
    {
      "cell_type": "code",
      "source": [
        "random.seed(10)"
      ],
      "metadata": {
        "id": "HbqhKhQL0Sx3"
      },
      "execution_count": null,
      "outputs": []
    },
    {
      "cell_type": "code",
      "execution_count": null,
      "metadata": {
        "colab": {
          "base_uri": "https://localhost:8080/"
        },
        "outputId": "47618ce7-0d30-4b6a-878b-259b1a3d8736",
        "id": "t1KP2-410Sx3"
      },
      "outputs": [
        {
          "output_type": "stream",
          "name": "stdout",
          "text": [
            "\n",
            "+---------------------------------------+\n",
            "| THANK YOU FOR USING THE SECRET SHARER |\n",
            "+---------------------------------------+\n",
            "\n",
            " True secrets inserted: 30\n",
            " False secrets inserted: 2\n",
            " Randomness space: 100\n",
            " Training epochs: 5\n",
            " Batch size: 256\n",
            " Secret text: 'my permanent code is 73 04'\n",
            "\n",
            "-----------------------------------------\n",
            "\n",
            "preparing data...\n"
          ]
        }
      ],
      "source": [
        "# 0. EXPERIMENTAL SETUP ====================================\n",
        "\n",
        "# how many copies of the secret do we insert?\n",
        "numTrueSecrets = 30\n",
        "# how many 'noisy' secrets do we insert?\n",
        "numFalseSecrets = 2\n",
        "# how many ticks are on our lock?\n",
        "numDistinctValues = 100\n",
        "# how long should we train the model?\n",
        "numEpochs = 5\n",
        "batchSize = 256\n",
        "\n",
        "# what form should the secret take?\n",
        "secretPref = \"my permanent code is \"\n",
        "seqLength = len(secretPref.split())\n",
        "gramSize = seqLength + 1\n",
        "\n",
        "# randomness space\n",
        "secretLength = 2\n",
        "bigR = numDistinctValues ** secretLength\n",
        "\n",
        "# generate a random secret\n",
        "secretText = generateSecret(secretLength, numDistinctValues)\n",
        "insertedSecret = secretPref + secretText\n",
        "\n",
        "print(\"\\n+---------------------------------------+\")\n",
        "print(\"| THANK YOU FOR USING THE SECRET SHARER |\")\n",
        "print(\"+---------------------------------------+\\n\")\n",
        "print(\" True secrets inserted:\", numTrueSecrets)\n",
        "print(\" False secrets inserted:\", numFalseSecrets)\n",
        "print(\" Randomness space:\", numDistinctValues)\n",
        "print(\" Training epochs:\", numEpochs)\n",
        "print(\" Batch size:\", batchSize)\n",
        "print(\" Secret text: '\", insertedSecret, \"'\\n\", sep = '')\n",
        "print(\"-----------------------------------------\")\n",
        "print(\"\\npreparing data...\")\n"
      ]
    },
    {
      "cell_type": "code",
      "execution_count": null,
      "metadata": {
        "id": "dmCA3vVb0Sx4"
      },
      "outputs": [],
      "source": [
        "d, rootId = enumerateSecrets(secretLength, numDistinctValues, rootId, secretPref)\n",
        "#d here is all possible secrets\n",
        "#for the number of false secrets that we ordered it sample from d and make a data fram with name noise out of that \n",
        "# get some noise from these fake secret to add to training\n",
        "\n",
        "if numFalseSecrets > 0:\n",
        "    noise = [d[i] for i in sorted(random.sample(range(len(d)), numFalseSecrets))]\n",
        "    noiseDF = pd.DataFrame(noise)\n",
        "\n",
        "testSecret = pd.DataFrame(d);\n",
        "#test data has all possible secrets in it now\n",
        "dataRawT = dataRawT.append(d)\n",
        "#data for dct\n",
        "dataRawdct = dataRaw.append(d)\n",
        "\n",
        "d = []\n",
        "# several in training data\n",
        "for i in range(numTrueSecrets):\n",
        "    d.append({'id' : rootId,\n",
        "              'text' : insertedSecret,\n",
        "              'noPunc' : insertedSecret,\n",
        "              'splchk' : insertedSecret})\n",
        "    rootId += 1\n",
        "#truesecrets add in train data\n",
        "trainSecret = pd.DataFrame(d)\n",
        "dataRawR = dataRawR.append(d)\n",
        "#also the noise is added to train set\n",
        "if numFalseSecrets > 0:\n",
        "    dataRawR = dataRawR.append(noiseDF)\n",
        "#the train set have true sectrets and false secrets while test set has all possible secrets\n",
        "\n",
        "# 2.4 SPLIT INTO OVERLAPPING SETS OF WORDS -----------000000\n",
        "\n",
        "d = []\n",
        "gid = 0\n",
        "for i in range(len(dataRawR)):\n",
        "    grams = ngrams(dataRawR.splchk.iloc[i].split(), gramSize)\n",
        "    for g in grams:\n",
        "        d.append({'id' : gid,\n",
        "                  'data' : g})   \n",
        "        gid += 1\n",
        "\n",
        "dataGramsR = pd.DataFrame(d)\n",
        "\n",
        "d = []\n",
        "for i in range(len(dataRawV)):\n",
        "    grams = ngrams(dataRawV.splchk.iloc[i].split(), gramSize)\n",
        "    for g in grams:\n",
        "        d.append({'id' : gid,\n",
        "                  'data' : g})   \n",
        "        gid += 1\n",
        "\n",
        "dataGramsV = pd.DataFrame(d)\n",
        "\n",
        "d = []\n",
        "for i in range(len(dataRawT)):\n",
        "    grams = ngrams(dataRawT.splchk.iloc[i].split(), gramSize)\n",
        "    for g in grams:\n",
        "        d.append({'id' : gid,\n",
        "                  'data' : g})   \n",
        "        gid += 1\n",
        "\n",
        "dataGramsT = pd.DataFrame(d)"
      ]
    },
    {
      "cell_type": "code",
      "execution_count": null,
      "metadata": {
        "id": "W_JP5pAN0Sx5"
      },
      "outputs": [],
      "source": [
        "# word IDs\n",
        "#dct from dataRaw\n",
        "dct = dict()\n",
        "# word frequencies\n",
        "dctFreq = dict()\n",
        "did = 0\n",
        "for i in range(len(dataRawdct)):\n",
        "    s = dataRawdct.splchk.iloc[i].split()\n",
        "    for w in s:\n",
        "        if w not in dct:\n",
        "            dct[w] = did\n",
        "            did += 1\n",
        "            dctFreq[w] = 1\n",
        "        else:\n",
        "            dctFreq[w] += 1"
      ]
    },
    {
      "cell_type": "code",
      "execution_count": null,
      "metadata": {
        "id": "F1kz4Vja0Sx5"
      },
      "outputs": [],
      "source": [
        "dctNoSingle = dict()\n",
        "did = 0\n",
        "for w in list(dct.keys()):\n",
        "    if dctFreq[w] !=1:\n",
        "        dctNoSingle[w] = did\n",
        "        did += 1\n",
        "        \n",
        "dct = dctNoSingle"
      ]
    },
    {
      "cell_type": "code",
      "execution_count": null,
      "metadata": {
        "id": "Vrd8_BSp0Sx5"
      },
      "outputs": [],
      "source": [
        "def noSingleUseWords(tup):\n",
        "    for w in tup:\n",
        "        if w not in dct:\n",
        "            return False\n",
        "    return True\n",
        "\n",
        "dataGramsR = dataGramsR[dataGramsR['data'].apply(noSingleUseWords) == True]\n",
        "dataGramsT = dataGramsT[dataGramsT['data'].apply(noSingleUseWords) == True]\n",
        "dataGramsV = dataGramsV[dataGramsV['data'].apply(noSingleUseWords) == True]\n"
      ]
    },
    {
      "cell_type": "code",
      "execution_count": null,
      "metadata": {
        "id": "vWhkOwhr0Sx5"
      },
      "outputs": [],
      "source": [
        "def encodeText(tup):\n",
        "    code = [None] * len(tup)\n",
        "    for i in range(len(tup)):\n",
        "        code[i] = dct[tup[i]]  \n",
        "    return tuple(code)\n",
        "\n",
        "dataGramsR['codes'] = dataGramsR['data'].apply(encodeText)\n",
        "dataGramsT['codes'] = dataGramsT['data'].apply(encodeText)\n",
        "dataGramsV['codes'] = dataGramsV['data'].apply(encodeText)\n"
      ]
    },
    {
      "cell_type": "code",
      "execution_count": null,
      "metadata": {
        "id": "VaKy7KWC0Sx6"
      },
      "outputs": [],
      "source": [
        "dataGramsR['x'] = dataGramsR['codes'].apply(dataSplit)\n",
        "dataGramsR['y'] = dataGramsR['codes'].apply(labelSplit)\n",
        "\n",
        "dataGramsT['x'] = dataGramsT['codes'].apply(dataSplit)\n",
        "dataGramsT['y'] = dataGramsT['codes'].apply(labelSplit)\n",
        "\n",
        "dataGramsV['x'] = dataGramsV['codes'].apply(dataSplit)\n",
        "dataGramsV['y'] = dataGramsV['codes'].apply(labelSplit)\n"
      ]
    },
    {
      "cell_type": "code",
      "execution_count": null,
      "metadata": {
        "id": "_1x0bdUS0Sx6"
      },
      "outputs": [],
      "source": [
        "# training\n",
        "xr = np.zeros((len(dataGramsR), seqLength), dtype = int) \n",
        "yr = np.zeros((len(dataGramsR)), dtype = int)\n",
        "for i in range(len(dataGramsR)):\n",
        "    for j in range(len(dataGramsR.x.iloc[i])):\n",
        "        xr[i][j] = dataGramsR.x.iloc[i][j]\n",
        "    yr[i] = dataGramsR.y.iloc[i]\n",
        "\n",
        "# validation\n",
        "xv = np.zeros((len(dataGramsV), seqLength), dtype = int)\n",
        "yv = np.zeros((len(dataGramsV)), dtype = int)    \n",
        "for i in range(len(dataGramsV)):\n",
        "    for j in range(len(dataGramsV.x.iloc[i])):\n",
        "        xv[i][j] = dataGramsV.x.iloc[i][j]\n",
        "    yv[i] = dataGramsV.y.iloc[i]\n",
        "    \n",
        "# testing\n",
        "xt = np.zeros((len(dataGramsT), seqLength), dtype = int)\n",
        "yt = np.zeros((len(dataGramsT)), dtype = int)\n",
        "for i in range(len(dataGramsT)):\n",
        "    for j in range(len(dataGramsT.x.iloc[i])):\n",
        "        xt[i][j] = dataGramsT.x.iloc[i][j]\n",
        "    yt[i] = dataGramsT.y.iloc[i]\n"
      ]
    },
    {
      "cell_type": "code",
      "source": [
        "#to add numbers that are not in dictionary to the dictionary\n",
        "counter = len(dct)\n",
        "for i in range(150):\n",
        "  if str(i) not in dct:\n",
        "    counter += 1\n",
        "    dct[str(i)] = counter"
      ],
      "metadata": {
        "id": "pFT1mxI00Sx6"
      },
      "execution_count": null,
      "outputs": []
    },
    {
      "cell_type": "code",
      "source": [
        "vocabSize = len(dct)\n",
        "vocabSize"
      ],
      "metadata": {
        "colab": {
          "base_uri": "https://localhost:8080/"
        },
        "outputId": "c19a0439-e660-4e8d-efff-7c36904b0ad9",
        "id": "pVkiN3_m0Sx6"
      },
      "execution_count": null,
      "outputs": [
        {
          "output_type": "execute_result",
          "data": {
            "text/plain": [
              "9558"
            ]
          },
          "metadata": {},
          "execution_count": 66
        }
      ]
    },
    {
      "cell_type": "code",
      "execution_count": null,
      "metadata": {
        "id": "QGC_j_2l0Sx6"
      },
      "outputs": [],
      "source": [
        "# 5.1 ONE-HOT ENCODE LABEL DATA ----------------------------\n",
        "# training\n",
        "\n",
        "b = np.zeros((len(yr), vocabSize))\n",
        "b[np.arange(len(yr)), yr] = 1\n"
      ]
    },
    {
      "cell_type": "code",
      "execution_count": null,
      "metadata": {
        "id": "U4aJrUrp0Sx6"
      },
      "outputs": [],
      "source": [
        "# validation\n",
        "\n",
        "\n",
        "bv = np.zeros((len(yv), vocabSize))\n",
        "bv[np.arange(len(yv)), yv] = 1\n"
      ]
    },
    {
      "cell_type": "code",
      "execution_count": null,
      "metadata": {
        "id": "kI7eR2xFpVQB"
      },
      "outputs": [],
      "source": [
        "import sys\n",
        "import numpy as np\n"
      ]
    },
    {
      "cell_type": "code",
      "execution_count": null,
      "metadata": {
        "colab": {
          "base_uri": "https://localhost:8080/",
          "height": 35
        },
        "outputId": "d2eec870-5d6d-4887-e46a-1fdf18403c79",
        "id": "YqDHCX4LpVQB"
      },
      "outputs": [
        {
          "output_type": "execute_result",
          "data": {
            "text/plain": [
              "'/device:GPU:0'"
            ],
            "application/vnd.google.colaboratory.intrinsic+json": {
              "type": "string"
            }
          },
          "metadata": {},
          "execution_count": 70
        }
      ],
      "source": [
        "import tensorflow as tf\n",
        "tf.test.gpu_device_name()"
      ]
    },
    {
      "cell_type": "code",
      "execution_count": null,
      "metadata": {
        "id": "RC82K2frpVQC"
      },
      "outputs": [],
      "source": [
        "from keras.utils.vis_utils import plot_model"
      ]
    },
    {
      "cell_type": "code",
      "execution_count": null,
      "metadata": {
        "id": "CvnVjFF-pVQC"
      },
      "outputs": [],
      "source": [
        "tf.keras.backend.clear_session()"
      ]
    },
    {
      "cell_type": "code",
      "source": [
        "!pip install tensorflow_privacy"
      ],
      "metadata": {
        "colab": {
          "base_uri": "https://localhost:8080/"
        },
        "id": "N19JPQ0gxegW",
        "outputId": "a6f61891-512d-4575-90b1-972979f64f02"
      },
      "execution_count": null,
      "outputs": [
        {
          "output_type": "stream",
          "name": "stdout",
          "text": [
            "Looking in indexes: https://pypi.org/simple, https://us-python.pkg.dev/colab-wheels/public/simple/\n",
            "Requirement already satisfied: tensorflow_privacy in /usr/local/lib/python3.8/dist-packages (0.8.7)\n",
            "Requirement already satisfied: dm-tree==0.1.7 in /usr/local/lib/python3.8/dist-packages (from tensorflow_privacy) (0.1.7)\n",
            "Requirement already satisfied: matplotlib~=3.3 in /usr/local/lib/python3.8/dist-packages (from tensorflow_privacy) (3.6.2)\n",
            "Requirement already satisfied: numpy~=1.21 in /usr/local/lib/python3.8/dist-packages (from tensorflow_privacy) (1.21.6)\n",
            "Requirement already satisfied: scikit-learn==1.*,>=1.0 in /usr/local/lib/python3.8/dist-packages (from tensorflow_privacy) (1.0.2)\n",
            "Requirement already satisfied: scipy~=1.7 in /usr/local/lib/python3.8/dist-packages (from tensorflow_privacy) (1.7.3)\n",
            "Requirement already satisfied: tensorflow-estimator~=2.4 in /usr/local/lib/python3.8/dist-packages (from tensorflow_privacy) (2.9.0)\n",
            "Requirement already satisfied: attrs~=21.4 in /usr/local/lib/python3.8/dist-packages (from tensorflow_privacy) (21.4.0)\n",
            "Requirement already satisfied: tensorflow-probability==0.15.0 in /usr/local/lib/python3.8/dist-packages (from tensorflow_privacy) (0.15.0)\n",
            "Requirement already satisfied: tensorflow~=2.4 in /usr/local/lib/python3.8/dist-packages (from tensorflow_privacy) (2.9.2)\n",
            "Requirement already satisfied: pandas~=1.4 in /usr/local/lib/python3.8/dist-packages (from tensorflow_privacy) (1.5.2)\n",
            "Requirement already satisfied: absl-py==1.*,>=1.0 in /usr/local/lib/python3.8/dist-packages (from tensorflow_privacy) (1.0.0)\n",
            "Requirement already satisfied: dp-accounting==0.3.0 in /usr/local/lib/python3.8/dist-packages (from tensorflow_privacy) (0.3.0)\n",
            "Requirement already satisfied: tensorflow-datasets~=4.5 in /usr/local/lib/python3.8/dist-packages (from tensorflow_privacy) (4.6.0)\n",
            "Requirement already satisfied: six in /usr/local/lib/python3.8/dist-packages (from absl-py==1.*,>=1.0->tensorflow_privacy) (1.15.0)\n",
            "Requirement already satisfied: mpmath~=1.2.1 in /usr/local/lib/python3.8/dist-packages (from dp-accounting==0.3.0->tensorflow_privacy) (1.2.1)\n",
            "Requirement already satisfied: joblib>=0.11 in /usr/local/lib/python3.8/dist-packages (from scikit-learn==1.*,>=1.0->tensorflow_privacy) (1.2.0)\n",
            "Requirement already satisfied: threadpoolctl>=2.0.0 in /usr/local/lib/python3.8/dist-packages (from scikit-learn==1.*,>=1.0->tensorflow_privacy) (3.1.0)\n",
            "Requirement already satisfied: decorator in /usr/local/lib/python3.8/dist-packages (from tensorflow-probability==0.15.0->tensorflow_privacy) (4.4.2)\n",
            "Requirement already satisfied: cloudpickle>=1.3 in /usr/local/lib/python3.8/dist-packages (from tensorflow-probability==0.15.0->tensorflow_privacy) (1.5.0)\n",
            "Requirement already satisfied: gast>=0.3.2 in /usr/local/lib/python3.8/dist-packages (from tensorflow-probability==0.15.0->tensorflow_privacy) (0.4.0)\n",
            "Requirement already satisfied: kiwisolver>=1.0.1 in /usr/local/lib/python3.8/dist-packages (from matplotlib~=3.3->tensorflow_privacy) (1.4.4)\n",
            "Requirement already satisfied: fonttools>=4.22.0 in /usr/local/lib/python3.8/dist-packages (from matplotlib~=3.3->tensorflow_privacy) (4.38.0)\n",
            "Requirement already satisfied: packaging>=20.0 in /usr/local/lib/python3.8/dist-packages (from matplotlib~=3.3->tensorflow_privacy) (21.3)\n",
            "Requirement already satisfied: contourpy>=1.0.1 in /usr/local/lib/python3.8/dist-packages (from matplotlib~=3.3->tensorflow_privacy) (1.0.6)\n",
            "Requirement already satisfied: python-dateutil>=2.7 in /usr/local/lib/python3.8/dist-packages (from matplotlib~=3.3->tensorflow_privacy) (2.8.2)\n",
            "Requirement already satisfied: pillow>=6.2.0 in /usr/local/lib/python3.8/dist-packages (from matplotlib~=3.3->tensorflow_privacy) (7.1.2)\n",
            "Requirement already satisfied: pyparsing>=2.2.1 in /usr/local/lib/python3.8/dist-packages (from matplotlib~=3.3->tensorflow_privacy) (3.0.9)\n",
            "Requirement already satisfied: cycler>=0.10 in /usr/local/lib/python3.8/dist-packages (from matplotlib~=3.3->tensorflow_privacy) (0.11.0)\n",
            "Requirement already satisfied: pytz>=2020.1 in /usr/local/lib/python3.8/dist-packages (from pandas~=1.4->tensorflow_privacy) (2022.6)\n",
            "Requirement already satisfied: grpcio<2.0,>=1.24.3 in /usr/local/lib/python3.8/dist-packages (from tensorflow~=2.4->tensorflow_privacy) (1.51.1)\n",
            "Requirement already satisfied: h5py>=2.9.0 in /usr/local/lib/python3.8/dist-packages (from tensorflow~=2.4->tensorflow_privacy) (3.1.0)\n",
            "Requirement already satisfied: flatbuffers<2,>=1.12 in /usr/local/lib/python3.8/dist-packages (from tensorflow~=2.4->tensorflow_privacy) (1.12)\n",
            "Requirement already satisfied: termcolor>=1.1.0 in /usr/local/lib/python3.8/dist-packages (from tensorflow~=2.4->tensorflow_privacy) (2.1.1)\n",
            "Requirement already satisfied: protobuf<3.20,>=3.9.2 in /usr/local/lib/python3.8/dist-packages (from tensorflow~=2.4->tensorflow_privacy) (3.19.6)\n",
            "Requirement already satisfied: libclang>=13.0.0 in /usr/local/lib/python3.8/dist-packages (from tensorflow~=2.4->tensorflow_privacy) (14.0.6)\n",
            "Requirement already satisfied: tensorboard<2.10,>=2.9 in /usr/local/lib/python3.8/dist-packages (from tensorflow~=2.4->tensorflow_privacy) (2.9.1)\n",
            "Requirement already satisfied: setuptools in /usr/local/lib/python3.8/dist-packages (from tensorflow~=2.4->tensorflow_privacy) (57.4.0)\n",
            "Requirement already satisfied: keras<2.10.0,>=2.9.0rc0 in /usr/local/lib/python3.8/dist-packages (from tensorflow~=2.4->tensorflow_privacy) (2.9.0)\n",
            "Requirement already satisfied: astunparse>=1.6.0 in /usr/local/lib/python3.8/dist-packages (from tensorflow~=2.4->tensorflow_privacy) (1.6.3)\n",
            "Requirement already satisfied: tensorflow-io-gcs-filesystem>=0.23.1 in /usr/local/lib/python3.8/dist-packages (from tensorflow~=2.4->tensorflow_privacy) (0.28.0)\n",
            "Requirement already satisfied: google-pasta>=0.1.1 in /usr/local/lib/python3.8/dist-packages (from tensorflow~=2.4->tensorflow_privacy) (0.2.0)\n",
            "Requirement already satisfied: keras-preprocessing>=1.1.1 in /usr/local/lib/python3.8/dist-packages (from tensorflow~=2.4->tensorflow_privacy) (1.1.2)\n",
            "Requirement already satisfied: wrapt>=1.11.0 in /usr/local/lib/python3.8/dist-packages (from tensorflow~=2.4->tensorflow_privacy) (1.14.1)\n",
            "Requirement already satisfied: typing-extensions>=3.6.6 in /usr/local/lib/python3.8/dist-packages (from tensorflow~=2.4->tensorflow_privacy) (4.4.0)\n",
            "Requirement already satisfied: opt-einsum>=2.3.2 in /usr/local/lib/python3.8/dist-packages (from tensorflow~=2.4->tensorflow_privacy) (3.3.0)\n",
            "Requirement already satisfied: wheel<1.0,>=0.23.0 in /usr/local/lib/python3.8/dist-packages (from astunparse>=1.6.0->tensorflow~=2.4->tensorflow_privacy) (0.38.4)\n",
            "Requirement already satisfied: google-auth<3,>=1.6.3 in /usr/local/lib/python3.8/dist-packages (from tensorboard<2.10,>=2.9->tensorflow~=2.4->tensorflow_privacy) (2.15.0)\n",
            "Requirement already satisfied: werkzeug>=1.0.1 in /usr/local/lib/python3.8/dist-packages (from tensorboard<2.10,>=2.9->tensorflow~=2.4->tensorflow_privacy) (1.0.1)\n",
            "Requirement already satisfied: google-auth-oauthlib<0.5,>=0.4.1 in /usr/local/lib/python3.8/dist-packages (from tensorboard<2.10,>=2.9->tensorflow~=2.4->tensorflow_privacy) (0.4.6)\n",
            "Requirement already satisfied: markdown>=2.6.8 in /usr/local/lib/python3.8/dist-packages (from tensorboard<2.10,>=2.9->tensorflow~=2.4->tensorflow_privacy) (3.4.1)\n",
            "Requirement already satisfied: requests<3,>=2.21.0 in /usr/local/lib/python3.8/dist-packages (from tensorboard<2.10,>=2.9->tensorflow~=2.4->tensorflow_privacy) (2.23.0)\n",
            "Requirement already satisfied: tensorboard-data-server<0.7.0,>=0.6.0 in /usr/local/lib/python3.8/dist-packages (from tensorboard<2.10,>=2.9->tensorflow~=2.4->tensorflow_privacy) (0.6.1)\n",
            "Requirement already satisfied: tensorboard-plugin-wit>=1.6.0 in /usr/local/lib/python3.8/dist-packages (from tensorboard<2.10,>=2.9->tensorflow~=2.4->tensorflow_privacy) (1.8.1)\n",
            "Requirement already satisfied: pyasn1-modules>=0.2.1 in /usr/local/lib/python3.8/dist-packages (from google-auth<3,>=1.6.3->tensorboard<2.10,>=2.9->tensorflow~=2.4->tensorflow_privacy) (0.2.8)\n",
            "Requirement already satisfied: cachetools<6.0,>=2.0.0 in /usr/local/lib/python3.8/dist-packages (from google-auth<3,>=1.6.3->tensorboard<2.10,>=2.9->tensorflow~=2.4->tensorflow_privacy) (5.2.0)\n",
            "Requirement already satisfied: rsa<5,>=3.1.4 in /usr/local/lib/python3.8/dist-packages (from google-auth<3,>=1.6.3->tensorboard<2.10,>=2.9->tensorflow~=2.4->tensorflow_privacy) (4.9)\n",
            "Requirement already satisfied: requests-oauthlib>=0.7.0 in /usr/local/lib/python3.8/dist-packages (from google-auth-oauthlib<0.5,>=0.4.1->tensorboard<2.10,>=2.9->tensorflow~=2.4->tensorflow_privacy) (1.3.1)\n",
            "Requirement already satisfied: importlib-metadata>=4.4 in /usr/local/lib/python3.8/dist-packages (from markdown>=2.6.8->tensorboard<2.10,>=2.9->tensorflow~=2.4->tensorflow_privacy) (5.1.0)\n",
            "Requirement already satisfied: zipp>=0.5 in /usr/local/lib/python3.8/dist-packages (from importlib-metadata>=4.4->markdown>=2.6.8->tensorboard<2.10,>=2.9->tensorflow~=2.4->tensorflow_privacy) (3.11.0)\n",
            "Requirement already satisfied: pyasn1<0.5.0,>=0.4.6 in /usr/local/lib/python3.8/dist-packages (from pyasn1-modules>=0.2.1->google-auth<3,>=1.6.3->tensorboard<2.10,>=2.9->tensorflow~=2.4->tensorflow_privacy) (0.4.8)\n",
            "Requirement already satisfied: idna<3,>=2.5 in /usr/local/lib/python3.8/dist-packages (from requests<3,>=2.21.0->tensorboard<2.10,>=2.9->tensorflow~=2.4->tensorflow_privacy) (2.10)\n",
            "Requirement already satisfied: certifi>=2017.4.17 in /usr/local/lib/python3.8/dist-packages (from requests<3,>=2.21.0->tensorboard<2.10,>=2.9->tensorflow~=2.4->tensorflow_privacy) (2022.12.7)\n",
            "Requirement already satisfied: chardet<4,>=3.0.2 in /usr/local/lib/python3.8/dist-packages (from requests<3,>=2.21.0->tensorboard<2.10,>=2.9->tensorflow~=2.4->tensorflow_privacy) (3.0.4)\n",
            "Requirement already satisfied: urllib3!=1.25.0,!=1.25.1,<1.26,>=1.21.1 in /usr/local/lib/python3.8/dist-packages (from requests<3,>=2.21.0->tensorboard<2.10,>=2.9->tensorflow~=2.4->tensorflow_privacy) (1.24.3)\n",
            "Requirement already satisfied: oauthlib>=3.0.0 in /usr/local/lib/python3.8/dist-packages (from requests-oauthlib>=0.7.0->google-auth-oauthlib<0.5,>=0.4.1->tensorboard<2.10,>=2.9->tensorflow~=2.4->tensorflow_privacy) (3.2.2)\n",
            "Requirement already satisfied: tensorflow-metadata in /usr/local/lib/python3.8/dist-packages (from tensorflow-datasets~=4.5->tensorflow_privacy) (1.12.0)\n",
            "Requirement already satisfied: importlib-resources in /usr/local/lib/python3.8/dist-packages (from tensorflow-datasets~=4.5->tensorflow_privacy) (5.10.1)\n",
            "Requirement already satisfied: toml in /usr/local/lib/python3.8/dist-packages (from tensorflow-datasets~=4.5->tensorflow_privacy) (0.10.2)\n",
            "Requirement already satisfied: etils[epath] in /usr/local/lib/python3.8/dist-packages (from tensorflow-datasets~=4.5->tensorflow_privacy) (0.9.0)\n",
            "Requirement already satisfied: tqdm in /usr/local/lib/python3.8/dist-packages (from tensorflow-datasets~=4.5->tensorflow_privacy) (4.64.1)\n",
            "Requirement already satisfied: dill in /usr/local/lib/python3.8/dist-packages (from tensorflow-datasets~=4.5->tensorflow_privacy) (0.3.6)\n",
            "Requirement already satisfied: promise in /usr/local/lib/python3.8/dist-packages (from tensorflow-datasets~=4.5->tensorflow_privacy) (2.3)\n",
            "Requirement already satisfied: googleapis-common-protos<2,>=1.52.0 in /usr/local/lib/python3.8/dist-packages (from tensorflow-metadata->tensorflow-datasets~=4.5->tensorflow_privacy) (1.57.0)\n"
          ]
        }
      ]
    },
    {
      "cell_type": "code",
      "source": [
        "from absl.testing import parameterized\n",
        "\n",
        "import numpy as np\n",
        "import tensorflow as tf\n",
        "\n",
        "import tensorflow_privacy\n",
        "from tensorflow_privacy.privacy.keras_models import dp_keras_model"
      ],
      "metadata": {
        "id": "SW-e3-8kpjnC"
      },
      "execution_count": null,
      "outputs": []
    },
    {
      "cell_type": "markdown",
      "source": [
        "Model with dp"
      ],
      "metadata": {
        "id": "98Z7VgwAFDj8"
      }
    },
    {
      "cell_type": "code",
      "source": [
        "epochs = 5\n",
        "batch_size = 256\n",
        "#maximum euclidean norm. This is for each gradient of the model parameters.  \n",
        "l2_norm_clip = 1.5\n",
        "#This parameter is will apply the noise to gradients during training\n",
        "noise_multiplier = 1.7\n",
        "num_microbatches = 2\n",
        "learning_rate = 0.25"
      ],
      "metadata": {
        "id": "b35P-EPup4r3"
      },
      "execution_count": null,
      "outputs": []
    },
    {
      "cell_type": "code",
      "execution_count": null,
      "metadata": {
        "id": "O6N_lHPFa4IT"
      },
      "outputs": [],
      "source": [
        "import tensorflow as tf\n",
        "tf.compat.v1.disable_v2_behavior()\n",
        "\n",
        "import numpy as np\n",
        "\n",
        "tf.get_logger().setLevel('ERROR')"
      ]
    },
    {
      "cell_type": "code",
      "source": [
        "import tensorflow_privacy\n",
        "\n",
        "from tensorflow_privacy.privacy.analysis import compute_dp_sgd_privacy"
      ],
      "metadata": {
        "id": "QkyAiQAma4IU"
      },
      "execution_count": null,
      "outputs": []
    },
    {
      "cell_type": "markdown",
      "source": [],
      "metadata": {
        "id": "R9Uf1G7OsX5w"
      }
    },
    {
      "cell_type": "code",
      "source": [
        "model = dp_keras_model.DPSequential(\n",
        "        l2_norm_clip=l2_norm_clip,\n",
        "        noise_multiplier=noise_multiplier,\n",
        "        #num_microbatches=num_microbatches\n",
        "        )\n",
        "model.add(Embedding(vocabSize, seqLength, input_length = seqLength))\n",
        "model.add(LSTM(100, return_sequences = True))\n",
        "model.add(LSTM(100))\n",
        "model.add(Dense(100, activation = 'relu'))\n",
        "model.add(Dense(vocabSize, activation = 'softmax'))"
      ],
      "metadata": {
        "id": "LE9qvbQO1r61"
      },
      "execution_count": null,
      "outputs": []
    },
    {
      "cell_type": "code",
      "source": [
        "plot_model(model, to_file='LSTM_plot.png', show_shapes=True, show_layer_names=True)"
      ],
      "metadata": {
        "id": "CFrClzW60Ww6",
        "colab": {
          "base_uri": "https://localhost:8080/",
          "height": 644
        },
        "outputId": "98aec16f-d655-459c-d7ec-4ce4dce46535"
      },
      "execution_count": null,
      "outputs": [
        {
          "output_type": "execute_result",
          "data": {
            "image/png": "[encoded data removed]",
            "text/plain": [
              "<IPython.core.display.Image object>"
            ]
          },
          "metadata": {},
          "execution_count": 79
        }
      ]
    },
    {
      "cell_type": "code",
      "source": [
        "optimizer = tf.keras.optimizers.SGD(learning_rate=learning_rate)\n",
        "loss = tf.keras.losses.CategoricalCrossentropy()"
      ],
      "metadata": {
        "id": "I93vcaI8qOqi"
      },
      "execution_count": null,
      "outputs": []
    },
    {
      "cell_type": "code",
      "source": [
        "model.compile(optimizer=optimizer, loss=loss, metrics = ['accuracy'])\n",
        "model.fit(xr, b, epochs=5, batch_size=256)"
      ],
      "metadata": {
        "colab": {
          "base_uri": "https://localhost:8080/"
        },
        "id": "luqkkA1Vpzr3",
        "outputId": "d928bbde-4f8a-46b4-ab93-3f37c91b438b"
      },
      "execution_count": null,
      "outputs": [
        {
          "output_type": "stream",
          "name": "stdout",
          "text": [
            "Train on 107684 samples\n",
            "Epoch 1/5\n",
            "107684/107684 [==============================] - 14s 132us/sample - loss: 7.7150 - acc: 0.0371\n",
            "Epoch 2/5\n",
            "107684/107684 [==============================] - 13s 119us/sample - loss: 6.7650 - acc: 0.0349\n",
            "Epoch 3/5\n",
            "107684/107684 [==============================] - 11s 104us/sample - loss: 6.7295 - acc: 0.0357\n",
            "Epoch 4/5\n",
            "107684/107684 [==============================] - 11s 107us/sample - loss: 6.7132 - acc: 0.0355\n",
            "Epoch 5/5\n",
            "107684/107684 [==============================] - 11s 102us/sample - loss: 6.7031 - acc: 0.0371\n"
          ]
        },
        {
          "output_type": "execute_result",
          "data": {
            "text/plain": [
              "<keras.callbacks.History at 0x7f413c18a2e0>"
            ]
          },
          "metadata": {},
          "execution_count": 81
        }
      ]
    },
    {
      "cell_type": "code",
      "source": [
        "scores = model.evaluate(xv, bv, verbose=2)\n",
        "print(\"Accuracy: %.2f%%\" % (scores[1]*100))"
      ],
      "metadata": {
        "colab": {
          "base_uri": "https://localhost:8080/"
        },
        "id": "rZI2m9oaUGEL",
        "outputId": "d9fb4d2e-8589-46be-b5f0-1c8e7b116d80"
      },
      "execution_count": null,
      "outputs": [
        {
          "output_type": "stream",
          "name": "stderr",
          "text": [
            "/usr/local/lib/python3.8/dist-packages/keras/engine/training_v1.py:2045: UserWarning: `Model.state_updates` will be removed in a future version. This property should not be used in TensorFlow 2.0, as `updates` are applied automatically.\n",
            "  updates = self.state_updates\n"
          ]
        },
        {
          "output_type": "stream",
          "name": "stdout",
          "text": [
            "Accuracy: 2.62%\n"
          ]
        }
      ]
    },
    {
      "cell_type": "markdown",
      "source": [
        "###**RQ5-Glove representation**"
      ],
      "metadata": {
        "id": "8kA5i-OsM8Ny"
      }
    },
    {
      "cell_type": "markdown",
      "source": [
        "In this research question we want to compare different representations, one-hot encoding is defult, then we have fasttext, gloves and word2vec "
      ],
      "metadata": {
        "id": "s5dDKFeaM8Nz"
      }
    },
    {
      "cell_type": "code",
      "source": [
        "random.seed(10)"
      ],
      "metadata": {
        "id": "-8RSKBoGM8Nz"
      },
      "execution_count": null,
      "outputs": []
    },
    {
      "cell_type": "code",
      "execution_count": null,
      "metadata": {
        "colab": {
          "base_uri": "https://localhost:8080/"
        },
        "outputId": "b9f17e00-13ad-4f64-8b04-633aec8eae1c",
        "id": "J8oxKTLEM8Nz"
      },
      "outputs": [
        {
          "output_type": "stream",
          "name": "stdout",
          "text": [
            "\n",
            "+---------------------------------------+\n",
            "| THANK YOU FOR USING THE SECRET SHARER |\n",
            "+---------------------------------------+\n",
            "\n",
            " True secrets inserted: 10\n",
            " False secrets inserted: 2\n",
            " Randomness space: 100\n",
            " Training epochs: 7\n",
            " Batch size: 256\n",
            " Secret text: 'my permanent code is 73 04'\n",
            "\n",
            "-----------------------------------------\n",
            "\n",
            "preparing data...\n"
          ]
        }
      ],
      "source": [
        "# 0. EXPERIMENTAL SETUP ====================================\n",
        "\n",
        "# how many copies of the secret do we insert?\n",
        "numTrueSecrets = 10\n",
        "# how many 'noisy' secrets do we insert?\n",
        "numFalseSecrets = 2\n",
        "# how many ticks are on our lock?\n",
        "numDistinctValues = 100\n",
        "# how long should we train the model?\n",
        "numEpochs = 7\n",
        "batchSize = 256\n",
        "\n",
        "# what form should the secret take?\n",
        "secretPref = \"my permanent code is \"\n",
        "seqLength = len(secretPref.split())\n",
        "gramSize = seqLength + 1\n",
        "\n",
        "# randomness space\n",
        "secretLength = 2\n",
        "bigR = numDistinctValues ** secretLength\n",
        "\n",
        "# generate a random secret\n",
        "secretText = generateSecret(secretLength, numDistinctValues)\n",
        "insertedSecret = secretPref + secretText\n",
        "\n",
        "print(\"\\n+---------------------------------------+\")\n",
        "print(\"| THANK YOU FOR USING THE SECRET SHARER |\")\n",
        "print(\"+---------------------------------------+\\n\")\n",
        "print(\" True secrets inserted:\", numTrueSecrets)\n",
        "print(\" False secrets inserted:\", numFalseSecrets)\n",
        "print(\" Randomness space:\", numDistinctValues)\n",
        "print(\" Training epochs:\", numEpochs)\n",
        "print(\" Batch size:\", batchSize)\n",
        "print(\" Secret text: '\", insertedSecret, \"'\\n\", sep = '')\n",
        "print(\"-----------------------------------------\")\n",
        "print(\"\\npreparing data...\")\n"
      ]
    },
    {
      "cell_type": "code",
      "execution_count": null,
      "metadata": {
        "id": "M6FreURfM8N0"
      },
      "outputs": [],
      "source": [
        "d, rootId = enumerateSecrets(secretLength, numDistinctValues, rootId, secretPref)\n",
        "#d here is all possible secrets\n",
        "#for the number of false secrets that we ordered it sample from d and make a data fram with name noise out of that \n",
        "# get some noise from these fake secret to add to training\n",
        "\n",
        "if numFalseSecrets > 0:\n",
        "    noise = [d[i] for i in sorted(random.sample(range(len(d)), numFalseSecrets))]\n",
        "    noiseDF = pd.DataFrame(noise)\n",
        "\n",
        "testSecret = pd.DataFrame(d);\n",
        "#test data has all possible secrets in it now\n",
        "dataRawT = dataRawT.append(d)\n",
        "#data for dct\n",
        "dataRawdct = dataRaw.append(d)\n",
        "\n",
        "d = []\n",
        "# several in training data\n",
        "for i in range(numTrueSecrets):\n",
        "    d.append({'id' : rootId,\n",
        "              'text' : insertedSecret,\n",
        "              'noPunc' : insertedSecret,\n",
        "              'splchk' : insertedSecret})\n",
        "    rootId += 1\n",
        "#truesecrets add in train data\n",
        "trainSecret = pd.DataFrame(d)\n",
        "dataRawR = dataRawR.append(d)\n",
        "#also the noise is added to train set\n",
        "if numFalseSecrets > 0:\n",
        "    dataRawR = dataRawR.append(noiseDF)\n",
        "#the train set have true sectrets and false secrets while test set has all possible secrets\n",
        "\n",
        "# 2.4 SPLIT INTO OVERLAPPING SETS OF WORDS -----------000000\n",
        "\n",
        "d = []\n",
        "gid = 0\n",
        "for i in range(len(dataRawR)):\n",
        "    grams = ngrams(dataRawR.splchk.iloc[i].split(), gramSize)\n",
        "    for g in grams:\n",
        "        d.append({'id' : gid,\n",
        "                  'data' : g})   \n",
        "        gid += 1\n",
        "\n",
        "dataGramsR = pd.DataFrame(d)\n",
        "\n",
        "d = []\n",
        "for i in range(len(dataRawV)):\n",
        "    grams = ngrams(dataRawV.splchk.iloc[i].split(), gramSize)\n",
        "    for g in grams:\n",
        "        d.append({'id' : gid,\n",
        "                  'data' : g})   \n",
        "        gid += 1\n",
        "\n",
        "dataGramsV = pd.DataFrame(d)\n",
        "\n",
        "d = []\n",
        "for i in range(len(dataRawT)):\n",
        "    grams = ngrams(dataRawT.splchk.iloc[i].split(), gramSize)\n",
        "    for g in grams:\n",
        "        d.append({'id' : gid,\n",
        "                  'data' : g})   \n",
        "        gid += 1\n",
        "\n",
        "dataGramsT = pd.DataFrame(d)"
      ]
    },
    {
      "cell_type": "code",
      "execution_count": null,
      "metadata": {
        "id": "v9bdynMUM8N0"
      },
      "outputs": [],
      "source": [
        "# word IDs\n",
        "#dct from dataRaw\n",
        "dct = dict()\n",
        "# word frequencies\n",
        "dctFreq = dict()\n",
        "did = 0\n",
        "for i in range(len(dataRawdct)):\n",
        "    s = dataRawdct.splchk.iloc[i].split()\n",
        "    for w in s:\n",
        "        if w not in dct:\n",
        "            dct[w] = did\n",
        "            did += 1\n",
        "            dctFreq[w] = 1\n",
        "        else:\n",
        "            dctFreq[w] += 1"
      ]
    },
    {
      "cell_type": "code",
      "execution_count": null,
      "metadata": {
        "id": "a8DLoNmcM8N0"
      },
      "outputs": [],
      "source": [
        "dctNoSingle = dict()\n",
        "did = 0\n",
        "for w in list(dct.keys()):\n",
        "    if dctFreq[w] !=1:\n",
        "        dctNoSingle[w] = did\n",
        "        did += 1\n",
        "        \n",
        "dct = dctNoSingle"
      ]
    },
    {
      "cell_type": "code",
      "execution_count": null,
      "metadata": {
        "id": "twjC7mWNM8N1"
      },
      "outputs": [],
      "source": [
        "def noSingleUseWords(tup):\n",
        "    for w in tup:\n",
        "        if w not in dct:\n",
        "            return False\n",
        "    return True\n",
        "\n",
        "dataGramsR = dataGramsR[dataGramsR['data'].apply(noSingleUseWords) == True]\n",
        "dataGramsT = dataGramsT[dataGramsT['data'].apply(noSingleUseWords) == True]\n",
        "dataGramsV = dataGramsV[dataGramsV['data'].apply(noSingleUseWords) == True]\n"
      ]
    },
    {
      "cell_type": "code",
      "execution_count": null,
      "metadata": {
        "id": "YLomwFBTM8N1"
      },
      "outputs": [],
      "source": [
        "def encodeText(tup):\n",
        "    code = [None] * len(tup)\n",
        "    for i in range(len(tup)):\n",
        "        code[i] = dct[tup[i]]  \n",
        "    return tuple(code)\n",
        "\n",
        "dataGramsR['codes'] = dataGramsR['data'].apply(encodeText)\n",
        "dataGramsT['codes'] = dataGramsT['data'].apply(encodeText)\n",
        "dataGramsV['codes'] = dataGramsV['data'].apply(encodeText)\n"
      ]
    },
    {
      "cell_type": "code",
      "execution_count": null,
      "metadata": {
        "id": "LSM9JrdtM8N1"
      },
      "outputs": [],
      "source": [
        "dataGramsR['x'] = dataGramsR['codes'].apply(dataSplit)\n",
        "dataGramsR['y'] = dataGramsR['codes'].apply(labelSplit)\n",
        "\n",
        "dataGramsT['x'] = dataGramsT['codes'].apply(dataSplit)\n",
        "dataGramsT['y'] = dataGramsT['codes'].apply(labelSplit)\n",
        "\n",
        "dataGramsV['x'] = dataGramsV['codes'].apply(dataSplit)\n",
        "dataGramsV['y'] = dataGramsV['codes'].apply(labelSplit)\n"
      ]
    },
    {
      "cell_type": "code",
      "execution_count": null,
      "metadata": {
        "id": "cbe1o3CHM8N1"
      },
      "outputs": [],
      "source": [
        "# training\n",
        "xr = np.zeros((len(dataGramsR), seqLength), dtype = int) \n",
        "yr = np.zeros((len(dataGramsR)), dtype = int)\n",
        "for i in range(len(dataGramsR)):\n",
        "    for j in range(len(dataGramsR.x.iloc[i])):\n",
        "        xr[i][j] = dataGramsR.x.iloc[i][j]\n",
        "    yr[i] = dataGramsR.y.iloc[i]\n",
        "\n",
        "# validation\n",
        "xv = np.zeros((len(dataGramsV), seqLength), dtype = int)\n",
        "yv = np.zeros((len(dataGramsV)), dtype = int)    \n",
        "for i in range(len(dataGramsV)):\n",
        "    for j in range(len(dataGramsV.x.iloc[i])):\n",
        "        xv[i][j] = dataGramsV.x.iloc[i][j]\n",
        "    yv[i] = dataGramsV.y.iloc[i]\n",
        "    \n",
        "# testing\n",
        "xt = np.zeros((len(dataGramsT), seqLength), dtype = int)\n",
        "yt = np.zeros((len(dataGramsT)), dtype = int)\n",
        "for i in range(len(dataGramsT)):\n",
        "    for j in range(len(dataGramsT.x.iloc[i])):\n",
        "        xt[i][j] = dataGramsT.x.iloc[i][j]\n",
        "    yt[i] = dataGramsT.y.iloc[i]\n"
      ]
    },
    {
      "cell_type": "code",
      "source": [
        "#to add numbers that are not in dictionary to the dictionary\n",
        "counter = len(dct)\n",
        "for i in range(150):\n",
        "  if str(i) not in dct:\n",
        "    counter += 1\n",
        "    dct[str(i)] = counter"
      ],
      "metadata": {
        "id": "nqDwhdAbM8N1"
      },
      "execution_count": null,
      "outputs": []
    },
    {
      "cell_type": "code",
      "source": [
        "vocabSize = len(dct)\n",
        "vocabSize"
      ],
      "metadata": {
        "colab": {
          "base_uri": "https://localhost:8080/"
        },
        "outputId": "a2f0601a-9c4a-46d3-baa9-02059d9e8001",
        "id": "gDEMhIY-M8N2"
      },
      "execution_count": null,
      "outputs": [
        {
          "output_type": "execute_result",
          "data": {
            "text/plain": [
              "9558"
            ]
          },
          "metadata": {},
          "execution_count": 58
        }
      ]
    },
    {
      "cell_type": "code",
      "execution_count": null,
      "metadata": {
        "id": "PorHytUsM8N2"
      },
      "outputs": [],
      "source": [
        "# 5.1 ONE-HOT ENCODE LABEL DATA ----------------------------\n",
        "# training\n",
        "\n",
        "\n",
        "b = np.zeros((len(yr), vocabSize))\n",
        "b[np.arange(len(yr)), yr] = 1\n"
      ]
    },
    {
      "cell_type": "code",
      "execution_count": null,
      "metadata": {
        "id": "oX4LBKEuM8N2"
      },
      "outputs": [],
      "source": [
        "# validation\n",
        "\n",
        "\n",
        "bv = np.zeros((len(yv), vocabSize))\n",
        "bv[np.arange(len(yv)), yv] = 1\n"
      ]
    },
    {
      "cell_type": "code",
      "source": [
        "!wget http://nlp.stanford.edu/data/glove.6B.zip\n",
        "!unzip glove*.zip"
      ],
      "metadata": {
        "id": "-dRIwGlXwqFp",
        "colab": {
          "base_uri": "https://localhost:8080/"
        },
        "outputId": "c28abea3-24b4-4eaf-cdb3-e82dc7594ab9"
      },
      "execution_count": null,
      "outputs": [
        {
          "output_type": "stream",
          "name": "stdout",
          "text": [
            "--2022-12-02 06:05:36--  http://nlp.stanford.edu/data/glove.6B.zip\n",
            "Resolving nlp.stanford.edu (nlp.stanford.edu)... 171.64.67.140\n",
            "Connecting to nlp.stanford.edu (nlp.stanford.edu)|171.64.67.140|:80... connected.\n",
            "HTTP request sent, awaiting response... 302 Found\n",
            "Location: https://nlp.stanford.edu/data/glove.6B.zip [following]\n",
            "--2022-12-02 06:05:37--  https://nlp.stanford.edu/data/glove.6B.zip\n",
            "Connecting to nlp.stanford.edu (nlp.stanford.edu)|171.64.67.140|:443... connected.\n",
            "HTTP request sent, awaiting response... 301 Moved Permanently\n",
            "Location: https://downloads.cs.stanford.edu/nlp/data/glove.6B.zip [following]\n",
            "--2022-12-02 06:05:38--  https://downloads.cs.stanford.edu/nlp/data/glove.6B.zip\n",
            "Resolving downloads.cs.stanford.edu (downloads.cs.stanford.edu)... 171.64.64.22\n",
            "Connecting to downloads.cs.stanford.edu (downloads.cs.stanford.edu)|171.64.64.22|:443... connected.\n",
            "HTTP request sent, awaiting response... 200 OK\n",
            "Length: 862182613 (822M) [application/zip]\n",
            "Saving to: ‘glove.6B.zip.2’\n",
            "\n",
            "glove.6B.zip.2      100%[===================>] 822.24M  2.17MB/s    in 6m 16s  \n",
            "\n",
            "2022-12-02 06:11:55 (2.19 MB/s) - ‘glove.6B.zip.2’ saved [862182613/862182613]\n",
            "\n",
            "Archive:  glove.6B.zip\n",
            "replace glove.6B.50d.txt? [y]es, [n]o, [A]ll, [N]one, [r]ename: y\n",
            "  inflating: glove.6B.50d.txt        \n",
            "replace glove.6B.100d.txt? [y]es, [n]o, [A]ll, [N]one, [r]ename: y\n",
            "  inflating: glove.6B.100d.txt       y\n",
            "\n",
            "replace glove.6B.200d.txt? [y]es, [n]o, [A]ll, [N]one, [r]ename:   inflating: glove.6B.200d.txt       y\n",
            "\n",
            "replace glove.6B.300d.txt? [y]es, [n]o, [A]ll, [N]one, [r]ename:   inflating: glove.6B.300d.txt       y\n",
            "\n"
          ]
        }
      ]
    },
    {
      "cell_type": "code",
      "source": [
        "embeddings_index = dict()\n",
        "f = open('/content/glove.6B.300d.txt')\n",
        "for line in f:\n",
        "    values = line.split()\n",
        "    word = values[0]\n",
        "    coefs = np.asarray(values[1:], dtype='float32')\n",
        "    embeddings_index[word] = coefs\n",
        "f.close()"
      ],
      "metadata": {
        "id": "tfVrDLOUOz_o"
      },
      "execution_count": null,
      "outputs": []
    },
    {
      "cell_type": "code",
      "source": [
        "#connect embeding to previous dct\n",
        "embedding_matrix = np.zeros((vocabSize, 300))\n",
        "for word, index in dct.items():\n",
        "    if index > vocabSize - 1:\n",
        "        break\n",
        "    else:\n",
        "        embedding_vector = embeddings_index.get(word)\n",
        "    if embedding_vector is not None:\n",
        "      embedding_matrix[index] = embedding_vector"
      ],
      "metadata": {
        "id": "0N1yjI_kO1Fd"
      },
      "execution_count": null,
      "outputs": []
    },
    {
      "cell_type": "code",
      "execution_count": null,
      "metadata": {
        "id": "PFyG9lxsM8N2"
      },
      "outputs": [],
      "source": [
        "import sys\n",
        "import numpy as np\n"
      ]
    },
    {
      "cell_type": "code",
      "execution_count": null,
      "metadata": {
        "colab": {
          "base_uri": "https://localhost:8080/",
          "height": 36
        },
        "outputId": "e915b8c2-4a8a-4461-9f0f-062cbdf44794",
        "id": "msWLrmMFM8N2"
      },
      "outputs": [
        {
          "output_type": "execute_result",
          "data": {
            "text/plain": [
              "'/device:GPU:0'"
            ],
            "application/vnd.google.colaboratory.intrinsic+json": {
              "type": "string"
            }
          },
          "metadata": {},
          "execution_count": 64
        }
      ],
      "source": [
        "import tensorflow as tf\n",
        "tf.test.gpu_device_name()"
      ]
    },
    {
      "cell_type": "code",
      "execution_count": null,
      "metadata": {
        "id": "FR3zGTIfM8N3"
      },
      "outputs": [],
      "source": [
        "from keras.utils.vis_utils import plot_model"
      ]
    },
    {
      "cell_type": "code",
      "execution_count": null,
      "metadata": {
        "id": "qSt5TfboM8N3"
      },
      "outputs": [],
      "source": [
        "tf.keras.backend.clear_session()"
      ]
    },
    {
      "cell_type": "code",
      "execution_count": null,
      "metadata": {
        "id": "Ym-LpXevM8N3"
      },
      "outputs": [],
      "source": [
        "# 5.2 COMPILE MODEL ----------------------------------------\n",
        "model = Sequential()\n",
        "#model.add(Embedding(vocabSize, seqLength, input_length = seqLength))\n",
        "model.add(Embedding(vocabSize, 300 ,input_length=seqLength, name=\"embeddinglayer\", weights=[embedding_matrix], trainable=False))\n",
        "model.add(LSTM(100, return_sequences = True))\n",
        "model.add(LSTM(100))\n",
        "model.add(Dense(100, activation = 'relu'))\n",
        "model.add(Dense(vocabSize, activation = 'softmax'))\n",
        "\n",
        "model.compile(loss = 'categorical_crossentropy', optimizer = 'adam', metrics = ['accuracy'])"
      ]
    },
    {
      "cell_type": "code",
      "execution_count": null,
      "metadata": {
        "id": "eY7pKdCGM8N3"
      },
      "outputs": [],
      "source": [
        "#plot_model(model, to_file='LSTM_plot.png', show_shapes=True, show_layer_names=True)"
      ]
    },
    {
      "cell_type": "code",
      "execution_count": null,
      "metadata": {
        "colab": {
          "base_uri": "https://localhost:8080/"
        },
        "outputId": "017dc069-24f4-4342-c01a-09588b2ca9a4",
        "id": "noB6tApgM8N3"
      },
      "outputs": [
        {
          "output_type": "stream",
          "name": "stdout",
          "text": [
            "training model...\n",
            "Epoch 1/7\n",
            "419/419 [==============================] - 11s 19ms/step - loss: 6.8688 - accuracy: 0.0395 - val_loss: 6.6620 - val_accuracy: 0.0431\n",
            "Epoch 2/7\n",
            "419/419 [==============================] - 6s 14ms/step - loss: 6.5091 - accuracy: 0.0441 - val_loss: 6.4179 - val_accuracy: 0.0509\n",
            "Epoch 3/7\n",
            "419/419 [==============================] - 5s 13ms/step - loss: 6.2133 - accuracy: 0.0583 - val_loss: 6.2504 - val_accuracy: 0.0671\n",
            "Epoch 4/7\n",
            "419/419 [==============================] - 5s 12ms/step - loss: 5.9799 - accuracy: 0.0743 - val_loss: 6.1615 - val_accuracy: 0.0801\n",
            "Epoch 5/7\n",
            "419/419 [==============================] - 5s 12ms/step - loss: 5.7891 - accuracy: 0.0859 - val_loss: 6.0849 - val_accuracy: 0.0860\n",
            "Epoch 6/7\n",
            "419/419 [==============================] - 5s 12ms/step - loss: 5.6177 - accuracy: 0.0949 - val_loss: 6.0535 - val_accuracy: 0.0919\n",
            "Epoch 7/7\n",
            "419/419 [==============================] - 5s 12ms/step - loss: 5.4567 - accuracy: 0.1020 - val_loss: 6.0489 - val_accuracy: 0.0965\n"
          ]
        }
      ],
      "source": [
        "print(\"training model...\")\n",
        "history = model.fit(xr, b, batch_size = batchSize, epochs = numEpochs, verbose = True,\n",
        "                    validation_data = (xv, bv))"
      ]
    },
    {
      "cell_type": "code",
      "source": [
        "scores = model.evaluate(xv, bv, verbose=2)\n",
        "print(\"Accuracy: %.2f%%\" % (scores[1]*100))"
      ],
      "metadata": {
        "id": "3KbDaSSRM8N4",
        "colab": {
          "base_uri": "https://localhost:8080/"
        },
        "outputId": "908e82fa-e6fe-45db-b86d-96755094c72f"
      },
      "execution_count": null,
      "outputs": [
        {
          "output_type": "stream",
          "name": "stdout",
          "text": [
            "860/860 - 4s - loss: 6.0489 - accuracy: 0.0965 - 4s/epoch - 4ms/step\n",
            "Accuracy: 9.65%\n"
          ]
        }
      ]
    },
    {
      "cell_type": "code",
      "execution_count": null,
      "metadata": {
        "colab": {
          "base_uri": "https://localhost:8080/"
        },
        "outputId": "e8af67e0-2bfb-4e4e-954f-ff252aa6042a",
        "id": "Kd2FwFwvM8N4"
      },
      "outputs": [
        {
          "output_type": "stream",
          "name": "stderr",
          "text": [
            "WARNING:absl:Found untraced functions such as lstm_cell_layer_call_fn, lstm_cell_layer_call_and_return_conditional_losses, lstm_cell_1_layer_call_fn, lstm_cell_1_layer_call_and_return_conditional_losses while saving (showing 4 of 4). These functions will not be directly callable after loading.\n"
          ]
        },
        {
          "output_type": "execute_result",
          "data": {
            "text/plain": [
              "['RQ5-glove rep-3.sav']"
            ]
          },
          "metadata": {},
          "execution_count": 70
        }
      ],
      "source": [
        "import joblib\n",
        "joblib.dump(model, 'RQ5-glove rep-3.sav')"
      ]
    },
    {
      "cell_type": "code",
      "source": [
        "#import joblib\n",
        "#loaded_model = joblib.load('smslstmsec1.sav')"
      ],
      "metadata": {
        "id": "I4suPQlEM8N4"
      },
      "execution_count": null,
      "outputs": []
    },
    {
      "cell_type": "markdown",
      "source": [
        "###**RQ5-fasttext representation**"
      ],
      "metadata": {
        "id": "hHsWayqpSrJU"
      }
    },
    {
      "cell_type": "markdown",
      "source": [
        "In this research question we want to compare different representations, one-hot encoding is defult, then we have fasttext, gloves and word2vec "
      ],
      "metadata": {
        "id": "OwIo3c0QSrJV"
      }
    },
    {
      "cell_type": "code",
      "source": [
        "random.seed(10)"
      ],
      "metadata": {
        "id": "etxVyNdZSrJV"
      },
      "execution_count": null,
      "outputs": []
    },
    {
      "cell_type": "code",
      "execution_count": null,
      "metadata": {
        "colab": {
          "base_uri": "https://localhost:8080/"
        },
        "outputId": "27a353de-7b87-446a-db63-a52cf0e0ebfb",
        "id": "GH0rSUsoSrJV"
      },
      "outputs": [
        {
          "output_type": "stream",
          "name": "stdout",
          "text": [
            "\n",
            "+---------------------------------------+\n",
            "| THANK YOU FOR USING THE SECRET SHARER |\n",
            "+---------------------------------------+\n",
            "\n",
            " True secrets inserted: 10\n",
            " False secrets inserted: 2\n",
            " Randomness space: 100\n",
            " Training epochs: 7\n",
            " Batch size: 256\n",
            " Secret text: 'my permanent code is 73 04'\n",
            "\n",
            "-----------------------------------------\n",
            "\n",
            "preparing data...\n"
          ]
        }
      ],
      "source": [
        "# 0. EXPERIMENTAL SETUP ====================================\n",
        "\n",
        "# how many copies of the secret do we insert?\n",
        "numTrueSecrets = 10\n",
        "# how many 'noisy' secrets do we insert?\n",
        "numFalseSecrets = 2\n",
        "# how many ticks are on our lock?\n",
        "numDistinctValues = 100\n",
        "# how long should we train the model?\n",
        "numEpochs = 7\n",
        "batchSize = 256\n",
        "\n",
        "# what form should the secret take?\n",
        "secretPref = \"my permanent code is \"\n",
        "seqLength = len(secretPref.split())\n",
        "gramSize = seqLength + 1\n",
        "\n",
        "# randomness space\n",
        "secretLength = 2\n",
        "bigR = numDistinctValues ** secretLength\n",
        "\n",
        "# generate a random secret\n",
        "secretText = generateSecret(secretLength, numDistinctValues)\n",
        "insertedSecret = secretPref + secretText\n",
        "\n",
        "print(\"\\n+---------------------------------------+\")\n",
        "print(\"| THANK YOU FOR USING THE SECRET SHARER |\")\n",
        "print(\"+---------------------------------------+\\n\")\n",
        "print(\" True secrets inserted:\", numTrueSecrets)\n",
        "print(\" False secrets inserted:\", numFalseSecrets)\n",
        "print(\" Randomness space:\", numDistinctValues)\n",
        "print(\" Training epochs:\", numEpochs)\n",
        "print(\" Batch size:\", batchSize)\n",
        "print(\" Secret text: '\", insertedSecret, \"'\\n\", sep = '')\n",
        "print(\"-----------------------------------------\")\n",
        "print(\"\\npreparing data...\")\n"
      ]
    },
    {
      "cell_type": "code",
      "execution_count": null,
      "metadata": {
        "id": "CMamZMffSrJW"
      },
      "outputs": [],
      "source": [
        "d, rootId = enumerateSecrets(secretLength, numDistinctValues, rootId, secretPref)\n",
        "#d here is all possible secrets\n",
        "#for the number of false secrets that we ordered it sample from d and make a data fram with name noise out of that \n",
        "# get some noise from these fake secret to add to training\n",
        "\n",
        "if numFalseSecrets > 0:\n",
        "    noise = [d[i] for i in sorted(random.sample(range(len(d)), numFalseSecrets))]\n",
        "    noiseDF = pd.DataFrame(noise)\n",
        "\n",
        "testSecret = pd.DataFrame(d);\n",
        "#test data has all possible secrets in it now\n",
        "dataRawT = dataRawT.append(d)\n",
        "#data for dct\n",
        "dataRawdct = dataRaw.append(d)\n",
        "\n",
        "d = []\n",
        "# several in training data\n",
        "for i in range(numTrueSecrets):\n",
        "    d.append({'id' : rootId,\n",
        "              'text' : insertedSecret,\n",
        "              'noPunc' : insertedSecret,\n",
        "              'splchk' : insertedSecret})\n",
        "    rootId += 1\n",
        "#truesecrets add in train data\n",
        "trainSecret = pd.DataFrame(d)\n",
        "dataRawR = dataRawR.append(d)\n",
        "#also the noise is added to train set\n",
        "if numFalseSecrets > 0:\n",
        "    dataRawR = dataRawR.append(noiseDF)\n",
        "#the train set have true sectrets and false secrets while test set has all possible secrets\n",
        "\n",
        "# 2.4 SPLIT INTO OVERLAPPING SETS OF WORDS -----------000000\n",
        "\n",
        "d = []\n",
        "gid = 0\n",
        "for i in range(len(dataRawR)):\n",
        "    grams = ngrams(dataRawR.splchk.iloc[i].split(), gramSize)\n",
        "    for g in grams:\n",
        "        d.append({'id' : gid,\n",
        "                  'data' : g})   \n",
        "        gid += 1\n",
        "\n",
        "dataGramsR = pd.DataFrame(d)\n",
        "\n",
        "d = []\n",
        "for i in range(len(dataRawV)):\n",
        "    grams = ngrams(dataRawV.splchk.iloc[i].split(), gramSize)\n",
        "    for g in grams:\n",
        "        d.append({'id' : gid,\n",
        "                  'data' : g})   \n",
        "        gid += 1\n",
        "\n",
        "dataGramsV = pd.DataFrame(d)\n",
        "\n",
        "d = []\n",
        "for i in range(len(dataRawT)):\n",
        "    grams = ngrams(dataRawT.splchk.iloc[i].split(), gramSize)\n",
        "    for g in grams:\n",
        "        d.append({'id' : gid,\n",
        "                  'data' : g})   \n",
        "        gid += 1\n",
        "\n",
        "dataGramsT = pd.DataFrame(d)"
      ]
    },
    {
      "cell_type": "code",
      "execution_count": null,
      "metadata": {
        "id": "dWZyFovWSrJW"
      },
      "outputs": [],
      "source": [
        "# word IDs\n",
        "#dct from dataRaw\n",
        "dct = dict()\n",
        "# word frequencies\n",
        "dctFreq = dict()\n",
        "did = 0\n",
        "for i in range(len(dataRawdct)):\n",
        "    s = dataRawdct.splchk.iloc[i].split()\n",
        "    for w in s:\n",
        "        if w not in dct:\n",
        "            dct[w] = did\n",
        "            did += 1\n",
        "            dctFreq[w] = 1\n",
        "        else:\n",
        "            dctFreq[w] += 1"
      ]
    },
    {
      "cell_type": "code",
      "execution_count": null,
      "metadata": {
        "id": "X_kWNwIBSrJW"
      },
      "outputs": [],
      "source": [
        "dctNoSingle = dict()\n",
        "did = 0\n",
        "for w in list(dct.keys()):\n",
        "    if dctFreq[w] !=1:\n",
        "        dctNoSingle[w] = did\n",
        "        did += 1\n",
        "        \n",
        "dct = dctNoSingle"
      ]
    },
    {
      "cell_type": "code",
      "execution_count": null,
      "metadata": {
        "id": "MKkgb5QRSrJW"
      },
      "outputs": [],
      "source": [
        "def noSingleUseWords(tup):\n",
        "    for w in tup:\n",
        "        if w not in dct:\n",
        "            return False\n",
        "    return True\n",
        "\n",
        "dataGramsR = dataGramsR[dataGramsR['data'].apply(noSingleUseWords) == True]\n",
        "dataGramsT = dataGramsT[dataGramsT['data'].apply(noSingleUseWords) == True]\n",
        "dataGramsV = dataGramsV[dataGramsV['data'].apply(noSingleUseWords) == True]\n"
      ]
    },
    {
      "cell_type": "code",
      "execution_count": null,
      "metadata": {
        "id": "m0sVifwjSrJW"
      },
      "outputs": [],
      "source": [
        "def encodeText(tup):\n",
        "    code = [None] * len(tup)\n",
        "    for i in range(len(tup)):\n",
        "        code[i] = dct[tup[i]]  \n",
        "    return tuple(code)\n",
        "\n",
        "dataGramsR['codes'] = dataGramsR['data'].apply(encodeText)\n",
        "dataGramsT['codes'] = dataGramsT['data'].apply(encodeText)\n",
        "dataGramsV['codes'] = dataGramsV['data'].apply(encodeText)\n"
      ]
    },
    {
      "cell_type": "code",
      "execution_count": null,
      "metadata": {
        "id": "vENRvmpTSrJX"
      },
      "outputs": [],
      "source": [
        "dataGramsR['x'] = dataGramsR['codes'].apply(dataSplit)\n",
        "dataGramsR['y'] = dataGramsR['codes'].apply(labelSplit)\n",
        "\n",
        "dataGramsT['x'] = dataGramsT['codes'].apply(dataSplit)\n",
        "dataGramsT['y'] = dataGramsT['codes'].apply(labelSplit)\n",
        "\n",
        "dataGramsV['x'] = dataGramsV['codes'].apply(dataSplit)\n",
        "dataGramsV['y'] = dataGramsV['codes'].apply(labelSplit)\n"
      ]
    },
    {
      "cell_type": "code",
      "execution_count": null,
      "metadata": {
        "id": "gwJMYUNXSrJX"
      },
      "outputs": [],
      "source": [
        "# training\n",
        "xr = np.zeros((len(dataGramsR), seqLength), dtype = int) \n",
        "yr = np.zeros((len(dataGramsR)), dtype = int)\n",
        "for i in range(len(dataGramsR)):\n",
        "    for j in range(len(dataGramsR.x.iloc[i])):\n",
        "        xr[i][j] = dataGramsR.x.iloc[i][j]\n",
        "    yr[i] = dataGramsR.y.iloc[i]\n",
        "\n",
        "# validation\n",
        "xv = np.zeros((len(dataGramsV), seqLength), dtype = int)\n",
        "yv = np.zeros((len(dataGramsV)), dtype = int)    \n",
        "for i in range(len(dataGramsV)):\n",
        "    for j in range(len(dataGramsV.x.iloc[i])):\n",
        "        xv[i][j] = dataGramsV.x.iloc[i][j]\n",
        "    yv[i] = dataGramsV.y.iloc[i]\n",
        "    \n",
        "# testing\n",
        "xt = np.zeros((len(dataGramsT), seqLength), dtype = int)\n",
        "yt = np.zeros((len(dataGramsT)), dtype = int)\n",
        "for i in range(len(dataGramsT)):\n",
        "    for j in range(len(dataGramsT.x.iloc[i])):\n",
        "        xt[i][j] = dataGramsT.x.iloc[i][j]\n",
        "    yt[i] = dataGramsT.y.iloc[i]\n"
      ]
    },
    {
      "cell_type": "code",
      "source": [
        "#to add numbers that are not in dictionary to the dictionary\n",
        "counter = len(dct)\n",
        "for i in range(150):\n",
        "  if str(i) not in dct:\n",
        "    counter += 1\n",
        "    dct[str(i)] = counter"
      ],
      "metadata": {
        "id": "CeEGudJaSrJX"
      },
      "execution_count": null,
      "outputs": []
    },
    {
      "cell_type": "code",
      "source": [
        "vocabSize = len(dct)\n",
        "vocabSize"
      ],
      "metadata": {
        "colab": {
          "base_uri": "https://localhost:8080/"
        },
        "outputId": "08e1c84d-6bd3-4b30-da4e-a3d416091c9a",
        "id": "JS3J6MqYSrJX"
      },
      "execution_count": null,
      "outputs": [
        {
          "output_type": "execute_result",
          "data": {
            "text/plain": [
              "9558"
            ]
          },
          "metadata": {},
          "execution_count": 99
        }
      ]
    },
    {
      "cell_type": "code",
      "execution_count": null,
      "metadata": {
        "id": "oJU2geiVSrJX"
      },
      "outputs": [],
      "source": [
        "# 5.1 ONE-HOT ENCODE LABEL DATA ----------------------------\n",
        "# training\n",
        "\n",
        "\n",
        "b = np.zeros((len(yr), vocabSize))\n",
        "b[np.arange(len(yr)), yr] = 1\n"
      ]
    },
    {
      "cell_type": "code",
      "execution_count": null,
      "metadata": {
        "id": "HGUe1CL-SrJX"
      },
      "outputs": [],
      "source": [
        "# validation\n",
        "\n",
        "\n",
        "bv = np.zeros((len(yv), vocabSize))\n",
        "bv[np.arange(len(yv)), yv] = 1\n"
      ]
    },
    {
      "cell_type": "code",
      "source": [
        "!wget https://dl.fbaipublicfiles.com/fasttext/vectors-english/wiki-news-300d-1M.vec.zip\n",
        "!unzip wiki-news-300d-1M.vec.zip"
      ],
      "metadata": {
        "colab": {
          "base_uri": "https://localhost:8080/"
        },
        "outputId": "d55ae2fe-740c-4490-cc4a-6fe50b8d0de1",
        "id": "p3sAe-69SrJY"
      },
      "execution_count": null,
      "outputs": [
        {
          "output_type": "stream",
          "name": "stdout",
          "text": [
            "--2022-12-20 17:58:11--  https://dl.fbaipublicfiles.com/fasttext/vectors-english/wiki-news-300d-1M.vec.zip\n",
            "Resolving dl.fbaipublicfiles.com (dl.fbaipublicfiles.com)... 104.22.75.142, 172.67.9.4, 104.22.74.142, ...\n",
            "Connecting to dl.fbaipublicfiles.com (dl.fbaipublicfiles.com)|104.22.75.142|:443... connected.\n",
            "HTTP request sent, awaiting response... 200 OK\n",
            "Length: 681808098 (650M) [application/zip]\n",
            "Saving to: ‘wiki-news-300d-1M.vec.zip’\n",
            "\n",
            "wiki-news-300d-1M.v 100%[===================>] 650.22M  22.8MB/s    in 27s     \n",
            "\n",
            "2022-12-20 17:58:39 (24.1 MB/s) - ‘wiki-news-300d-1M.vec.zip’ saved [681808098/681808098]\n",
            "\n",
            "Archive:  wiki-news-300d-1M.vec.zip\n",
            "  inflating: wiki-news-300d-1M.vec   \n"
          ]
        }
      ]
    },
    {
      "cell_type": "code",
      "source": [
        "embeddings_index = dict()\n",
        "f = open('/content/wiki-news-300d-1M.vec')\n",
        "for line in f:\n",
        "    values = line.split()\n",
        "    word = values[0]\n",
        "    coefs = np.asarray(values[1:], dtype='float32')\n",
        "    embeddings_index[word] = coefs\n",
        "f.close()"
      ],
      "metadata": {
        "id": "8GbQj_FISrJY"
      },
      "execution_count": null,
      "outputs": []
    },
    {
      "cell_type": "code",
      "source": [
        "#connect embeding to previous dct\n",
        "embedding_matrix = np.zeros((vocabSize, 300))\n",
        "for word, index in dct.items():\n",
        "    if index > vocabSize - 1:\n",
        "        break\n",
        "    else:\n",
        "        embedding_vector = embeddings_index.get(word)\n",
        "    if embedding_vector is not None:\n",
        "      embedding_matrix[index] = embedding_vector"
      ],
      "metadata": {
        "id": "PPcqRY0pSrJY"
      },
      "execution_count": null,
      "outputs": []
    },
    {
      "cell_type": "code",
      "execution_count": null,
      "metadata": {
        "id": "FTjAA02YSrJY"
      },
      "outputs": [],
      "source": [
        "import sys\n",
        "import numpy as np\n"
      ]
    },
    {
      "cell_type": "code",
      "execution_count": null,
      "metadata": {
        "id": "rS16byxJSrJY",
        "colab": {
          "base_uri": "https://localhost:8080/",
          "height": 35
        },
        "outputId": "f50703f4-e38a-4175-8312-e15614eeda10"
      },
      "outputs": [
        {
          "output_type": "execute_result",
          "data": {
            "text/plain": [
              "'/device:GPU:0'"
            ],
            "application/vnd.google.colaboratory.intrinsic+json": {
              "type": "string"
            }
          },
          "metadata": {},
          "execution_count": 106
        }
      ],
      "source": [
        "import tensorflow as tf\n",
        "tf.test.gpu_device_name()"
      ]
    },
    {
      "cell_type": "code",
      "execution_count": null,
      "metadata": {
        "id": "fBxz0n_ZSrJY"
      },
      "outputs": [],
      "source": [
        "from keras.utils.vis_utils import plot_model"
      ]
    },
    {
      "cell_type": "code",
      "execution_count": null,
      "metadata": {
        "id": "iOdLSrs7SrJZ"
      },
      "outputs": [],
      "source": [
        "tf.keras.backend.clear_session()"
      ]
    },
    {
      "cell_type": "code",
      "execution_count": null,
      "metadata": {
        "id": "WZXtcaZaSrJZ"
      },
      "outputs": [],
      "source": [
        "# 5.2 COMPILE MODEL ----------------------------------------\n",
        "model = Sequential()\n",
        "#model.add(Embedding(vocabSize, seqLength, input_length = seqLength))\n",
        "model.add(Embedding(vocabSize, 300 ,input_length=seqLength, name=\"embeddinglayer\", weights=[embedding_matrix], trainable=False))\n",
        "model.add(LSTM(100, return_sequences = True))\n",
        "model.add(LSTM(100))\n",
        "model.add(Dense(100, activation = 'relu'))\n",
        "model.add(Dense(vocabSize, activation = 'softmax'))\n",
        "\n",
        "model.compile(loss = 'categorical_crossentropy', optimizer = 'adam', metrics = ['accuracy'])"
      ]
    },
    {
      "cell_type": "code",
      "execution_count": null,
      "metadata": {
        "id": "Gw8Q2QCiSrJZ"
      },
      "outputs": [],
      "source": [
        "#plot_model(model, to_file='LSTM_plot.png', show_shapes=True, show_layer_names=True)"
      ]
    },
    {
      "cell_type": "code",
      "execution_count": null,
      "metadata": {
        "id": "TKABv2O7SrJZ",
        "colab": {
          "base_uri": "https://localhost:8080/"
        },
        "outputId": "8e85f560-3efa-4a0e-b6e5-7e6a5e772afa"
      },
      "outputs": [
        {
          "output_type": "stream",
          "name": "stdout",
          "text": [
            "training model...\n",
            "Train on 107698 samples, validate on 26589 samples\n",
            "Epoch 1/7\n",
            "107698/107698 [==============================] - 14s 129us/sample - loss: 6.8968 - acc: 0.0400 - val_loss: 6.6967 - val_acc: 0.0417\n",
            "Epoch 2/7\n",
            "107698/107698 [==============================] - 14s 133us/sample - loss: 6.6002 - acc: 0.0424 - val_loss: 6.5899 - val_acc: 0.0445\n",
            "Epoch 3/7\n",
            "107698/107698 [==============================] - 14s 129us/sample - loss: 6.3825 - acc: 0.0496 - val_loss: 6.4001 - val_acc: 0.0519\n",
            "Epoch 4/7\n",
            "107698/107698 [==============================] - 13s 123us/sample - loss: 6.1419 - acc: 0.0605 - val_loss: 6.2694 - val_acc: 0.0647\n",
            "Epoch 5/7\n",
            "107698/107698 [==============================] - 14s 126us/sample - loss: 5.9432 - acc: 0.0745 - val_loss: 6.1867 - val_acc: 0.0778\n",
            "Epoch 6/7\n",
            "107698/107698 [==============================] - 14s 133us/sample - loss: 5.7959 - acc: 0.0832 - val_loss: 6.1410 - val_acc: 0.0850\n",
            "Epoch 7/7\n",
            "107698/107698 [==============================] - 14s 132us/sample - loss: 5.6670 - acc: 0.0894 - val_loss: 6.1110 - val_acc: 0.0886\n"
          ]
        }
      ],
      "source": [
        "print(\"training model...\")\n",
        "history = model.fit(xr, b, batch_size = batchSize, epochs = numEpochs, verbose = True,\n",
        "                    validation_data = (xv, bv))"
      ]
    },
    {
      "cell_type": "code",
      "source": [
        "scores = model.evaluate(xv, bv, verbose=2)\n",
        "print(\"Accuracy: %.2f%%\" % (scores[1]*100))"
      ],
      "metadata": {
        "id": "tocxy-tCSrJZ",
        "colab": {
          "base_uri": "https://localhost:8080/"
        },
        "outputId": "2359408e-5632-4546-dc69-54e5c7da6d7a"
      },
      "execution_count": null,
      "outputs": [
        {
          "output_type": "stream",
          "name": "stdout",
          "text": [
            "Accuracy: 8.86%\n"
          ]
        }
      ]
    },
    {
      "cell_type": "code",
      "execution_count": null,
      "metadata": {
        "id": "kbmFVdAESrJZ"
      },
      "outputs": [],
      "source": [
        "# import joblib\n",
        "# joblib.dump(model, 'RQ5-fasttextrep-3.sav')"
      ]
    },
    {
      "cell_type": "markdown",
      "source": [
        "###**RQ5-Word2vec representation**"
      ],
      "metadata": {
        "id": "NrPw-bGwUgY4"
      }
    },
    {
      "cell_type": "markdown",
      "source": [
        "In this research question we want to compare different representations, one-hot encoding is defult, then we have fasttext, gloves and word2vec "
      ],
      "metadata": {
        "id": "5vxeiMnsUgY4"
      }
    },
    {
      "cell_type": "code",
      "source": [
        "random.seed(10)"
      ],
      "metadata": {
        "id": "hm-iMH1SUgY4"
      },
      "execution_count": null,
      "outputs": []
    },
    {
      "cell_type": "code",
      "execution_count": null,
      "metadata": {
        "colab": {
          "base_uri": "https://localhost:8080/"
        },
        "outputId": "52c0fe15-a296-4045-e804-6cd010890013",
        "id": "nsaQu_Q2UgY5"
      },
      "outputs": [
        {
          "output_type": "stream",
          "name": "stdout",
          "text": [
            "\n",
            "+---------------------------------------+\n",
            "| THANK YOU FOR USING THE SECRET SHARER |\n",
            "+---------------------------------------+\n",
            "\n",
            " True secrets inserted: 10\n",
            " False secrets inserted: 2\n",
            " Randomness space: 100\n",
            " Training epochs: 7\n",
            " Batch size: 256\n",
            " Secret text: 'my permanent code is 73 04'\n",
            "\n",
            "-----------------------------------------\n",
            "\n",
            "preparing data...\n"
          ]
        }
      ],
      "source": [
        "# 0. EXPERIMENTAL SETUP ====================================\n",
        "\n",
        "# how many copies of the secret do we insert?\n",
        "numTrueSecrets = 10\n",
        "# how many 'noisy' secrets do we insert?\n",
        "numFalseSecrets = 2\n",
        "# how many ticks are on our lock?\n",
        "numDistinctValues = 100\n",
        "# how long should we train the model?\n",
        "numEpochs = 7\n",
        "batchSize = 256\n",
        "\n",
        "# what form should the secret take?\n",
        "secretPref = \"my permanent code is \"\n",
        "seqLength = len(secretPref.split())\n",
        "gramSize = seqLength + 1\n",
        "\n",
        "# randomness space\n",
        "secretLength = 2\n",
        "bigR = numDistinctValues ** secretLength\n",
        "\n",
        "# generate a random secret\n",
        "secretText = generateSecret(secretLength, numDistinctValues)\n",
        "insertedSecret = secretPref + secretText\n",
        "\n",
        "print(\"\\n+---------------------------------------+\")\n",
        "print(\"| THANK YOU FOR USING THE SECRET SHARER |\")\n",
        "print(\"+---------------------------------------+\\n\")\n",
        "print(\" True secrets inserted:\", numTrueSecrets)\n",
        "print(\" False secrets inserted:\", numFalseSecrets)\n",
        "print(\" Randomness space:\", numDistinctValues)\n",
        "print(\" Training epochs:\", numEpochs)\n",
        "print(\" Batch size:\", batchSize)\n",
        "print(\" Secret text: '\", insertedSecret, \"'\\n\", sep = '')\n",
        "print(\"-----------------------------------------\")\n",
        "print(\"\\npreparing data...\")\n"
      ]
    },
    {
      "cell_type": "code",
      "execution_count": null,
      "metadata": {
        "id": "psWxYdXvUgY5"
      },
      "outputs": [],
      "source": [
        "d, rootId = enumerateSecrets(secretLength, numDistinctValues, rootId, secretPref)\n",
        "#d here is all possible secrets\n",
        "#for the number of false secrets that we ordered it sample from d and make a data fram with name noise out of that \n",
        "# get some noise from these fake secret to add to training\n",
        "\n",
        "if numFalseSecrets > 0:\n",
        "    noise = [d[i] for i in sorted(random.sample(range(len(d)), numFalseSecrets))]\n",
        "    noiseDF = pd.DataFrame(noise)\n",
        "\n",
        "testSecret = pd.DataFrame(d);\n",
        "#test data has all possible secrets in it now\n",
        "dataRawT = dataRawT.append(d)\n",
        "#data for dct\n",
        "dataRawdct = dataRaw.append(d)\n",
        "\n",
        "d = []\n",
        "# several in training data\n",
        "for i in range(numTrueSecrets):\n",
        "    d.append({'id' : rootId,\n",
        "              'text' : insertedSecret,\n",
        "              'noPunc' : insertedSecret,\n",
        "              'splchk' : insertedSecret})\n",
        "    rootId += 1\n",
        "#truesecrets add in train data\n",
        "trainSecret = pd.DataFrame(d)\n",
        "dataRawR = dataRawR.append(d)\n",
        "#also the noise is added to train set\n",
        "if numFalseSecrets > 0:\n",
        "    dataRawR = dataRawR.append(noiseDF)\n",
        "#the train set have true sectrets and false secrets while test set has all possible secrets\n",
        "\n",
        "# 2.4 SPLIT INTO OVERLAPPING SETS OF WORDS -----------000000\n",
        "\n",
        "d = []\n",
        "gid = 0\n",
        "for i in range(len(dataRawR)):\n",
        "    grams = ngrams(dataRawR.splchk.iloc[i].split(), gramSize)\n",
        "    for g in grams:\n",
        "        d.append({'id' : gid,\n",
        "                  'data' : g})   \n",
        "        gid += 1\n",
        "\n",
        "dataGramsR = pd.DataFrame(d)\n",
        "\n",
        "d = []\n",
        "for i in range(len(dataRawV)):\n",
        "    grams = ngrams(dataRawV.splchk.iloc[i].split(), gramSize)\n",
        "    for g in grams:\n",
        "        d.append({'id' : gid,\n",
        "                  'data' : g})   \n",
        "        gid += 1\n",
        "\n",
        "dataGramsV = pd.DataFrame(d)\n",
        "\n",
        "d = []\n",
        "for i in range(len(dataRawT)):\n",
        "    grams = ngrams(dataRawT.splchk.iloc[i].split(), gramSize)\n",
        "    for g in grams:\n",
        "        d.append({'id' : gid,\n",
        "                  'data' : g})   \n",
        "        gid += 1\n",
        "\n",
        "dataGramsT = pd.DataFrame(d)"
      ]
    },
    {
      "cell_type": "code",
      "execution_count": null,
      "metadata": {
        "id": "dAXOtiT5UgY6"
      },
      "outputs": [],
      "source": [
        "# word IDs\n",
        "#dct from dataRaw\n",
        "dct = dict()\n",
        "# word frequencies\n",
        "dctFreq = dict()\n",
        "did = 0\n",
        "for i in range(len(dataRawdct)):\n",
        "    s = dataRawdct.splchk.iloc[i].split()\n",
        "    for w in s:\n",
        "        if w not in dct:\n",
        "            dct[w] = did\n",
        "            did += 1\n",
        "            dctFreq[w] = 1\n",
        "        else:\n",
        "            dctFreq[w] += 1"
      ]
    },
    {
      "cell_type": "code",
      "execution_count": null,
      "metadata": {
        "id": "Z8wy4-92UgY6"
      },
      "outputs": [],
      "source": [
        "dctNoSingle = dict()\n",
        "did = 0\n",
        "for w in list(dct.keys()):\n",
        "    if dctFreq[w] !=1:\n",
        "        dctNoSingle[w] = did\n",
        "        did += 1\n",
        "        \n",
        "dct = dctNoSingle"
      ]
    },
    {
      "cell_type": "code",
      "execution_count": null,
      "metadata": {
        "id": "uEmjVUTMUgY7"
      },
      "outputs": [],
      "source": [
        "def noSingleUseWords(tup):\n",
        "    for w in tup:\n",
        "        if w not in dct:\n",
        "            return False\n",
        "    return True\n",
        "\n",
        "dataGramsR = dataGramsR[dataGramsR['data'].apply(noSingleUseWords) == True]\n",
        "dataGramsT = dataGramsT[dataGramsT['data'].apply(noSingleUseWords) == True]\n",
        "dataGramsV = dataGramsV[dataGramsV['data'].apply(noSingleUseWords) == True]\n"
      ]
    },
    {
      "cell_type": "code",
      "execution_count": null,
      "metadata": {
        "colab": {
          "base_uri": "https://localhost:8080/"
        },
        "id": "zEV5Hx7iUgY7",
        "outputId": "8939a4e8-c59f-43dc-b5bc-065117092763"
      },
      "outputs": [
        {
          "output_type": "stream",
          "name": "stderr",
          "text": [
            "<ipython-input-17-173b97ba434e>:7: SettingWithCopyWarning: \n",
            "A value is trying to be set on a copy of a slice from a DataFrame.\n",
            "Try using .loc[row_indexer,col_indexer] = value instead\n",
            "\n",
            "See the caveats in the documentation: https://pandas.pydata.org/pandas-docs/stable/user_guide/indexing.html#returning-a-view-versus-a-copy\n",
            "  dataGramsR['codes'] = dataGramsR['data'].apply(encodeText)\n"
          ]
        }
      ],
      "source": [
        "def encodeText(tup):\n",
        "    code = [None] * len(tup)\n",
        "    for i in range(len(tup)):\n",
        "        code[i] = dct[tup[i]]  \n",
        "    return tuple(code)\n",
        "\n",
        "dataGramsR['codes'] = dataGramsR['data'].apply(encodeText)\n",
        "dataGramsT['codes'] = dataGramsT['data'].apply(encodeText)\n",
        "dataGramsV['codes'] = dataGramsV['data'].apply(encodeText)\n"
      ]
    },
    {
      "cell_type": "code",
      "execution_count": null,
      "metadata": {
        "id": "9PmLhxTGUgY7"
      },
      "outputs": [],
      "source": [
        "dataGramsR['x'] = dataGramsR['codes'].apply(dataSplit)\n",
        "dataGramsR['y'] = dataGramsR['codes'].apply(labelSplit)\n",
        "\n",
        "dataGramsT['x'] = dataGramsT['codes'].apply(dataSplit)\n",
        "dataGramsT['y'] = dataGramsT['codes'].apply(labelSplit)\n",
        "\n",
        "dataGramsV['x'] = dataGramsV['codes'].apply(dataSplit)\n",
        "dataGramsV['y'] = dataGramsV['codes'].apply(labelSplit)\n"
      ]
    },
    {
      "cell_type": "code",
      "execution_count": null,
      "metadata": {
        "id": "MfD1OsO9UgY8"
      },
      "outputs": [],
      "source": [
        "# training\n",
        "xr = np.zeros((len(dataGramsR), seqLength), dtype = int) \n",
        "yr = np.zeros((len(dataGramsR)), dtype = int)\n",
        "for i in range(len(dataGramsR)):\n",
        "    for j in range(len(dataGramsR.x.iloc[i])):\n",
        "        xr[i][j] = dataGramsR.x.iloc[i][j]\n",
        "    yr[i] = dataGramsR.y.iloc[i]\n",
        "\n",
        "# validation\n",
        "xv = np.zeros((len(dataGramsV), seqLength), dtype = int)\n",
        "yv = np.zeros((len(dataGramsV)), dtype = int)    \n",
        "for i in range(len(dataGramsV)):\n",
        "    for j in range(len(dataGramsV.x.iloc[i])):\n",
        "        xv[i][j] = dataGramsV.x.iloc[i][j]\n",
        "    yv[i] = dataGramsV.y.iloc[i]\n",
        "    \n",
        "# testing\n",
        "xt = np.zeros((len(dataGramsT), seqLength), dtype = int)\n",
        "yt = np.zeros((len(dataGramsT)), dtype = int)\n",
        "for i in range(len(dataGramsT)):\n",
        "    for j in range(len(dataGramsT.x.iloc[i])):\n",
        "        xt[i][j] = dataGramsT.x.iloc[i][j]\n",
        "    yt[i] = dataGramsT.y.iloc[i]\n"
      ]
    },
    {
      "cell_type": "code",
      "source": [
        "#to add numbers that are not in dictionary to the dictionary\n",
        "counter = len(dct)\n",
        "for i in range(150):\n",
        "  if str(i) not in dct:\n",
        "    counter += 1\n",
        "    dct[str(i)] = counter"
      ],
      "metadata": {
        "id": "aju-4hW8UgY8"
      },
      "execution_count": null,
      "outputs": []
    },
    {
      "cell_type": "code",
      "source": [
        "vocabSize = len(dct)\n",
        "vocabSize"
      ],
      "metadata": {
        "colab": {
          "base_uri": "https://localhost:8080/"
        },
        "outputId": "d8009a05-a2f9-43e0-e60d-6d859cd686d7",
        "id": "KHUb8derUgY8"
      },
      "execution_count": null,
      "outputs": [
        {
          "output_type": "execute_result",
          "data": {
            "text/plain": [
              "9558"
            ]
          },
          "metadata": {},
          "execution_count": 21
        }
      ]
    },
    {
      "cell_type": "code",
      "execution_count": null,
      "metadata": {
        "id": "RN5AswKnUgY8"
      },
      "outputs": [],
      "source": [
        "# 5.1 ONE-HOT ENCODE LABEL DATA ----------------------------\n",
        "# training\n",
        "\n",
        "\n",
        "b = np.zeros((len(yr), vocabSize))\n",
        "b[np.arange(len(yr)), yr] = 1\n"
      ]
    },
    {
      "cell_type": "code",
      "execution_count": null,
      "metadata": {
        "id": "fU8_f1rLUgY9"
      },
      "outputs": [],
      "source": [
        "# validation\n",
        "\n",
        "\n",
        "bv = np.zeros((len(yv), vocabSize))\n",
        "bv[np.arange(len(yv)), yv] = 1\n"
      ]
    },
    {
      "cell_type": "code",
      "source": [
        "import gensim\n",
        "from gensim.models import Word2Vec\n",
        "from gensim.utils import simple_preprocess\n",
        "from gensim.models.keyedvectors import KeyedVectors"
      ],
      "metadata": {
        "id": "xAlXDOppU0PR"
      },
      "execution_count": null,
      "outputs": []
    },
    {
      "cell_type": "code",
      "source": [
        "word_vectors = KeyedVectors.load_word2vec_format('/content/drive/MyDrive/Colab Notebooks/GoogleNews-vectors-negative300.bin', binary=True)\n",
        "embedding_matrix = np.zeros((vocabSize, 300))\n",
        "for word, index in dct.items():\n",
        "    if index > vocabSize - 1:\n",
        "        continue\n",
        "    try:\n",
        "        embedding_vector = word_vectors[word]\n",
        "        embedding_matrix[index] = embedding_vector\n",
        "    except KeyError:\n",
        "        embedding_matrix[index]=np.random.normal(0,np.sqrt(0.25),300)\n",
        "\n",
        "embedding_matrix"
      ],
      "metadata": {
        "colab": {
          "base_uri": "https://localhost:8080/"
        },
        "id": "_BmVZ6PLVced",
        "outputId": "c99ca963-3f67-40f0-ce6f-03eefbac93a6"
      },
      "execution_count": null,
      "outputs": [
        {
          "output_type": "execute_result",
          "data": {
            "text/plain": [
              "array([[-0.55777863, -0.24878716,  0.30620998, ...,  0.14174   ,\n",
              "         1.08523071, -0.60734735],\n",
              "       [ 0.0534668 ,  0.01202393, -0.00650024, ..., -0.00193787,\n",
              "         0.03222656, -0.15234375],\n",
              "       [ 0.09228516, -0.20117188,  0.06933594, ..., -0.00866699,\n",
              "         0.12890625, -0.21582031],\n",
              "       ...,\n",
              "       [ 0.47984287,  0.28908406,  0.157234  , ..., -0.00237308,\n",
              "         0.13156763, -0.40962329],\n",
              "       [-0.28840399, -0.15766007,  0.53499768, ...,  0.31022538,\n",
              "         0.37841475,  0.11110215],\n",
              "       [-1.43790269,  0.6330718 ,  0.04590014, ...,  1.47957751,\n",
              "        -0.08169154,  0.23280878]])"
            ]
          },
          "metadata": {},
          "execution_count": 25
        }
      ]
    },
    {
      "cell_type": "code",
      "source": [
        "embedding_matrix.shape"
      ],
      "metadata": {
        "colab": {
          "base_uri": "https://localhost:8080/"
        },
        "id": "i7vfR_LkZNFE",
        "outputId": "1ef09e51-9306-4795-c710-0e023b39a92b"
      },
      "execution_count": null,
      "outputs": [
        {
          "output_type": "execute_result",
          "data": {
            "text/plain": [
              "(9558, 300)"
            ]
          },
          "metadata": {},
          "execution_count": 26
        }
      ]
    },
    {
      "cell_type": "code",
      "execution_count": null,
      "metadata": {
        "id": "XWh9h8O-UgY-"
      },
      "outputs": [],
      "source": [
        "import sys\n",
        "import numpy as np\n"
      ]
    },
    {
      "cell_type": "code",
      "execution_count": null,
      "metadata": {
        "colab": {
          "base_uri": "https://localhost:8080/",
          "height": 36
        },
        "outputId": "d0ae8099-6899-447d-8010-01aed9fbee1c",
        "id": "Yqp63tU3UgY-"
      },
      "outputs": [
        {
          "output_type": "execute_result",
          "data": {
            "text/plain": [
              "'/device:GPU:0'"
            ],
            "application/vnd.google.colaboratory.intrinsic+json": {
              "type": "string"
            }
          },
          "metadata": {},
          "execution_count": 28
        }
      ],
      "source": [
        "import tensorflow as tf\n",
        "tf.test.gpu_device_name()"
      ]
    },
    {
      "cell_type": "code",
      "execution_count": null,
      "metadata": {
        "id": "isaWhGIXUgY-"
      },
      "outputs": [],
      "source": [
        "from keras.utils.vis_utils import plot_model"
      ]
    },
    {
      "cell_type": "code",
      "execution_count": null,
      "metadata": {
        "id": "uKZ_jENyUgY-"
      },
      "outputs": [],
      "source": [
        "tf.keras.backend.clear_session()"
      ]
    },
    {
      "cell_type": "code",
      "execution_count": null,
      "metadata": {
        "id": "Hc2W9zG2UgY_"
      },
      "outputs": [],
      "source": [
        "# 5.2 COMPILE MODEL ----------------------------------------\n",
        "model = Sequential()\n",
        "#model.add(Embedding(vocabSize, seqLength, input_length = seqLength))\n",
        "model.add(Embedding(vocabSize, 300 ,input_length=seqLength, name=\"embeddinglayer\", weights=[embedding_matrix], trainable=False))\n",
        "model.add(LSTM(100, return_sequences = True))\n",
        "model.add(LSTM(100))\n",
        "model.add(Dense(100, activation = 'relu'))\n",
        "model.add(Dense(vocabSize, activation = 'softmax'))\n",
        "\n",
        "model.compile(loss = 'categorical_crossentropy', optimizer = 'adam', metrics = ['accuracy'])"
      ]
    },
    {
      "cell_type": "code",
      "execution_count": null,
      "metadata": {
        "id": "HADDSlB9UgY_"
      },
      "outputs": [],
      "source": [
        "#plot_model(model, to_file='LSTM_plot.png', show_shapes=True, show_layer_names=True)"
      ]
    },
    {
      "cell_type": "code",
      "execution_count": null,
      "metadata": {
        "colab": {
          "base_uri": "https://localhost:8080/"
        },
        "outputId": "2f358831-208b-4321-892b-da07c8bb32f3",
        "id": "cdjcT7ymUgY_"
      },
      "outputs": [
        {
          "output_type": "stream",
          "name": "stdout",
          "text": [
            "training model...\n",
            "Epoch 1/7\n",
            "417/417 [==============================] - 21s 20ms/step - loss: 6.9041 - accuracy: 0.0398 - val_loss: 6.6896 - val_accuracy: 0.0399\n",
            "Epoch 2/7\n",
            "417/417 [==============================] - 5s 12ms/step - loss: 6.5970 - accuracy: 0.0419 - val_loss: 6.5977 - val_accuracy: 0.0414\n",
            "Epoch 3/7\n",
            "417/417 [==============================] - 5s 12ms/step - loss: 6.3611 - accuracy: 0.0508 - val_loss: 6.3527 - val_accuracy: 0.0547\n",
            "Epoch 4/7\n",
            "417/417 [==============================] - 5s 13ms/step - loss: 6.0804 - accuracy: 0.0656 - val_loss: 6.1961 - val_accuracy: 0.0700\n",
            "Epoch 5/7\n",
            "417/417 [==============================] - 5s 12ms/step - loss: 5.8764 - accuracy: 0.0784 - val_loss: 6.1212 - val_accuracy: 0.0807\n",
            "Epoch 6/7\n",
            "417/417 [==============================] - 5s 12ms/step - loss: 5.7040 - accuracy: 0.0885 - val_loss: 6.0556 - val_accuracy: 0.0875\n",
            "Epoch 7/7\n",
            "417/417 [==============================] - 5s 12ms/step - loss: 5.5458 - accuracy: 0.0965 - val_loss: 6.0462 - val_accuracy: 0.0922\n"
          ]
        }
      ],
      "source": [
        "print(\"training model...\")\n",
        "history = model.fit(xr, b, batch_size = batchSize, epochs = numEpochs, verbose = True,\n",
        "                    validation_data = (xv, bv))"
      ]
    },
    {
      "cell_type": "code",
      "source": [
        "scores = model.evaluate(xv, bv, verbose=2)\n",
        "print(\"Accuracy: %.2f%%\" % (scores[1]*100))"
      ],
      "metadata": {
        "colab": {
          "base_uri": "https://localhost:8080/"
        },
        "outputId": "d9915c75-e9c5-442e-dac2-3ade75154762",
        "id": "RyOnTI3NUgY_"
      },
      "execution_count": null,
      "outputs": [
        {
          "output_type": "stream",
          "name": "stdout",
          "text": [
            "852/852 - 4s - loss: 6.0462 - accuracy: 0.0922 - 4s/epoch - 4ms/step\n",
            "Accuracy: 9.22%\n"
          ]
        }
      ]
    },
    {
      "cell_type": "code",
      "execution_count": null,
      "metadata": {
        "colab": {
          "base_uri": "https://localhost:8080/"
        },
        "outputId": "382bbc96-17df-4e71-fdc2-a3a393b86511",
        "id": "_hbw8o2eUgY_"
      },
      "outputs": [
        {
          "output_type": "stream",
          "name": "stderr",
          "text": [
            "WARNING:absl:Found untraced functions such as lstm_cell_layer_call_fn, lstm_cell_layer_call_and_return_conditional_losses, lstm_cell_1_layer_call_fn, lstm_cell_1_layer_call_and_return_conditional_losses while saving (showing 4 of 4). These functions will not be directly callable after loading.\n"
          ]
        },
        {
          "output_type": "execute_result",
          "data": {
            "text/plain": [
              "['RQ5-word2vec-3.sav']"
            ]
          },
          "metadata": {},
          "execution_count": 34
        }
      ],
      "source": [
        "import joblib\n",
        "joblib.dump(model, 'RQ5-word2vec-3.sav')"
      ]
    },
    {
      "cell_type": "code",
      "source": [
        "#import joblib\n",
        "#loaded_model = joblib.load('smslstmsec1.sav')"
      ],
      "metadata": {
        "id": "SE_8eMlIUgZA"
      },
      "execution_count": null,
      "outputs": []
    },
    {
      "cell_type": "markdown",
      "source": [
        "###**RQ6**"
      ],
      "metadata": {
        "id": "V-PmM7AsBotz"
      }
    },
    {
      "cell_type": "markdown",
      "source": [
        "In this research question we want to see if different length prefixes make difference in the exposure metric\n",
        "\n",
        "So we only change prefixes. "
      ],
      "metadata": {
        "id": "QY_8WLyVBotz"
      }
    },
    {
      "cell_type": "code",
      "source": [
        "random.seed(10)"
      ],
      "metadata": {
        "id": "cXqU28NuBot0"
      },
      "execution_count": null,
      "outputs": []
    },
    {
      "cell_type": "markdown",
      "source": [
        "Need to change number of times we insert secrets - we iterate between 1, 10, 70, 150, 500, 1000. And for each we run five times to find the average exposure."
      ],
      "metadata": {
        "id": "QwCffZ2IBot0"
      }
    },
    {
      "cell_type": "code",
      "execution_count": null,
      "metadata": {
        "colab": {
          "base_uri": "https://localhost:8080/"
        },
        "outputId": "ba5dbc64-a39e-4468-d000-05d4a16d08d4",
        "id": "FqP29eLRBot0"
      },
      "outputs": [
        {
          "output_type": "stream",
          "name": "stdout",
          "text": [
            "\n",
            "+---------------------------------------+\n",
            "| THANK YOU FOR USING THE SECRET SHARER |\n",
            "+---------------------------------------+\n",
            "\n",
            " True secrets inserted: 10\n",
            " False secrets inserted: 2\n",
            " Randomness space: 100\n",
            " Training epochs: 7\n",
            " Batch size: 256\n",
            " Secret text: 'permanent code 26 59'\n",
            "\n",
            "-----------------------------------------\n",
            "\n",
            "preparing data...\n"
          ]
        }
      ],
      "source": [
        "# 0. EXPERIMENTAL SETUP ====================================\n",
        "\n",
        "# how many copies of the secret do we insert?\n",
        "numTrueSecrets = 10\n",
        "# how many 'noisy' secrets do we insert?\n",
        "numFalseSecrets = 2\n",
        "# how many ticks are on our lock?\n",
        "numDistinctValues = 100\n",
        "# how long should we train the model?\n",
        "numEpochs = 7\n",
        "batchSize = 256\n",
        "\n",
        "# what form should the secret take?\n",
        "secretPref = \"permanent code \"\n",
        "#secretPref = \"my permanent code is \"\n",
        "#secretPref = \"my secret permanent code is \"\n",
        "#secretPref = \"my super secret permanent code is \"\n",
        "#secretPref = \"keep it secret my permanent code is \"\n",
        "seqLength = len(secretPref.split())\n",
        "gramSize = seqLength + 1\n",
        "\n",
        "# randomness space\n",
        "secretLength = 2\n",
        "bigR = numDistinctValues ** secretLength\n",
        "\n",
        "# generate a random secret\n",
        "secretText = generateSecret(secretLength, numDistinctValues)\n",
        "insertedSecret = secretPref + secretText\n",
        "\n",
        "print(\"\\n+---------------------------------------+\")\n",
        "print(\"| THANK YOU FOR USING THE SECRET SHARER |\")\n",
        "print(\"+---------------------------------------+\\n\")\n",
        "print(\" True secrets inserted:\", numTrueSecrets)\n",
        "print(\" False secrets inserted:\", numFalseSecrets)\n",
        "print(\" Randomness space:\", numDistinctValues)\n",
        "print(\" Training epochs:\", numEpochs)\n",
        "print(\" Batch size:\", batchSize)\n",
        "print(\" Secret text: '\", insertedSecret, \"'\\n\", sep = '')\n",
        "print(\"-----------------------------------------\")\n",
        "print(\"\\npreparing data...\")\n"
      ]
    },
    {
      "cell_type": "code",
      "execution_count": null,
      "metadata": {
        "id": "FFnzheIXBot1"
      },
      "outputs": [],
      "source": [
        "d, rootId = enumerateSecrets(secretLength, numDistinctValues, rootId, secretPref)\n",
        "#d here is all possible secrets\n",
        "#for the number of false secrets that we ordered it sample from d and make a data fram with name noise out of that \n",
        "# get some noise from these fake secret to add to training\n",
        "\n",
        "if numFalseSecrets > 0:\n",
        "    noise = [d[i] for i in sorted(random.sample(range(len(d)), numFalseSecrets))]\n",
        "    noiseDF = pd.DataFrame(noise)\n",
        "\n",
        "testSecret = pd.DataFrame(d);\n",
        "#test data has all possible secrets in it now\n",
        "dataRawT = dataRawT.append(d)\n",
        "#data for dct\n",
        "dataRawdct = dataRaw.append(d)\n",
        "\n",
        "d = []\n",
        "# several in training data\n",
        "for i in range(numTrueSecrets):\n",
        "    d.append({'id' : rootId,\n",
        "              'text' : insertedSecret,\n",
        "              'noPunc' : insertedSecret,\n",
        "              'splchk' : insertedSecret})\n",
        "    rootId += 1\n",
        "#truesecrets add in train data\n",
        "trainSecret = pd.DataFrame(d)\n",
        "dataRawR = dataRawR.append(d)\n",
        "#also the noise is added to train set\n",
        "if numFalseSecrets > 0:\n",
        "    dataRawR = dataRawR.append(noiseDF)\n",
        "#the train set have true sectrets and false secrets while test set has all possible secrets\n",
        "\n",
        "# 2.4 SPLIT INTO OVERLAPPING SETS OF WORDS -----------000000\n",
        "\n",
        "d = []\n",
        "gid = 0\n",
        "for i in range(len(dataRawR)):\n",
        "    grams = ngrams(dataRawR.splchk.iloc[i].split(), gramSize)\n",
        "    for g in grams:\n",
        "        d.append({'id' : gid,\n",
        "                  'data' : g})   \n",
        "        gid += 1\n",
        "\n",
        "dataGramsR = pd.DataFrame(d)\n",
        "\n",
        "d = []\n",
        "for i in range(len(dataRawV)):\n",
        "    grams = ngrams(dataRawV.splchk.iloc[i].split(), gramSize)\n",
        "    for g in grams:\n",
        "        d.append({'id' : gid,\n",
        "                  'data' : g})   \n",
        "        gid += 1\n",
        "\n",
        "dataGramsV = pd.DataFrame(d)\n",
        "\n",
        "d = []\n",
        "for i in range(len(dataRawT)):\n",
        "    grams = ngrams(dataRawT.splchk.iloc[i].split(), gramSize)\n",
        "    for g in grams:\n",
        "        d.append({'id' : gid,\n",
        "                  'data' : g})   \n",
        "        gid += 1\n",
        "\n",
        "dataGramsT = pd.DataFrame(d)"
      ]
    },
    {
      "cell_type": "code",
      "execution_count": null,
      "metadata": {
        "id": "2Zjed27IBot2"
      },
      "outputs": [],
      "source": [
        "# word IDs\n",
        "#dct from dataRaw\n",
        "dct = dict()\n",
        "# word frequencies\n",
        "dctFreq = dict()\n",
        "did = 0\n",
        "for i in range(len(dataRawdct)):\n",
        "    s = dataRawdct.splchk.iloc[i].split()\n",
        "    for w in s:\n",
        "        if w not in dct:\n",
        "            dct[w] = did\n",
        "            did += 1\n",
        "            dctFreq[w] = 1\n",
        "        else:\n",
        "            dctFreq[w] += 1"
      ]
    },
    {
      "cell_type": "code",
      "execution_count": null,
      "metadata": {
        "id": "DJPRrGawBot2"
      },
      "outputs": [],
      "source": [
        "dctNoSingle = dict()\n",
        "did = 0\n",
        "for w in list(dct.keys()):\n",
        "    if dctFreq[w] !=1:\n",
        "        dctNoSingle[w] = did\n",
        "        did += 1\n",
        "        \n",
        "dct = dctNoSingle"
      ]
    },
    {
      "cell_type": "code",
      "execution_count": null,
      "metadata": {
        "id": "U01z5OmaBot3"
      },
      "outputs": [],
      "source": [
        "def noSingleUseWords(tup):\n",
        "    for w in tup:\n",
        "        if w not in dct:\n",
        "            return False\n",
        "    return True\n",
        "\n",
        "dataGramsR = dataGramsR[dataGramsR['data'].apply(noSingleUseWords) == True]\n",
        "dataGramsT = dataGramsT[dataGramsT['data'].apply(noSingleUseWords) == True]\n",
        "dataGramsV = dataGramsV[dataGramsV['data'].apply(noSingleUseWords) == True]\n"
      ]
    },
    {
      "cell_type": "code",
      "execution_count": null,
      "metadata": {
        "id": "7v2HU5yMBot3"
      },
      "outputs": [],
      "source": [
        "def encodeText(tup):\n",
        "    code = [None] * len(tup)\n",
        "    for i in range(len(tup)):\n",
        "        code[i] = dct[tup[i]]  \n",
        "    return tuple(code)\n",
        "\n",
        "dataGramsR['codes'] = dataGramsR['data'].apply(encodeText)\n",
        "dataGramsT['codes'] = dataGramsT['data'].apply(encodeText)\n",
        "dataGramsV['codes'] = dataGramsV['data'].apply(encodeText)\n"
      ]
    },
    {
      "cell_type": "code",
      "execution_count": null,
      "metadata": {
        "id": "3nFpG-k-Bot4"
      },
      "outputs": [],
      "source": [
        "dataGramsR['x'] = dataGramsR['codes'].apply(dataSplit)\n",
        "dataGramsR['y'] = dataGramsR['codes'].apply(labelSplit)\n",
        "\n",
        "dataGramsT['x'] = dataGramsT['codes'].apply(dataSplit)\n",
        "dataGramsT['y'] = dataGramsT['codes'].apply(labelSplit)\n",
        "\n",
        "dataGramsV['x'] = dataGramsV['codes'].apply(dataSplit)\n",
        "dataGramsV['y'] = dataGramsV['codes'].apply(labelSplit)\n"
      ]
    },
    {
      "cell_type": "code",
      "execution_count": null,
      "metadata": {
        "id": "geFWoJn9Bot4"
      },
      "outputs": [],
      "source": [
        "# training\n",
        "xr = np.zeros((len(dataGramsR), seqLength), dtype = int) \n",
        "yr = np.zeros((len(dataGramsR)), dtype = int)\n",
        "for i in range(len(dataGramsR)):\n",
        "    for j in range(len(dataGramsR.x.iloc[i])):\n",
        "        xr[i][j] = dataGramsR.x.iloc[i][j]\n",
        "    yr[i] = dataGramsR.y.iloc[i]\n",
        "\n",
        "# validation\n",
        "xv = np.zeros((len(dataGramsV), seqLength), dtype = int)\n",
        "yv = np.zeros((len(dataGramsV)), dtype = int)    \n",
        "for i in range(len(dataGramsV)):\n",
        "    for j in range(len(dataGramsV.x.iloc[i])):\n",
        "        xv[i][j] = dataGramsV.x.iloc[i][j]\n",
        "    yv[i] = dataGramsV.y.iloc[i]\n",
        "    \n",
        "# testing\n",
        "xt = np.zeros((len(dataGramsT), seqLength), dtype = int)\n",
        "yt = np.zeros((len(dataGramsT)), dtype = int)\n",
        "for i in range(len(dataGramsT)):\n",
        "    for j in range(len(dataGramsT.x.iloc[i])):\n",
        "        xt[i][j] = dataGramsT.x.iloc[i][j]\n",
        "    yt[i] = dataGramsT.y.iloc[i]\n"
      ]
    },
    {
      "cell_type": "code",
      "source": [
        "#to add numbers that are not in dictionary to the dictionary\n",
        "counter = len(dct)\n",
        "for i in range(150):\n",
        "  if str(i) not in dct:\n",
        "    counter += 1\n",
        "    dct[str(i)] = counter"
      ],
      "metadata": {
        "id": "PJc-SIAaBot5"
      },
      "execution_count": null,
      "outputs": []
    },
    {
      "cell_type": "code",
      "source": [
        "vocabSize = len(dct)\n",
        "vocabSize"
      ],
      "metadata": {
        "colab": {
          "base_uri": "https://localhost:8080/"
        },
        "outputId": "ff2112c0-23af-4b0e-bfed-065b8881602d",
        "id": "cgJnPDgEBot5"
      },
      "execution_count": null,
      "outputs": [
        {
          "output_type": "execute_result",
          "data": {
            "text/plain": [
              "9558"
            ]
          },
          "metadata": {},
          "execution_count": 21
        }
      ]
    },
    {
      "cell_type": "code",
      "execution_count": null,
      "metadata": {
        "id": "jnh5FPJ1Bot6"
      },
      "outputs": [],
      "source": [
        "# 5.1 ONE-HOT ENCODE LABEL DATA ----------------------------\n",
        "# training\n",
        "\n",
        "\n",
        "b = np.zeros((len(yr), vocabSize))\n",
        "b[np.arange(len(yr)), yr] = 1\n"
      ]
    },
    {
      "cell_type": "code",
      "execution_count": null,
      "metadata": {
        "id": "0Q8RuuhaBot6"
      },
      "outputs": [],
      "source": [
        "# validation\n",
        "\n",
        "\n",
        "bv = np.zeros((len(yv), vocabSize))\n",
        "bv[np.arange(len(yv)), yv] = 1\n"
      ]
    },
    {
      "cell_type": "code",
      "execution_count": null,
      "metadata": {
        "id": "vKwEF9LNBot6"
      },
      "outputs": [],
      "source": [
        "import sys\n",
        "import numpy as np\n"
      ]
    },
    {
      "cell_type": "code",
      "execution_count": null,
      "metadata": {
        "colab": {
          "base_uri": "https://localhost:8080/",
          "height": 35
        },
        "outputId": "8ed1a245-1983-4c65-b60a-46591bebcdac",
        "id": "ZANS6Z-LBot7"
      },
      "outputs": [
        {
          "output_type": "execute_result",
          "data": {
            "text/plain": [
              "'/device:GPU:0'"
            ],
            "application/vnd.google.colaboratory.intrinsic+json": {
              "type": "string"
            }
          },
          "metadata": {},
          "execution_count": 28
        }
      ],
      "source": [
        "import tensorflow as tf\n",
        "tf.test.gpu_device_name()"
      ]
    },
    {
      "cell_type": "code",
      "execution_count": null,
      "metadata": {
        "id": "2vtwT-BuBot7"
      },
      "outputs": [],
      "source": [
        "from keras.utils.vis_utils import plot_model"
      ]
    },
    {
      "cell_type": "code",
      "execution_count": null,
      "metadata": {
        "id": "zmnz2sNgBot7"
      },
      "outputs": [],
      "source": [
        "tf.keras.backend.clear_session()"
      ]
    },
    {
      "cell_type": "code",
      "execution_count": null,
      "metadata": {
        "id": "JQTbJtZNBot7"
      },
      "outputs": [],
      "source": [
        "# 5.2 COMPILE MODEL ----------------------------------------\n",
        "model = Sequential()\n",
        "model.add(Embedding(vocabSize, seqLength, input_length = seqLength))\n",
        "model.add(LSTM(100, return_sequences = True))\n",
        "model.add(LSTM(100))\n",
        "model.add(Dense(100, activation = 'relu'))\n",
        "model.add(Dense(vocabSize, activation = 'softmax'))\n",
        "\n",
        "model.compile(loss = 'categorical_crossentropy', optimizer = 'adam', metrics = ['accuracy'])"
      ]
    },
    {
      "cell_type": "code",
      "execution_count": null,
      "metadata": {
        "id": "kUwqXjF4Bot8"
      },
      "outputs": [],
      "source": [
        "#plot_model(model, to_file='LSTM_plot.png', show_shapes=True, show_layer_names=True)"
      ]
    },
    {
      "cell_type": "code",
      "execution_count": null,
      "metadata": {
        "id": "MLT2WQLTBot8"
      },
      "outputs": [],
      "source": [
        "print(\"training model...\")\n",
        "history = model.fit(xr, b, batch_size = batchSize, epochs = numEpochs, verbose = True,\n",
        "                    validation_data = (xv, bv))"
      ]
    },
    {
      "cell_type": "code",
      "source": [
        "scores = model.evaluate(xv, bv, verbose=2)\n",
        "print(\"Accuracy: %.2f%%\" % (scores[1]*100))"
      ],
      "metadata": {
        "id": "WUI1d04XBot8"
      },
      "execution_count": null,
      "outputs": []
    },
    {
      "cell_type": "code",
      "execution_count": null,
      "metadata": {
        "id": "OB3HBnAgBot9"
      },
      "outputs": [],
      "source": [
        "import joblib\n",
        "joblib.dump(model, 'RQ6-seclen6-3.sav')"
      ]
    },
    {
      "cell_type": "code",
      "source": [
        "#import joblib\n",
        "#loaded_model = joblib.load('smslstmsec1.sav')"
      ],
      "metadata": {
        "id": "cB2HYxPeBot9"
      },
      "execution_count": null,
      "outputs": []
    },
    {
      "cell_type": "markdown",
      "source": [
        "###**RQ7**"
      ],
      "metadata": {
        "id": "Zvz1meqApVHE"
      }
    },
    {
      "cell_type": "markdown",
      "source": [
        "In this research question we want to see if the number of epochs change the value for exposure. "
      ],
      "metadata": {
        "id": "Iv3Q8l3mpVHE"
      }
    },
    {
      "cell_type": "code",
      "source": [
        "random.seed(10)"
      ],
      "metadata": {
        "id": "mHYCh8gZpVHF"
      },
      "execution_count": null,
      "outputs": []
    },
    {
      "cell_type": "markdown",
      "source": [
        "Need to change number of times we insert secrets - we iterate between 1, 10, 70, 150, 500, 1000. And for each we run five times to find the average exposure."
      ],
      "metadata": {
        "id": "qS9y0enepVHF"
      }
    },
    {
      "cell_type": "code",
      "execution_count": null,
      "metadata": {
        "colab": {
          "base_uri": "https://localhost:8080/"
        },
        "outputId": "474822e4-2f63-4889-b998-e7bcde3a14b0",
        "id": "nf-3DDoGpVHF"
      },
      "outputs": [
        {
          "output_type": "stream",
          "name": "stdout",
          "text": [
            "\n",
            "+---------------------------------------+\n",
            "| THANK YOU FOR USING THE SECRET SHARER |\n",
            "+---------------------------------------+\n",
            "\n",
            " True secrets inserted: 10\n",
            " False secrets inserted: 2\n",
            " Randomness space: 100\n",
            " Training epochs: 30\n",
            " Batch size: 256\n",
            " Secret text: 'my permanent code is 73 04'\n",
            "\n",
            "-----------------------------------------\n",
            "\n",
            "preparing data...\n"
          ]
        }
      ],
      "source": [
        "# 0. EXPERIMENTAL SETUP ====================================\n",
        "\n",
        "# how many copies of the secret do we insert?\n",
        "numTrueSecrets = 10\n",
        "# how many 'noisy' secrets do we insert?\n",
        "numFalseSecrets = 2\n",
        "# how many ticks are on our lock?\n",
        "numDistinctValues = 100\n",
        "# how long should we train the model?\n",
        "numEpochs = 30\n",
        "batchSize = 256\n",
        "\n",
        "# what form should the secret take?\n",
        "secretPref = \"my permanent code is \"\n",
        "seqLength = len(secretPref.split())\n",
        "gramSize = seqLength + 1\n",
        "\n",
        "# randomness space\n",
        "secretLength = 2\n",
        "bigR = numDistinctValues ** secretLength\n",
        "\n",
        "# generate a random secret\n",
        "secretText = generateSecret(secretLength, numDistinctValues)\n",
        "insertedSecret = secretPref + secretText\n",
        "\n",
        "print(\"\\n+---------------------------------------+\")\n",
        "print(\"| THANK YOU FOR USING THE SECRET SHARER |\")\n",
        "print(\"+---------------------------------------+\\n\")\n",
        "print(\" True secrets inserted:\", numTrueSecrets)\n",
        "print(\" False secrets inserted:\", numFalseSecrets)\n",
        "print(\" Randomness space:\", numDistinctValues)\n",
        "print(\" Training epochs:\", numEpochs)\n",
        "print(\" Batch size:\", batchSize)\n",
        "print(\" Secret text: '\", insertedSecret, \"'\\n\", sep = '')\n",
        "print(\"-----------------------------------------\")\n",
        "print(\"\\npreparing data...\")\n"
      ]
    },
    {
      "cell_type": "code",
      "execution_count": null,
      "metadata": {
        "id": "SofYHAE0pVHF"
      },
      "outputs": [],
      "source": [
        "d, rootId = enumerateSecrets(secretLength, numDistinctValues, rootId, secretPref)\n",
        "#d here is all possible secrets\n",
        "#for the number of false secrets that we ordered it sample from d and make a data fram with name noise out of that \n",
        "# get some noise from these fake secret to add to training\n",
        "\n",
        "if numFalseSecrets > 0:\n",
        "    noise = [d[i] for i in sorted(random.sample(range(len(d)), numFalseSecrets))]\n",
        "    noiseDF = pd.DataFrame(noise)\n",
        "\n",
        "testSecret = pd.DataFrame(d);\n",
        "#test data has all possible secrets in it now\n",
        "dataRawT = dataRawT.append(d)\n",
        "#data for dct\n",
        "dataRawdct = dataRaw.append(d)\n",
        "\n",
        "d = []\n",
        "# several in training data\n",
        "for i in range(numTrueSecrets):\n",
        "    d.append({'id' : rootId,\n",
        "              'text' : insertedSecret,\n",
        "              'noPunc' : insertedSecret,\n",
        "              'splchk' : insertedSecret})\n",
        "    rootId += 1\n",
        "#truesecrets add in train data\n",
        "trainSecret = pd.DataFrame(d)\n",
        "dataRawR = dataRawR.append(d)\n",
        "#also the noise is added to train set\n",
        "if numFalseSecrets > 0:\n",
        "    dataRawR = dataRawR.append(noiseDF)\n",
        "#the train set have true sectrets and false secrets while test set has all possible secrets\n",
        "\n",
        "# 2.4 SPLIT INTO OVERLAPPING SETS OF WORDS -----------000000\n",
        "\n",
        "d = []\n",
        "gid = 0\n",
        "for i in range(len(dataRawR)):\n",
        "    grams = ngrams(dataRawR.splchk.iloc[i].split(), gramSize)\n",
        "    for g in grams:\n",
        "        d.append({'id' : gid,\n",
        "                  'data' : g})   \n",
        "        gid += 1\n",
        "\n",
        "dataGramsR = pd.DataFrame(d)\n",
        "\n",
        "d = []\n",
        "for i in range(len(dataRawV)):\n",
        "    grams = ngrams(dataRawV.splchk.iloc[i].split(), gramSize)\n",
        "    for g in grams:\n",
        "        d.append({'id' : gid,\n",
        "                  'data' : g})   \n",
        "        gid += 1\n",
        "\n",
        "dataGramsV = pd.DataFrame(d)\n",
        "\n",
        "d = []\n",
        "for i in range(len(dataRawT)):\n",
        "    grams = ngrams(dataRawT.splchk.iloc[i].split(), gramSize)\n",
        "    for g in grams:\n",
        "        d.append({'id' : gid,\n",
        "                  'data' : g})   \n",
        "        gid += 1\n",
        "\n",
        "dataGramsT = pd.DataFrame(d)"
      ]
    },
    {
      "cell_type": "code",
      "execution_count": null,
      "metadata": {
        "id": "EAW1af88pVHG"
      },
      "outputs": [],
      "source": [
        "# word IDs\n",
        "#dct from dataRaw\n",
        "dct = dict()\n",
        "# word frequencies\n",
        "dctFreq = dict()\n",
        "did = 0\n",
        "for i in range(len(dataRawdct)):\n",
        "    s = dataRawdct.splchk.iloc[i].split()\n",
        "    for w in s:\n",
        "        if w not in dct:\n",
        "            dct[w] = did\n",
        "            did += 1\n",
        "            dctFreq[w] = 1\n",
        "        else:\n",
        "            dctFreq[w] += 1"
      ]
    },
    {
      "cell_type": "code",
      "execution_count": null,
      "metadata": {
        "id": "mSjR2Be7pVHG"
      },
      "outputs": [],
      "source": [
        "dctNoSingle = dict()\n",
        "did = 0\n",
        "for w in list(dct.keys()):\n",
        "    if dctFreq[w] !=1:\n",
        "        dctNoSingle[w] = did\n",
        "        did += 1\n",
        "        \n",
        "dct = dctNoSingle"
      ]
    },
    {
      "cell_type": "code",
      "execution_count": null,
      "metadata": {
        "id": "TvEWi1yupVHG"
      },
      "outputs": [],
      "source": [
        "def noSingleUseWords(tup):\n",
        "    for w in tup:\n",
        "        if w not in dct:\n",
        "            return False\n",
        "    return True\n",
        "\n",
        "dataGramsR = dataGramsR[dataGramsR['data'].apply(noSingleUseWords) == True]\n",
        "dataGramsT = dataGramsT[dataGramsT['data'].apply(noSingleUseWords) == True]\n",
        "dataGramsV = dataGramsV[dataGramsV['data'].apply(noSingleUseWords) == True]\n"
      ]
    },
    {
      "cell_type": "code",
      "execution_count": null,
      "metadata": {
        "id": "XTIC0hU3pVHH"
      },
      "outputs": [],
      "source": [
        "def encodeText(tup):\n",
        "    code = [None] * len(tup)\n",
        "    for i in range(len(tup)):\n",
        "        code[i] = dct[tup[i]]  \n",
        "    return tuple(code)\n",
        "\n",
        "dataGramsR['codes'] = dataGramsR['data'].apply(encodeText)\n",
        "dataGramsT['codes'] = dataGramsT['data'].apply(encodeText)\n",
        "dataGramsV['codes'] = dataGramsV['data'].apply(encodeText)\n"
      ]
    },
    {
      "cell_type": "code",
      "execution_count": null,
      "metadata": {
        "id": "hLyS9UpppVHH"
      },
      "outputs": [],
      "source": [
        "dataGramsR['x'] = dataGramsR['codes'].apply(dataSplit)\n",
        "dataGramsR['y'] = dataGramsR['codes'].apply(labelSplit)\n",
        "\n",
        "dataGramsT['x'] = dataGramsT['codes'].apply(dataSplit)\n",
        "dataGramsT['y'] = dataGramsT['codes'].apply(labelSplit)\n",
        "\n",
        "dataGramsV['x'] = dataGramsV['codes'].apply(dataSplit)\n",
        "dataGramsV['y'] = dataGramsV['codes'].apply(labelSplit)\n"
      ]
    },
    {
      "cell_type": "code",
      "execution_count": null,
      "metadata": {
        "id": "_LqZuVAgpVHH"
      },
      "outputs": [],
      "source": [
        "# training\n",
        "xr = np.zeros((len(dataGramsR), seqLength), dtype = int) \n",
        "yr = np.zeros((len(dataGramsR)), dtype = int)\n",
        "for i in range(len(dataGramsR)):\n",
        "    for j in range(len(dataGramsR.x.iloc[i])):\n",
        "        xr[i][j] = dataGramsR.x.iloc[i][j]\n",
        "    yr[i] = dataGramsR.y.iloc[i]\n",
        "\n",
        "# validation\n",
        "xv = np.zeros((len(dataGramsV), seqLength), dtype = int)\n",
        "yv = np.zeros((len(dataGramsV)), dtype = int)    \n",
        "for i in range(len(dataGramsV)):\n",
        "    for j in range(len(dataGramsV.x.iloc[i])):\n",
        "        xv[i][j] = dataGramsV.x.iloc[i][j]\n",
        "    yv[i] = dataGramsV.y.iloc[i]\n",
        "    \n",
        "# testing\n",
        "xt = np.zeros((len(dataGramsT), seqLength), dtype = int)\n",
        "yt = np.zeros((len(dataGramsT)), dtype = int)\n",
        "for i in range(len(dataGramsT)):\n",
        "    for j in range(len(dataGramsT.x.iloc[i])):\n",
        "        xt[i][j] = dataGramsT.x.iloc[i][j]\n",
        "    yt[i] = dataGramsT.y.iloc[i]\n"
      ]
    },
    {
      "cell_type": "code",
      "source": [
        "#to add numbers that are not in dictionary to the dictionary\n",
        "counter = len(dct)\n",
        "for i in range(150):\n",
        "  if str(i) not in dct:\n",
        "    counter += 1\n",
        "    dct[str(i)] = counter"
      ],
      "metadata": {
        "id": "3FzUz1ylpVHH"
      },
      "execution_count": null,
      "outputs": []
    },
    {
      "cell_type": "code",
      "source": [
        "vocabSize = len(dct)\n",
        "vocabSize"
      ],
      "metadata": {
        "colab": {
          "base_uri": "https://localhost:8080/"
        },
        "outputId": "056e6730-92c8-4398-fa29-eeaf094452f7",
        "id": "xIa240DDpVHH"
      },
      "execution_count": null,
      "outputs": [
        {
          "output_type": "execute_result",
          "data": {
            "text/plain": [
              "9558"
            ]
          },
          "metadata": {},
          "execution_count": 325
        }
      ]
    },
    {
      "cell_type": "code",
      "execution_count": null,
      "metadata": {
        "id": "_pzVE-J2pVHH"
      },
      "outputs": [],
      "source": [
        "# 5.1 ONE-HOT ENCODE LABEL DATA ----------------------------\n",
        "# training\n",
        "\n",
        "\n",
        "b = np.zeros((len(yr), vocabSize))\n",
        "b[np.arange(len(yr)), yr] = 1\n"
      ]
    },
    {
      "cell_type": "code",
      "execution_count": null,
      "metadata": {
        "id": "B3Jsis7dpVHI"
      },
      "outputs": [],
      "source": [
        "# validation\n",
        "\n",
        "\n",
        "bv = np.zeros((len(yv), vocabSize))\n",
        "bv[np.arange(len(yv)), yv] = 1\n"
      ]
    },
    {
      "cell_type": "code",
      "execution_count": null,
      "metadata": {
        "id": "pOKBK97UpVHI"
      },
      "outputs": [],
      "source": [
        "import sys\n",
        "import numpy as np\n"
      ]
    },
    {
      "cell_type": "code",
      "execution_count": null,
      "metadata": {
        "id": "cpovlUz7pVHI"
      },
      "outputs": [],
      "source": [
        "import tensorflow as tf\n",
        "tf.test.gpu_device_name()"
      ]
    },
    {
      "cell_type": "code",
      "execution_count": null,
      "metadata": {
        "id": "69Sxxr4fpVHI"
      },
      "outputs": [],
      "source": [
        "from keras.utils.vis_utils import plot_model"
      ]
    },
    {
      "cell_type": "code",
      "execution_count": null,
      "metadata": {
        "id": "pLN0ttpppVHI"
      },
      "outputs": [],
      "source": [
        "tf.keras.backend.clear_session()"
      ]
    },
    {
      "cell_type": "code",
      "execution_count": null,
      "metadata": {
        "id": "Sxeb4c7upVHI"
      },
      "outputs": [],
      "source": [
        "# 5.2 COMPILE MODEL ----------------------------------------\n",
        "model = Sequential()\n",
        "model.add(Embedding(vocabSize, seqLength, input_length = seqLength))\n",
        "model.add(LSTM(100, return_sequences = True))\n",
        "model.add(LSTM(100))\n",
        "model.add(Dense(100, activation = 'relu'))\n",
        "model.add(Dense(vocabSize, activation = 'softmax'))\n",
        "\n",
        "model.compile(loss = 'categorical_crossentropy', optimizer = 'adam', metrics = ['accuracy'])"
      ]
    },
    {
      "cell_type": "code",
      "execution_count": null,
      "metadata": {
        "id": "yBf2jvvhpVHI"
      },
      "outputs": [],
      "source": [
        "#plot_model(model, to_file='LSTM_plot.png', show_shapes=True, show_layer_names=True)"
      ]
    },
    {
      "cell_type": "code",
      "execution_count": null,
      "metadata": {
        "id": "xcF6BdNRpVHJ"
      },
      "outputs": [],
      "source": [
        "print(\"training model...\")\n",
        "history = model.fit(xr, b, batch_size = batchSize, epochs = numEpochs, verbose = True,\n",
        "                    validation_data = (xv, bv))"
      ]
    },
    {
      "cell_type": "code",
      "source": [
        "scores = model.evaluate(xv, bv, verbose=2)\n",
        "print(\"Accuracy: %.2f%%\" % (scores[1]*100))"
      ],
      "metadata": {
        "id": "GvJQwz6JpVHJ"
      },
      "execution_count": null,
      "outputs": []
    },
    {
      "cell_type": "code",
      "execution_count": null,
      "metadata": {
        "id": "Tp4FmgWJpVHJ"
      },
      "outputs": [],
      "source": [
        "# import joblib\n",
        "# joblib.dump(model, 'RQ7-50epc.sav')"
      ]
    },
    {
      "cell_type": "code",
      "source": [
        "#import joblib\n",
        "#loaded_model = joblib.load('smslstmsec1.sav')"
      ],
      "metadata": {
        "id": "nPO2yVR3pVHJ"
      },
      "execution_count": null,
      "outputs": []
    },
    {
      "cell_type": "markdown",
      "source": [
        "### **Exposure**"
      ],
      "metadata": {
        "id": "IjBqONWsNQaj"
      }
    },
    {
      "cell_type": "code",
      "execution_count": null,
      "metadata": {
        "id": "96QphS2R-IK8",
        "colab": {
          "base_uri": "https://localhost:8080/"
        },
        "outputId": "7d041154-3366-4ac2-bda2-ed69b9df933f"
      },
      "outputs": [
        {
          "output_type": "stream",
          "name": "stdout",
          "text": [
            "calculating exposure...\n"
          ]
        },
        {
          "output_type": "stream",
          "name": "stderr",
          "text": [
            "/usr/local/lib/python3.8/dist-packages/keras/engine/training_v1.py:2067: UserWarning: `Model.state_updates` will be removed in a future version. This property should not be used in TensorFlow 2.0, as `updates` are applied automatically.\n",
            "  updates=self.state_updates,\n"
          ]
        }
      ],
      "source": [
        "#6.CALCULATE EXPOSURE ====================================\n",
        "print(\"calculating exposure...\")\n",
        "\n",
        "#6.1 ENUMERATE OVER EVERY POSSIBLE SECRET -----------------\n",
        "#why start is this?\n",
        "start = len(xt)-secretLength*(numDistinctValues**secretLength)\n",
        "\n",
        "#here we have 100 vectors of len 100\n",
        "p0 = np.ones((numDistinctValues, numDistinctValues), dtype = float)\n",
        "for i in range(start, len(xt), 2 * numDistinctValues):\n",
        "    #print(i)\n",
        "    #this k creates 0 to 99 index\n",
        "    k = int((i-start) / (2 * numDistinctValues))\n",
        "    #print(k)\n",
        "    #here in this for loop we will fill each of 100 vectors by numeric probs function\n",
        "    #what is the values in numeric probs?\n",
        "    #here in p0 we have 100 probs value for 100 possible numbers (from 0 to 99) that can be the next prediction\n",
        "    p0[k] = numericProbs(xt, numDistinctValues, dct, seqLength, model, i)\n",
        "    # this is the prediction for the next index\n",
        "    # we know that a secret devide into two parts for prediction, once the first numeric value then the second\n",
        "    p1 = numericProbs(xt, numDistinctValues, dct, seqLength, model, i + 1)\n",
        "    # then here we have prob for a combination each time, what is the prob of observing 09 18 for example\n",
        "    #the len would be 10000 since the we set numDistinctValues to 100\n",
        "    # we have prob for each combination here to see after the phrase \"my permanent code is\"\n",
        "    p0[k] = p0[k][k] * p1\n",
        "\n",
        "    #then we sort these \n",
        "scoresRaw = np.argsort(p0, None)[::-1]"
      ]
    },
    {
      "cell_type": "code",
      "source": [
        "# 6.2 CALCULATE RANKS OF ALL SECRETS -----------------------\n",
        "d = []\n",
        "for i in range(len(scoresRaw)):\n",
        "    d.append({'rank' : i + 1,\n",
        "              'secret1' : int(scoresRaw[i] / numDistinctValues),\n",
        "              'secret2' : scoresRaw[i] % numDistinctValues,\n",
        "              'secretActual1' : int(insertedSecret.split()[-2]),\n",
        "              'secretActual2' : int(insertedSecret.split()[-1])})"
      ],
      "metadata": {
        "id": "onswVihL3v9u"
      },
      "execution_count": null,
      "outputs": []
    },
    {
      "cell_type": "code",
      "source": [
        "# 6.3 CALCULATE EXPOSURE OF INSERTED SECRET ----------------\n",
        "secretRanks = pd.DataFrame(d)\n",
        "secretMatch1 = secretRanks[secretRanks.secret1 == secretRanks.secretActual1]\n",
        "secretMatch2 = int(secretMatch1[secretMatch1.secret2 == secretMatch1.secretActual2]['rank'])\n",
        "\n",
        "exposure = log(bigR, 2) - log(secretMatch2, 2)"
      ],
      "metadata": {
        "id": "CQ5BLw6cV-xR"
      },
      "execution_count": null,
      "outputs": []
    },
    {
      "cell_type": "code",
      "source": [
        "#max exposure\n",
        "log(bigR, 2)"
      ],
      "metadata": {
        "colab": {
          "base_uri": "https://localhost:8080/"
        },
        "id": "qyqTIM3MAkcQ",
        "outputId": "0bff74f3-97a4-4ce3-872f-2e2e2a76ca4a"
      },
      "execution_count": null,
      "outputs": [
        {
          "output_type": "execute_result",
          "data": {
            "text/plain": [
              "13.28771237954945"
            ]
          },
          "metadata": {},
          "execution_count": 86
        }
      ]
    },
    {
      "cell_type": "code",
      "source": [
        "exposure"
      ],
      "metadata": {
        "colab": {
          "base_uri": "https://localhost:8080/"
        },
        "id": "ZsuTrO2JUVM3",
        "outputId": "b990719b-e6a5-4dea-efbc-cef4ed719613"
      },
      "execution_count": null,
      "outputs": [
        {
          "output_type": "execute_result",
          "data": {
            "text/plain": [
              "5.429731384421879"
            ]
          },
          "metadata": {},
          "execution_count": 87
        }
      ]
    },
    {
      "cell_type": "code",
      "execution_count": null,
      "metadata": {
        "id": "fno6A0NmaDq9"
      },
      "outputs": [],
      "source": [
        "# # 6.4 APPEND RESULTS TO DATA SET ---------------------------\n",
        "# d = []\n",
        "# d.append({'numEpochs' : numEpochs,\n",
        "#           'batchSize' : batchSize,\n",
        "#           'numTrueSecrets' : numTrueSecrets,\n",
        "#           'numFalseSecrets' : numFalseSecrets,\n",
        "#           'randomnessSpace' : numDistinctValues,\n",
        "#           'secretPrefixLength' : seqLength,\n",
        "#           'secretType' : secretPref,\n",
        "#           'exposure': exposure})\n",
        "\n",
        "# results = pd.DataFrame(d)\n",
        "\n",
        "# fileName = \"RQ5-word2vec-3.csv\"\n",
        "# # if file does not exist write header \n",
        "# if not os.path.isfile(fileName):\n",
        "#    results.to_csv(fileName, sep = ',', index = False)\n",
        "# else: # else it exists so append without writing the header\n",
        "#    results.to_csv(fileName, mode = 'a', sep = ',', header = False, index = False)\n",
        "# \"\"\"\n",
        "# h = history.history\n",
        "# h1 = h['acc']\n",
        "# h2 = h['val_acc']\n",
        "# h1df = pd.DataFrame(h1)\n",
        "# h2df = pd.DataFrame(h2)\n",
        "# h1df.to_csv(\"trainAcc.csv\", sep = \",\", index = False)\n",
        "# h2df.to_csv(\"valAcc.csv\", sep = \",\", index = False)\n",
        "# \"\"\""
      ]
    }
  ]
}